{
  "nbformat": 4,
  "nbformat_minor": 0,
  "metadata": {
    "colab": {
      "name": "NLP Practice (PUBMed).ipynb",
      "provenance": [],
      "collapsed_sections": [],
      "authorship_tag": "ABX9TyOWPZ2D2b4BfGILMDEAvcc+",
      "include_colab_link": true
    },
    "kernelspec": {
      "name": "python3",
      "display_name": "Python 3"
    },
    "language_info": {
      "name": "python"
    },
    "accelerator": "GPU"
  },
  "cells": [
    {
      "cell_type": "markdown",
      "metadata": {
        "id": "view-in-github",
        "colab_type": "text"
      },
      "source": [
        "<a href=\"https://colab.research.google.com/github/Prateek-Bhardwaj/Machine-Learning-Projects/blob/main/NLP_Practice_(PUBMed).ipynb\" target=\"_parent\"><img src=\"https://colab.research.google.com/assets/colab-badge.svg\" alt=\"Open In Colab\"/></a>"
      ]
    },
    {
      "cell_type": "markdown",
      "metadata": {
        "id": "uKZA1_Di0fXr"
      },
      "source": [
        "### PUBMED Paper (NLP)\n",
        "IN this notebook we are goint to create aa NLP model to classify abstract sentences into the role the play. We are going to get through some of the best model experiment using the *TENSORFLOW*"
      ]
    },
    {
      "cell_type": "code",
      "metadata": {
        "colab": {
          "base_uri": "https://localhost:8080/"
        },
        "id": "KQ08gxG1XaZO",
        "outputId": "8e96bf26-bb98-4f98-a87b-4086a2270ec0"
      },
      "source": [
        "!nvidia-smi -L"
      ],
      "execution_count": null,
      "outputs": [
        {
          "output_type": "stream",
          "name": "stdout",
          "text": [
            "GPU 0: Tesla K80 (UUID: GPU-5253afff-3a9f-fd79-b3d4-511f02d05a69)\n"
          ]
        }
      ]
    },
    {
      "cell_type": "markdown",
      "metadata": {
        "id": "j8ekyHB71MR7"
      },
      "source": [
        "Downloading the dataset. The dataset is consist of 4 different parts i.e.\n",
        "* `PubMed_200k_RCT` (Which contains full data)\n",
        "* `PubMed_200k_RCT_numbers_replaced_with_at_sign` ( with numbers replaced with @ signs)\n",
        "* `PubMed_20k_RCT` (Which is subset of 200k dataset )\n",
        "* `PubMed_20k_RCT_numbers_replaced_with_at_sign` (Subset of 200k dataset with numbers replaced with @ sign) "
      ]
    },
    {
      "cell_type": "code",
      "metadata": {
        "colab": {
          "base_uri": "https://localhost:8080/"
        },
        "id": "DZ-YI9VtYIo4",
        "outputId": "cd78da5e-c4fb-40c1-f521-f7154b1dfe48"
      },
      "source": [
        "!git clone https://github.com/Franck-Dernoncourt/pubmed-rct.git"
      ],
      "execution_count": null,
      "outputs": [
        {
          "output_type": "stream",
          "name": "stdout",
          "text": [
            "Cloning into 'pubmed-rct'...\n",
            "remote: Enumerating objects: 33, done.\u001b[K\n",
            "remote: Counting objects: 100% (3/3), done.\u001b[K\n",
            "remote: Compressing objects: 100% (3/3), done.\u001b[K\n",
            "remote: Total 33 (delta 0), reused 0 (delta 0), pack-reused 30\u001b[K\n",
            "Unpacking objects: 100% (33/33), done.\n"
          ]
        }
      ]
    },
    {
      "cell_type": "code",
      "metadata": {
        "colab": {
          "base_uri": "https://localhost:8080/"
        },
        "id": "cznhttVecLxr",
        "outputId": "d1b185dc-1a26-4971-e652-bd6bc4320d9c"
      },
      "source": [
        "!ls pubmed-rct/"
      ],
      "execution_count": null,
      "outputs": [
        {
          "output_type": "stream",
          "name": "stdout",
          "text": [
            "PubMed_200k_RCT\n",
            "PubMed_200k_RCT_numbers_replaced_with_at_sign\n",
            "PubMed_20k_RCT\n",
            "PubMed_20k_RCT_numbers_replaced_with_at_sign\n",
            "README.md\n"
          ]
        }
      ]
    },
    {
      "cell_type": "markdown",
      "metadata": {
        "id": "ofN_ZTb_2oTe"
      },
      "source": [
        "The data is divided into 3 parts\n",
        "1. `dev.txt` -> validation dataset\n",
        "2. `test.txt` -> test dataset\n",
        "3. `train.txt` -> train dataset"
      ]
    },
    {
      "cell_type": "code",
      "metadata": {
        "colab": {
          "base_uri": "https://localhost:8080/"
        },
        "id": "MuCmgPcFcWY4",
        "outputId": "f19a26b2-4097-4fff-dbba-71d37edaeaf3"
      },
      "source": [
        "!ls pubmed-rct/PubMed_20k_RCT_numbers_replaced_with_at_sign/"
      ],
      "execution_count": null,
      "outputs": [
        {
          "output_type": "stream",
          "name": "stdout",
          "text": [
            "dev.txt  test.txt  train.txt\n"
          ]
        }
      ]
    },
    {
      "cell_type": "code",
      "metadata": {
        "id": "fKwoSIqrDUFz"
      },
      "source": [
        "data_dir = \"pubmed-rct/PubMed_20k_RCT_numbers_replaced_with_at_sign/\""
      ],
      "execution_count": null,
      "outputs": []
    },
    {
      "cell_type": "code",
      "metadata": {
        "id": "LcsqaLj19sAY"
      },
      "source": [
        "def getlines(filepath):\n",
        "  with open(filepath,'r') as f:\n",
        "    return f.readlines()"
      ],
      "execution_count": null,
      "outputs": []
    },
    {
      "cell_type": "code",
      "metadata": {
        "colab": {
          "base_uri": "https://localhost:8080/"
        },
        "id": "mAu0497iDK4u",
        "outputId": "cd30e220-5435-486b-df30-4ceea399dac7"
      },
      "source": [
        "lines = getlines(data_dir+\"train.txt\")\n",
        "lines[:10]"
      ],
      "execution_count": null,
      "outputs": [
        {
          "output_type": "execute_result",
          "data": {
            "text/plain": [
              "['###24293578\\n',\n",
              " 'OBJECTIVE\\tTo investigate the efficacy of @ weeks of daily low-dose oral prednisolone in improving pain , mobility , and systemic low-grade inflammation in the short term and whether the effect would be sustained at @ weeks in older adults with moderate to severe knee osteoarthritis ( OA ) .\\n',\n",
              " 'METHODS\\tA total of @ patients with primary knee OA were randomized @:@ ; @ received @ mg/day of prednisolone and @ received placebo for @ weeks .\\n',\n",
              " 'METHODS\\tOutcome measures included pain reduction and improvement in function scores and systemic inflammation markers .\\n',\n",
              " 'METHODS\\tPain was assessed using the visual analog pain scale ( @-@ mm ) .\\n',\n",
              " 'METHODS\\tSecondary outcome measures included the Western Ontario and McMaster Universities Osteoarthritis Index scores , patient global assessment ( PGA ) of the severity of knee OA , and @-min walk distance ( @MWD ) .\\n',\n",
              " 'METHODS\\tSerum levels of interleukin @ ( IL-@ ) , IL-@ , tumor necrosis factor ( TNF ) - , and high-sensitivity C-reactive protein ( hsCRP ) were measured .\\n',\n",
              " 'RESULTS\\tThere was a clinically relevant reduction in the intervention group compared to the placebo group for knee pain , physical function , PGA , and @MWD at @ weeks .\\n',\n",
              " 'RESULTS\\tThe mean difference between treatment arms ( @ % CI ) was @ ( @-@ @ ) , p < @ ; @ ( @-@ @ ) , p < @ ; @ ( @-@ @ ) , p < @ ; and @ ( @-@ @ ) , p < @ , respectively .\\n',\n",
              " 'RESULTS\\tFurther , there was a clinically relevant reduction in the serum levels of IL-@ , IL-@ , TNF - , and hsCRP at @ weeks in the intervention group when compared to the placebo group .\\n']"
            ]
          },
          "metadata": {},
          "execution_count": 6
        }
      ]
    },
    {
      "cell_type": "markdown",
      "metadata": {
        "id": "ygiXBCbW3DR3"
      },
      "source": [
        "creating function to preprocess data and converting them into pandas dataframes"
      ]
    },
    {
      "cell_type": "code",
      "metadata": {
        "id": "BF6pyQsWDehS"
      },
      "source": [
        "def preprocess_text_data(filepath):\n",
        "  all_lines = getlines(filepath)\n",
        "  abstract_lines = \"\"\n",
        "  abstract_samples = []\n",
        "  for line in all_lines:\n",
        "    if line.startswith(\"###\"):\n",
        "      abstract_id = line\n",
        "      abstract_lines = \"\"\n",
        "    elif line.isspace():\n",
        "      abstract_line_split = abstract_lines.splitlines()\n",
        "      for line_number, line_text in enumerate(abstract_line_split):\n",
        "        dict = {}\n",
        "        target_text_split = line_text.split(\"\\t\")\n",
        "        dict[\"line number\"] = line_number\n",
        "        dict[\"target\"] = target_text_split[0]\n",
        "        dict[\"text\"] = target_text_split[1].lower()\n",
        "        dict[\"total lines\"] = len(abstract_line_split)-1\n",
        "        abstract_samples.append(dict)\n",
        "\n",
        "    else:\n",
        "      abstract_lines += line\n",
        "  return abstract_samples"
      ],
      "execution_count": null,
      "outputs": []
    },
    {
      "cell_type": "code",
      "metadata": {
        "id": "3YLMWj_SZ4hZ"
      },
      "source": [
        "train_samples = preprocess_text_data(data_dir+\"train.txt\")\n",
        "val_samples = preprocess_text_data(data_dir+\"dev.txt\")\n",
        "test_samples = preprocess_text_data(data_dir+\"test.txt\")"
      ],
      "execution_count": null,
      "outputs": []
    },
    {
      "cell_type": "code",
      "metadata": {
        "colab": {
          "base_uri": "https://localhost:8080/"
        },
        "id": "eM-DFZY_cR1Q",
        "outputId": "bd563ddf-86ac-454f-9fd5-62e7ee1bcd1e"
      },
      "source": [
        "train_samples[:10]"
      ],
      "execution_count": null,
      "outputs": [
        {
          "output_type": "execute_result",
          "data": {
            "text/plain": [
              "[{'line number': 0,\n",
              "  'target': 'OBJECTIVE',\n",
              "  'text': 'to investigate the efficacy of @ weeks of daily low-dose oral prednisolone in improving pain , mobility , and systemic low-grade inflammation in the short term and whether the effect would be sustained at @ weeks in older adults with moderate to severe knee osteoarthritis ( oa ) .',\n",
              "  'total lines': 11},\n",
              " {'line number': 1,\n",
              "  'target': 'METHODS',\n",
              "  'text': 'a total of @ patients with primary knee oa were randomized @:@ ; @ received @ mg/day of prednisolone and @ received placebo for @ weeks .',\n",
              "  'total lines': 11},\n",
              " {'line number': 2,\n",
              "  'target': 'METHODS',\n",
              "  'text': 'outcome measures included pain reduction and improvement in function scores and systemic inflammation markers .',\n",
              "  'total lines': 11},\n",
              " {'line number': 3,\n",
              "  'target': 'METHODS',\n",
              "  'text': 'pain was assessed using the visual analog pain scale ( @-@ mm ) .',\n",
              "  'total lines': 11},\n",
              " {'line number': 4,\n",
              "  'target': 'METHODS',\n",
              "  'text': 'secondary outcome measures included the western ontario and mcmaster universities osteoarthritis index scores , patient global assessment ( pga ) of the severity of knee oa , and @-min walk distance ( @mwd ) .',\n",
              "  'total lines': 11},\n",
              " {'line number': 5,\n",
              "  'target': 'METHODS',\n",
              "  'text': 'serum levels of interleukin @ ( il-@ ) , il-@ , tumor necrosis factor ( tnf ) - , and high-sensitivity c-reactive protein ( hscrp ) were measured .',\n",
              "  'total lines': 11},\n",
              " {'line number': 6,\n",
              "  'target': 'RESULTS',\n",
              "  'text': 'there was a clinically relevant reduction in the intervention group compared to the placebo group for knee pain , physical function , pga , and @mwd at @ weeks .',\n",
              "  'total lines': 11},\n",
              " {'line number': 7,\n",
              "  'target': 'RESULTS',\n",
              "  'text': 'the mean difference between treatment arms ( @ % ci ) was @ ( @-@ @ ) , p < @ ; @ ( @-@ @ ) , p < @ ; @ ( @-@ @ ) , p < @ ; and @ ( @-@ @ ) , p < @ , respectively .',\n",
              "  'total lines': 11},\n",
              " {'line number': 8,\n",
              "  'target': 'RESULTS',\n",
              "  'text': 'further , there was a clinically relevant reduction in the serum levels of il-@ , il-@ , tnf - , and hscrp at @ weeks in the intervention group when compared to the placebo group .',\n",
              "  'total lines': 11},\n",
              " {'line number': 9,\n",
              "  'target': 'RESULTS',\n",
              "  'text': 'these differences remained significant at @ weeks .',\n",
              "  'total lines': 11}]"
            ]
          },
          "metadata": {},
          "execution_count": 9
        }
      ]
    },
    {
      "cell_type": "code",
      "metadata": {
        "id": "9zTlGCcPd1ej"
      },
      "source": [
        "import pandas as pd\n",
        "train_df = pd.DataFrame(train_samples)\n",
        "val_df = pd.DataFrame(val_samples)\n",
        "test_df = pd.DataFrame(test_samples)"
      ],
      "execution_count": null,
      "outputs": []
    },
    {
      "cell_type": "code",
      "metadata": {
        "colab": {
          "base_uri": "https://localhost:8080/",
          "height": 202
        },
        "id": "G12sI_e0gGMI",
        "outputId": "ae842361-8d88-4fd5-8e8c-be23edf573a8"
      },
      "source": [
        "train_df.head()"
      ],
      "execution_count": null,
      "outputs": [
        {
          "output_type": "execute_result",
          "data": {
            "text/html": [
              "<div>\n",
              "<style scoped>\n",
              "    .dataframe tbody tr th:only-of-type {\n",
              "        vertical-align: middle;\n",
              "    }\n",
              "\n",
              "    .dataframe tbody tr th {\n",
              "        vertical-align: top;\n",
              "    }\n",
              "\n",
              "    .dataframe thead th {\n",
              "        text-align: right;\n",
              "    }\n",
              "</style>\n",
              "<table border=\"1\" class=\"dataframe\">\n",
              "  <thead>\n",
              "    <tr style=\"text-align: right;\">\n",
              "      <th></th>\n",
              "      <th>line number</th>\n",
              "      <th>target</th>\n",
              "      <th>text</th>\n",
              "      <th>total lines</th>\n",
              "    </tr>\n",
              "  </thead>\n",
              "  <tbody>\n",
              "    <tr>\n",
              "      <th>0</th>\n",
              "      <td>0</td>\n",
              "      <td>OBJECTIVE</td>\n",
              "      <td>to investigate the efficacy of @ weeks of dail...</td>\n",
              "      <td>11</td>\n",
              "    </tr>\n",
              "    <tr>\n",
              "      <th>1</th>\n",
              "      <td>1</td>\n",
              "      <td>METHODS</td>\n",
              "      <td>a total of @ patients with primary knee oa wer...</td>\n",
              "      <td>11</td>\n",
              "    </tr>\n",
              "    <tr>\n",
              "      <th>2</th>\n",
              "      <td>2</td>\n",
              "      <td>METHODS</td>\n",
              "      <td>outcome measures included pain reduction and i...</td>\n",
              "      <td>11</td>\n",
              "    </tr>\n",
              "    <tr>\n",
              "      <th>3</th>\n",
              "      <td>3</td>\n",
              "      <td>METHODS</td>\n",
              "      <td>pain was assessed using the visual analog pain...</td>\n",
              "      <td>11</td>\n",
              "    </tr>\n",
              "    <tr>\n",
              "      <th>4</th>\n",
              "      <td>4</td>\n",
              "      <td>METHODS</td>\n",
              "      <td>secondary outcome measures included the wester...</td>\n",
              "      <td>11</td>\n",
              "    </tr>\n",
              "  </tbody>\n",
              "</table>\n",
              "</div>"
            ],
            "text/plain": [
              "   line number  ... total lines\n",
              "0            0  ...          11\n",
              "1            1  ...          11\n",
              "2            2  ...          11\n",
              "3            3  ...          11\n",
              "4            4  ...          11\n",
              "\n",
              "[5 rows x 4 columns]"
            ]
          },
          "metadata": {},
          "execution_count": 11
        }
      ]
    },
    {
      "cell_type": "code",
      "metadata": {
        "id": "xG3YtokKgJJS"
      },
      "source": [
        "train_lines = train_df[\"text\"].tolist()\n",
        "val_lines = val_df[\"text\"].tolist()\n",
        "test_lines = test_df[\"text\"].tolist()"
      ],
      "execution_count": null,
      "outputs": []
    },
    {
      "cell_type": "code",
      "metadata": {
        "colab": {
          "base_uri": "https://localhost:8080/"
        },
        "id": "HVrY1OOvgi2b",
        "outputId": "ba9dd14f-f358-444a-b760-0f93d000c8d5"
      },
      "source": [
        "train_lines[:10]"
      ],
      "execution_count": null,
      "outputs": [
        {
          "output_type": "execute_result",
          "data": {
            "text/plain": [
              "['to investigate the efficacy of @ weeks of daily low-dose oral prednisolone in improving pain , mobility , and systemic low-grade inflammation in the short term and whether the effect would be sustained at @ weeks in older adults with moderate to severe knee osteoarthritis ( oa ) .',\n",
              " 'a total of @ patients with primary knee oa were randomized @:@ ; @ received @ mg/day of prednisolone and @ received placebo for @ weeks .',\n",
              " 'outcome measures included pain reduction and improvement in function scores and systemic inflammation markers .',\n",
              " 'pain was assessed using the visual analog pain scale ( @-@ mm ) .',\n",
              " 'secondary outcome measures included the western ontario and mcmaster universities osteoarthritis index scores , patient global assessment ( pga ) of the severity of knee oa , and @-min walk distance ( @mwd ) .',\n",
              " 'serum levels of interleukin @ ( il-@ ) , il-@ , tumor necrosis factor ( tnf ) - , and high-sensitivity c-reactive protein ( hscrp ) were measured .',\n",
              " 'there was a clinically relevant reduction in the intervention group compared to the placebo group for knee pain , physical function , pga , and @mwd at @ weeks .',\n",
              " 'the mean difference between treatment arms ( @ % ci ) was @ ( @-@ @ ) , p < @ ; @ ( @-@ @ ) , p < @ ; @ ( @-@ @ ) , p < @ ; and @ ( @-@ @ ) , p < @ , respectively .',\n",
              " 'further , there was a clinically relevant reduction in the serum levels of il-@ , il-@ , tnf - , and hscrp at @ weeks in the intervention group when compared to the placebo group .',\n",
              " 'these differences remained significant at @ weeks .']"
            ]
          },
          "metadata": {},
          "execution_count": 13
        }
      ]
    },
    {
      "cell_type": "markdown",
      "metadata": {
        "id": "mJ7YM3L5glti"
      },
      "source": [
        "### Encoding Our targets\n",
        "\n",
        "\n"
      ]
    },
    {
      "cell_type": "code",
      "metadata": {
        "id": "M4g0HpKXm6WD"
      },
      "source": [
        "from sklearn.preprocessing import OneHotEncoder\n",
        "one_hot = OneHotEncoder(sparse = False)\n",
        "train_one_hot = one_hot.fit_transform(train_df[\"target\"].to_numpy().reshape(-1,1))\n",
        "val_one_hot = one_hot.transform(val_df[\"target\"].to_numpy().reshape(-1,1))\n",
        "test_one_hot = one_hot.transform(test_df[\"target\"].to_numpy().reshape(-1,1))"
      ],
      "execution_count": null,
      "outputs": []
    },
    {
      "cell_type": "code",
      "metadata": {
        "colab": {
          "base_uri": "https://localhost:8080/"
        },
        "id": "gOMO0I8LnS7A",
        "outputId": "2362fc9e-c314-4fcf-883c-9934423cea7b"
      },
      "source": [
        "train_one_hot[:10]"
      ],
      "execution_count": null,
      "outputs": [
        {
          "output_type": "execute_result",
          "data": {
            "text/plain": [
              "array([[0., 0., 0., 1., 0.],\n",
              "       [0., 0., 1., 0., 0.],\n",
              "       [0., 0., 1., 0., 0.],\n",
              "       [0., 0., 1., 0., 0.],\n",
              "       [0., 0., 1., 0., 0.],\n",
              "       [0., 0., 1., 0., 0.],\n",
              "       [0., 0., 0., 0., 1.],\n",
              "       [0., 0., 0., 0., 1.],\n",
              "       [0., 0., 0., 0., 1.],\n",
              "       [0., 0., 0., 0., 1.]])"
            ]
          },
          "metadata": {},
          "execution_count": 15
        }
      ]
    },
    {
      "cell_type": "code",
      "metadata": {
        "id": "_vznmHGvn_bn"
      },
      "source": [
        "from sklearn.preprocessing import LabelEncoder\n",
        "label_encoder = LabelEncoder()\n",
        "train_label_encoder = label_encoder.fit_transform(train_df[\"target\"].to_numpy())\n",
        "val_label_encoder = label_encoder.fit_transform(val_df[\"target\"].to_numpy())\n",
        "test_label_encoder = label_encoder.fit_transform(test_df[\"target\"].to_numpy())"
      ],
      "execution_count": null,
      "outputs": []
    },
    {
      "cell_type": "code",
      "metadata": {
        "colab": {
          "base_uri": "https://localhost:8080/"
        },
        "id": "VQYore1boaxn",
        "outputId": "f0eafc98-682e-4d21-f94d-c83bbf104ced"
      },
      "source": [
        "train_label_encoder[:10]"
      ],
      "execution_count": null,
      "outputs": [
        {
          "output_type": "execute_result",
          "data": {
            "text/plain": [
              "array([3, 2, 2, 2, 2, 2, 4, 4, 4, 4])"
            ]
          },
          "metadata": {},
          "execution_count": 17
        }
      ]
    },
    {
      "cell_type": "markdown",
      "metadata": {
        "id": "_d7eDOSZ3XI1"
      },
      "source": [
        "### Model 0: Using SKLearn"
      ]
    },
    {
      "cell_type": "code",
      "metadata": {
        "colab": {
          "base_uri": "https://localhost:8080/"
        },
        "id": "fyqzkLuaolX5",
        "outputId": "4fe02223-abfd-4bf1-98ee-eb3b8485d884"
      },
      "source": [
        "from sklearn.feature_extraction.text import TfidfVectorizer\n",
        "from sklearn.naive_bayes import MultinomialNB\n",
        "from sklearn.pipeline import Pipeline\n",
        "model_0 = Pipeline([\n",
        "                    (\"TFIDF\",TfidfVectorizer()),\n",
        "                    (\"naive bayes\",MultinomialNB())\n",
        "])\n",
        "model_0.fit(X=train_lines,y=train_label_encoder)"
      ],
      "execution_count": null,
      "outputs": [
        {
          "output_type": "execute_result",
          "data": {
            "text/plain": [
              "Pipeline(memory=None,\n",
              "         steps=[('TFIDF',\n",
              "                 TfidfVectorizer(analyzer='word', binary=False,\n",
              "                                 decode_error='strict',\n",
              "                                 dtype=<class 'numpy.float64'>,\n",
              "                                 encoding='utf-8', input='content',\n",
              "                                 lowercase=True, max_df=1.0, max_features=None,\n",
              "                                 min_df=1, ngram_range=(1, 1), norm='l2',\n",
              "                                 preprocessor=None, smooth_idf=True,\n",
              "                                 stop_words=None, strip_accents=None,\n",
              "                                 sublinear_tf=False,\n",
              "                                 token_pattern='(?u)\\\\b\\\\w\\\\w+\\\\b',\n",
              "                                 tokenizer=None, use_idf=True,\n",
              "                                 vocabulary=None)),\n",
              "                ('naive bayes',\n",
              "                 MultinomialNB(alpha=1.0, class_prior=None, fit_prior=True))],\n",
              "         verbose=False)"
            ]
          },
          "metadata": {},
          "execution_count": 18
        }
      ]
    },
    {
      "cell_type": "code",
      "metadata": {
        "colab": {
          "base_uri": "https://localhost:8080/"
        },
        "id": "eYuhBhAgqnwk",
        "outputId": "a5aff876-426e-491b-c276-4eb75605c948"
      },
      "source": [
        "model_0.score(val_lines,val_label_encoder)"
      ],
      "execution_count": null,
      "outputs": [
        {
          "output_type": "execute_result",
          "data": {
            "text/plain": [
              "0.7218323844829869"
            ]
          },
          "metadata": {},
          "execution_count": 19
        }
      ]
    },
    {
      "cell_type": "code",
      "metadata": {
        "id": "3fMEiszGrDsn"
      },
      "source": [
        "from sklearn.metrics import accuracy_score,precision_recall_fscore_support\n",
        "def calculate_results(y_true, y_pred):\n",
        "  \"\"\"\n",
        "  Calculates model accuracy, precision, recall and f1 score of a binary classification model.\n",
        "  Args:\n",
        "      y_true: true labels in the form of a 1D array\n",
        "      y_pred: predicted labels in the form of a 1D array\n",
        "  Returns a dictionary of accuracy, precision, recall, f1-score.\n",
        "  \"\"\"\n",
        "  # Calculate model accuracy\n",
        "  model_accuracy = accuracy_score(y_true, y_pred) * 100\n",
        "  # Calculate model precision, recall and f1 score using \"weighted average\n",
        "  model_precision, model_recall, model_f1, _ = precision_recall_fscore_support(y_true, y_pred, average=\"weighted\")\n",
        "  model_results = {\"accuracy\": model_accuracy,\n",
        "                  \"precision\": model_precision,\n",
        "                  \"recall\": model_recall,\n",
        "                  \"f1\": model_f1}\n",
        "  return model_results"
      ],
      "execution_count": null,
      "outputs": []
    },
    {
      "cell_type": "code",
      "metadata": {
        "id": "0e2Jl9uqrSQU"
      },
      "source": [
        "model_0_preds = model_0.predict(val_lines)"
      ],
      "execution_count": null,
      "outputs": []
    },
    {
      "cell_type": "code",
      "metadata": {
        "colab": {
          "base_uri": "https://localhost:8080/"
        },
        "id": "EVXsAsfyrbea",
        "outputId": "6c0b1da1-954e-4f2e-a788-bf604588d0b5"
      },
      "source": [
        "model_0_preds"
      ],
      "execution_count": null,
      "outputs": [
        {
          "output_type": "execute_result",
          "data": {
            "text/plain": [
              "array([4, 1, 3, ..., 4, 4, 1])"
            ]
          },
          "metadata": {},
          "execution_count": 22
        }
      ]
    },
    {
      "cell_type": "code",
      "metadata": {
        "colab": {
          "base_uri": "https://localhost:8080/"
        },
        "id": "7ViZ6KuLrd8Q",
        "outputId": "a56feab8-a956-4810-f0c9-bc3353a2c785"
      },
      "source": [
        "model_0_results = calculate_results(val_label_encoder,model_0_preds)\n",
        "model_0_results"
      ],
      "execution_count": null,
      "outputs": [
        {
          "output_type": "execute_result",
          "data": {
            "text/plain": [
              "{'accuracy': 72.1832384482987,\n",
              " 'f1': 0.6989250353450294,\n",
              " 'precision': 0.7186466952323352,\n",
              " 'recall': 0.7218323844829869}"
            ]
          },
          "metadata": {},
          "execution_count": 23
        }
      ]
    },
    {
      "cell_type": "code",
      "metadata": {
        "id": "eoFMzF-mrlff"
      },
      "source": [
        "import numpy as np\n",
        "import tensorflow as tf\n",
        "from tensorflow.keras import layers"
      ],
      "execution_count": null,
      "outputs": []
    },
    {
      "cell_type": "code",
      "metadata": {
        "id": "DrsdtdSVexZR"
      },
      "source": [
        "# this will split words and other things in a single line each time.\n",
        "l = [sentence.split() for sentence in train_lines]\n",
        "l[4];"
      ],
      "execution_count": null,
      "outputs": []
    },
    {
      "cell_type": "code",
      "metadata": {
        "colab": {
          "base_uri": "https://localhost:8080/"
        },
        "id": "owpW2ucbdHLR",
        "outputId": "993b9712-a6b6-43d1-9c11-b5fef829f1ee"
      },
      "source": [
        "# average length of sentences\n",
        "avg_length = [len(sentence.split()) for sentence in train_lines]\n",
        "mean_len = np.mean(avg_length)\n",
        "mean_len"
      ],
      "execution_count": null,
      "outputs": [
        {
          "output_type": "execute_result",
          "data": {
            "text/plain": [
              "26.338269273494777"
            ]
          },
          "metadata": {},
          "execution_count": 21
        }
      ]
    },
    {
      "cell_type": "code",
      "metadata": {
        "colab": {
          "base_uri": "https://localhost:8080/",
          "height": 264
        },
        "id": "xWVWnP4ddZVq",
        "outputId": "1ff4cc47-b29f-499b-9ba3-dcc7ab9b02ef"
      },
      "source": [
        "import matplotlib.pyplot as plt\n",
        "plt.hist(avg_length,bins=20); # to look how much portion covers how much part of data."
      ],
      "execution_count": null,
      "outputs": [
        {
          "output_type": "display_data",
          "data": {
            "image/png": "[encoded data removed]",
            "text/plain": [
              "<Figure size 432x288 with 1 Axes>"
            ]
          },
          "metadata": {
            "needs_background": "light"
          }
        }
      ]
    },
    {
      "cell_type": "code",
      "metadata": {
        "id": "2MxdJJfnfRfq"
      },
      "source": [
        "percentile_len = np.percentile(avg_length,95)"
      ],
      "execution_count": null,
      "outputs": []
    },
    {
      "cell_type": "code",
      "metadata": {
        "colab": {
          "base_uri": "https://localhost:8080/"
        },
        "id": "olxJzmpJfj1L",
        "outputId": "c64dfec9-26b9-4209-a70d-8e9834eb8ad6"
      },
      "source": [
        "percentile_len"
      ],
      "execution_count": null,
      "outputs": [
        {
          "output_type": "execute_result",
          "data": {
            "text/plain": [
              "55.0"
            ]
          },
          "metadata": {},
          "execution_count": 24
        }
      ]
    },
    {
      "cell_type": "markdown",
      "metadata": {
        "id": "c-kIlsQv3ohn"
      },
      "source": [
        "## Converting data into vectors"
      ]
    },
    {
      "cell_type": "code",
      "metadata": {
        "id": "zoR2PRUFflnO"
      },
      "source": [
        "from tensorflow.keras.layers import TextVectorization"
      ],
      "execution_count": null,
      "outputs": []
    },
    {
      "cell_type": "code",
      "metadata": {
        "id": "LaLOQtLYjauC"
      },
      "source": [
        "text_vectorizer = TextVectorization(max_tokens=68000,output_sequence_length=55)"
      ],
      "execution_count": null,
      "outputs": []
    },
    {
      "cell_type": "code",
      "metadata": {
        "id": "Ygp0AsCJjv70"
      },
      "source": [
        "text_vectorizer.adapt(train_lines)"
      ],
      "execution_count": null,
      "outputs": []
    },
    {
      "cell_type": "code",
      "metadata": {
        "colab": {
          "base_uri": "https://localhost:8080/"
        },
        "id": "xbLfj8THj2zx",
        "outputId": "85d1bf16-e8bf-4ed5-e960-92a15fd7dfa5"
      },
      "source": [
        "import random\n",
        "target_sentence = random.choice(train_lines)\n",
        "print(f\"\"\"\n",
        "sentence: {target_sentence} \\n\n",
        "length of sentence: {len(target_sentence.split())} \\n\n",
        "Vectorized sentence: {text_vectorizer(target_sentence)}\n",
        "\"\"\")"
      ],
      "execution_count": null,
      "outputs": [
        {
          "output_type": "stream",
          "name": "stdout",
          "text": [
            "\n",
            "sentence: outcome measures included intraocular pressure ( iop ) , use of glaucoma medications , visual acuity , surgical complications , and failure ( iop > @ mm hg or not reduced by @ % , iop @ mm hg , additional glaucoma surgery , or loss of light perception vision ) . \n",
            "\n",
            "length of sentence: 52 \n",
            "\n",
            "Vectorized sentence: [  86  213  121 1944  200 1110   87    4 1803 1098  290 1114  306  296\n",
            "    3  292 1110  234  855   16   31  191   22 1110  234  855  365 1803\n",
            "  115   16  264    4 1525 1569 1922    0    0    0    0    0    0    0\n",
            "    0    0    0    0    0    0    0    0    0    0    0    0    0]\n",
            "\n"
          ]
        }
      ]
    },
    {
      "cell_type": "code",
      "metadata": {
        "colab": {
          "base_uri": "https://localhost:8080/"
        },
        "id": "jry3nQDnkdPh",
        "outputId": "6dfc1409-33fe-419a-d6e5-d78abd681fa9"
      },
      "source": [
        "data_vocablury = text_vectorizer.get_vocabulary()\n",
        "print(f\"\"\"\n",
        "length of vocablury: {len(data_vocablury)} \\n\n",
        "top 5 vocablury: {data_vocablury[:5]} \\n\n",
        "least 5 vocabulary: {data_vocablury[-5:]}\n",
        "\"\"\")"
      ],
      "execution_count": null,
      "outputs": [
        {
          "output_type": "stream",
          "name": "stdout",
          "text": [
            "\n",
            "length of vocablury: 64841 \n",
            "\n",
            "top 5 vocablury: ['', '[UNK]', 'the', 'and', 'of'] \n",
            "\n",
            "least 5 vocabulary: ['aainduced', 'aaigroup', 'aachener', 'aachen', 'aaacp']\n",
            "\n"
          ]
        }
      ]
    },
    {
      "cell_type": "code",
      "metadata": {
        "id": "DnZlZQYnlV3i"
      },
      "source": [
        "embed_layer = layers.Embedding(input_dim=len(data_vocablury), output_dim=128,mask_zero=True)"
      ],
      "execution_count": null,
      "outputs": []
    },
    {
      "cell_type": "code",
      "metadata": {
        "colab": {
          "base_uri": "https://localhost:8080/"
        },
        "id": "OuXcdrTOoXe-",
        "outputId": "b2096e89-a363-4fac-bbf3-11fa3e0a7279"
      },
      "source": [
        "print(f\"Sentence: {target_sentence}\")\n",
        "vectorized_sentence = text_vectorizer([target_sentence])\n",
        "print(f\"Text Vectorized Sentence: {vectorized_sentence}\")\n",
        "embed_sentence = embed_layer(vectorized_sentence)\n",
        "print(f\"Embeded Sentence: {embed_sentence}\")\n",
        "print(f\"shape of embeded sentence: {embed_sentence.shape}\")"
      ],
      "execution_count": null,
      "outputs": [
        {
          "output_type": "stream",
          "name": "stdout",
          "text": [
            "Sentence: outcome measures included intraocular pressure ( iop ) , use of glaucoma medications , visual acuity , surgical complications , and failure ( iop > @ mm hg or not reduced by @ % , iop @ mm hg , additional glaucoma surgery , or loss of light perception vision ) .\n",
            "Text Vectorized Sentence: [[  86  213  121 1944  200 1110   87    4 1803 1098  290 1114  306  296\n",
            "     3  292 1110  234  855   16   31  191   22 1110  234  855  365 1803\n",
            "   115   16  264    4 1525 1569 1922    0    0    0    0    0    0    0\n",
            "     0    0    0    0    0    0    0    0    0    0    0    0    0]]\n",
            "Embeded Sentence: [[[ 0.04980795  0.0318089   0.04377234 ... -0.01115154 -0.0281353\n",
            "    0.01690617]\n",
            "  [ 0.02896854  0.03993198 -0.00549297 ...  0.04995421  0.03407793\n",
            "    0.02644301]\n",
            "  [-0.00363748  0.04435607  0.01492833 ...  0.00962361  0.03323868\n",
            "    0.01869786]\n",
            "  ...\n",
            "  [-0.00479759  0.00491427 -0.04349321 ... -0.04113173 -0.0375994\n",
            "    0.02982283]\n",
            "  [-0.00479759  0.00491427 -0.04349321 ... -0.04113173 -0.0375994\n",
            "    0.02982283]\n",
            "  [-0.00479759  0.00491427 -0.04349321 ... -0.04113173 -0.0375994\n",
            "    0.02982283]]]\n",
            "shape of embeded sentence: (1, 55, 128)\n"
          ]
        }
      ]
    },
    {
      "cell_type": "code",
      "metadata": {
        "colab": {
          "base_uri": "https://localhost:8080/"
        },
        "id": "CenKqiQhpFWh",
        "outputId": "e1f4c66f-70d1-4c2f-860b-dc10f6a5d8eb"
      },
      "source": [
        "train_dataset = tf.data.Dataset.from_tensor_slices((train_lines, train_one_hot))\n",
        "valid_dataset = tf.data.Dataset.from_tensor_slices((val_lines, val_one_hot))\n",
        "test_dataset = tf.data.Dataset.from_tensor_slices((test_lines, test_one_hot))\n",
        "train_dataset"
      ],
      "execution_count": null,
      "outputs": [
        {
          "output_type": "execute_result",
          "data": {
            "text/plain": [
              "<TensorSliceDataset shapes: ((), (5,)), types: (tf.string, tf.float64)>"
            ]
          },
          "metadata": {},
          "execution_count": 32
        }
      ]
    },
    {
      "cell_type": "code",
      "metadata": {
        "colab": {
          "base_uri": "https://localhost:8080/"
        },
        "id": "CUArorSkroHR",
        "outputId": "adcc885b-baa5-47c9-d73b-80472221d7d7"
      },
      "source": [
        "train_dataset = train_dataset.batch(32).prefetch(tf.data.AUTOTUNE)\n",
        "valid_dataset = valid_dataset.batch(32).prefetch(tf.data.AUTOTUNE)\n",
        "test_dataset = test_dataset.batch(32).prefetch(tf.data.AUTOTUNE)\n",
        "train_dataset"
      ],
      "execution_count": null,
      "outputs": [
        {
          "output_type": "execute_result",
          "data": {
            "text/plain": [
              "<PrefetchDataset shapes: ((None,), (None, 5)), types: (tf.string, tf.float64)>"
            ]
          },
          "metadata": {},
          "execution_count": 33
        }
      ]
    },
    {
      "cell_type": "markdown",
      "metadata": {
        "id": "_UzcYDR-AalI"
      },
      "source": [
        "### Model 1: Conv1D with token embeddings"
      ]
    },
    {
      "cell_type": "code",
      "metadata": {
        "id": "MGbMXWtysLMr"
      },
      "source": [
        "inputs = layers.Input(shape=(1,),dtype=tf.string)\n",
        "text_vectorizer_layer = text_vectorizer(inputs)\n",
        "embeded_layer = embed_layer(text_vectorizer_layer)\n",
        "x = layers.Conv1D(64,kernel_size=5,padding=\"same\",activation=\"relu\")(embeded_layer)\n",
        "x = layers.GlobalAveragePooling1D()(x)\n",
        "outputs = layers.Dense(5,activation=\"softmax\")(x)\n",
        "model_1 = tf.keras.Model(inputs,outputs)\n",
        "model_1.compile(\n",
        "    loss = tf.keras.losses.categorical_crossentropy,\n",
        "    optimizer = tf.keras.optimizers.Adam(),\n",
        "    metrics = [\"accuracy\"]\n",
        ")"
      ],
      "execution_count": null,
      "outputs": []
    },
    {
      "cell_type": "code",
      "metadata": {
        "colab": {
          "base_uri": "https://localhost:8080/"
        },
        "id": "LNJZzBQWwRCw",
        "outputId": "216d8373-5497-4edc-ade7-0098e02fa350"
      },
      "source": [
        "history_model_1 = model_1.fit(train_dataset,steps_per_epoch=len(train_dataset),epochs=3,validation_data=valid_dataset,validation_steps=0.25*len(valid_dataset))"
      ],
      "execution_count": null,
      "outputs": [
        {
          "output_type": "stream",
          "name": "stdout",
          "text": [
            "Epoch 1/3\n",
            "5627/5627 [==============================] - 103s 13ms/step - loss: 0.6144 - accuracy: 0.7763 - val_loss: 0.5409 - val_accuracy: 0.8070\n",
            "Epoch 2/3\n",
            "5627/5627 [==============================] - 75s 13ms/step - loss: 0.4520 - accuracy: 0.8412 - val_loss: 0.5373 - val_accuracy: 0.8070\n",
            "Epoch 3/3\n",
            "5627/5627 [==============================] - 74s 13ms/step - loss: 0.3712 - accuracy: 0.8728 - val_loss: 0.5709 - val_accuracy: 0.8025\n"
          ]
        }
      ]
    },
    {
      "cell_type": "code",
      "metadata": {
        "colab": {
          "base_uri": "https://localhost:8080/"
        },
        "id": "j_qCN7dxx1wB",
        "outputId": "16225df4-ff4b-4a20-8b72-8634e55ec54f"
      },
      "source": [
        "model_1.evaluate(valid_dataset)"
      ],
      "execution_count": null,
      "outputs": [
        {
          "output_type": "stream",
          "name": "stdout",
          "text": [
            "945/945 [==============================] - 4s 4ms/step - loss: 0.5662 - accuracy: 0.8061\n"
          ]
        },
        {
          "output_type": "execute_result",
          "data": {
            "text/plain": [
              "[0.5662000775337219, 0.806103527545929]"
            ]
          },
          "metadata": {},
          "execution_count": 42
        }
      ]
    },
    {
      "cell_type": "code",
      "metadata": {
        "colab": {
          "base_uri": "https://localhost:8080/"
        },
        "id": "jFxniCZ2y9tn",
        "outputId": "54acb772-9a51-4c4e-d706-07b6abaab1e2"
      },
      "source": [
        "model_1.pred_probs = model_1.predict(valid_dataset)\n",
        "model_1.pred_probs"
      ],
      "execution_count": null,
      "outputs": [
        {
          "output_type": "execute_result",
          "data": {
            "text/plain": [
              "array([[6.34674013e-01, 9.48880240e-03, 2.92561173e-01, 3.67655270e-02,\n",
              "        2.65105069e-02],\n",
              "       [5.57024956e-01, 7.75613189e-02, 2.42010667e-03, 3.53417218e-01,\n",
              "        9.57641844e-03],\n",
              "       [1.57862559e-01, 5.86261926e-03, 1.84907566e-03, 8.34326506e-01,\n",
              "        9.92523419e-05],\n",
              "       ...,\n",
              "       [6.34461855e-07, 8.16550255e-06, 1.85465300e-03, 7.63131922e-08,\n",
              "        9.98136401e-01],\n",
              "       [1.06566548e-01, 5.54414809e-01, 1.45148441e-01, 2.74680685e-02,\n",
              "        1.66402116e-01],\n",
              "       [2.73024337e-03, 9.93020833e-01, 4.10908740e-03, 3.54026524e-05,\n",
              "        1.04458144e-04]], dtype=float32)"
            ]
          },
          "metadata": {},
          "execution_count": 43
        }
      ]
    },
    {
      "cell_type": "code",
      "metadata": {
        "id": "466UvdbazG52"
      },
      "source": [
        "model_1.pred_probs = model_1.pred_probs.argmax(axis=1)"
      ],
      "execution_count": null,
      "outputs": []
    },
    {
      "cell_type": "code",
      "metadata": {
        "colab": {
          "base_uri": "https://localhost:8080/"
        },
        "id": "nI4vRlJmzQ9w",
        "outputId": "65a12416-9c6f-4287-e456-e66ef61adc9a"
      },
      "source": [
        "model_1.pred_probs"
      ],
      "execution_count": null,
      "outputs": [
        {
          "output_type": "execute_result",
          "data": {
            "text/plain": [
              "array([0, 0, 3, ..., 4, 1, 1])"
            ]
          },
          "metadata": {},
          "execution_count": 45
        }
      ]
    },
    {
      "cell_type": "code",
      "metadata": {
        "colab": {
          "base_uri": "https://localhost:8080/"
        },
        "id": "w_V6dOGWzToQ",
        "outputId": "e65f9cca-e688-444b-88c8-326923ddf8f1"
      },
      "source": [
        "model_1_results = calculate_results(y_true=val_label_encoder,y_pred=model_1.pred_probs)\n",
        "model_1_results"
      ],
      "execution_count": null,
      "outputs": [
        {
          "output_type": "execute_result",
          "data": {
            "text/plain": [
              "{'accuracy': 80.61035350191976,\n",
              " 'f1': 0.8033752411179125,\n",
              " 'precision': 0.8029789844532127,\n",
              " 'recall': 0.8061035350191976}"
            ]
          },
          "metadata": {},
          "execution_count": 46
        }
      ]
    },
    {
      "cell_type": "markdown",
      "metadata": {
        "id": "xOCP37O7CWhP"
      },
      "source": [
        "### Model 2: Feature extraction with pretrained token embeddings"
      ]
    },
    {
      "cell_type": "code",
      "metadata": {
        "id": "DOJveFsYz2jd"
      },
      "source": [
        "import tensorflow_hub as hub\n",
        "tf_hub_embedding_layer = hub.KerasLayer(\"https://tfhub.dev/google/universal-sentence-encoder/4\",\n",
        "                                        trainable=False,\n",
        "                                        name=\"universal_sentence_encoder\")"
      ],
      "execution_count": null,
      "outputs": []
    },
    {
      "cell_type": "code",
      "metadata": {
        "id": "GzKJJV_62e6-"
      },
      "source": [
        "inputs = layers.Input(shape=[], dtype=tf.string)\n",
        "tf_hub_layer = tf_hub_embedding_layer(inputs)\n",
        "# x = layers.Dense(128,activation=\"relu\")\n",
        "outputs = layers.Dense(5,activation=\"softmax\")(tf_hub_layer)\n",
        "model_2 = tf.keras.Model(inputs, outputs)\n",
        "\n",
        "model_2.compile(\n",
        "    loss = tf.keras.losses.categorical_crossentropy,\n",
        "    optimizer = tf.keras.optimizers.Adam(),\n",
        "    metrics = [\"accuracy\"]\n",
        ")"
      ],
      "execution_count": null,
      "outputs": []
    },
    {
      "cell_type": "code",
      "metadata": {
        "colab": {
          "base_uri": "https://localhost:8080/"
        },
        "id": "DgBUmHEm3Xk8",
        "outputId": "46454bf9-91c4-4f30-b646-03084a3b92b5"
      },
      "source": [
        "history_model_2 = model_2.fit(train_dataset, steps_per_epoch=len(train_dataset),epochs=3,validation_data=valid_dataset,validation_steps=0.1*len(valid_dataset))"
      ],
      "execution_count": null,
      "outputs": [
        {
          "output_type": "stream",
          "name": "stdout",
          "text": [
            "Epoch 1/3\n",
            "5627/5627 [==============================] - 98s 17ms/step - loss: 0.9033 - accuracy: 0.6644 - val_loss: 0.8004 - val_accuracy: 0.6957\n",
            "Epoch 2/3\n",
            "5627/5627 [==============================] - 98s 17ms/step - loss: 0.7869 - accuracy: 0.7006 - val_loss: 0.7767 - val_accuracy: 0.6997\n",
            "Epoch 3/3\n",
            "5627/5627 [==============================] - 98s 17ms/step - loss: 0.7721 - accuracy: 0.7054 - val_loss: 0.7674 - val_accuracy: 0.7063\n"
          ]
        }
      ]
    },
    {
      "cell_type": "code",
      "metadata": {
        "colab": {
          "base_uri": "https://localhost:8080/"
        },
        "id": "dqCkn55K36oM",
        "outputId": "c33bf2f2-7418-4231-c13e-ea07898c81bf"
      },
      "source": [
        "model_2.evaluate(valid_dataset)"
      ],
      "execution_count": null,
      "outputs": [
        {
          "output_type": "stream",
          "name": "stdout",
          "text": [
            "945/945 [==============================] - 16s 17ms/step - loss: 0.7622 - accuracy: 0.7095\n"
          ]
        },
        {
          "output_type": "execute_result",
          "data": {
            "text/plain": [
              "[0.7622484564781189, 0.7094532251358032]"
            ]
          },
          "metadata": {},
          "execution_count": 50
        }
      ]
    },
    {
      "cell_type": "code",
      "metadata": {
        "id": "f6ciCWG25_jd"
      },
      "source": [
        "model_2_pred_probs = tf.argmax(model_2.predict(valid_dataset),axis=1)"
      ],
      "execution_count": null,
      "outputs": []
    },
    {
      "cell_type": "code",
      "metadata": {
        "id": "s8djSdD26Q8m"
      },
      "source": [
        "model_2_results = calculate_results(y_true=val_label_encoder,y_pred=model_2_pred_probs)"
      ],
      "execution_count": null,
      "outputs": []
    },
    {
      "cell_type": "code",
      "metadata": {
        "colab": {
          "base_uri": "https://localhost:8080/"
        },
        "id": "Kt_Jl0-_6f0Q",
        "outputId": "f9b6d60e-f3af-4173-98ac-07f103ce1923"
      },
      "source": [
        "model_2_results"
      ],
      "execution_count": null,
      "outputs": [
        {
          "output_type": "execute_result",
          "data": {
            "text/plain": [
              "{'accuracy': 70.94531974050047,\n",
              " 'f1': 0.7051358320729274,\n",
              " 'precision': 0.7043451614354099,\n",
              " 'recall': 0.7094531974050047}"
            ]
          },
          "metadata": {},
          "execution_count": 53
        }
      ]
    },
    {
      "cell_type": "code",
      "metadata": {
        "colab": {
          "base_uri": "https://localhost:8080/"
        },
        "id": "aQkP2Z4P6h43",
        "outputId": "fc4a6114-58b5-44e8-8d25-5fbf2274a019"
      },
      "source": [
        "model_1_results"
      ],
      "execution_count": null,
      "outputs": [
        {
          "output_type": "execute_result",
          "data": {
            "text/plain": [
              "{'accuracy': 80.61035350191976,\n",
              " 'f1': 0.8033752411179125,\n",
              " 'precision': 0.8029789844532127,\n",
              " 'recall': 0.8061035350191976}"
            ]
          },
          "metadata": {},
          "execution_count": 54
        }
      ]
    },
    {
      "cell_type": "code",
      "metadata": {
        "colab": {
          "base_uri": "https://localhost:8080/"
        },
        "id": "XzyOELQb6j5Y",
        "outputId": "0eda0d61-a775-4afa-fb1c-9c26e40a590d"
      },
      "source": [
        "model_0_results"
      ],
      "execution_count": null,
      "outputs": [
        {
          "output_type": "execute_result",
          "data": {
            "text/plain": [
              "{'accuracy': 72.1832384482987,\n",
              " 'f1': 0.6989250353450294,\n",
              " 'precision': 0.7186466952323352,\n",
              " 'recall': 0.7218323844829869}"
            ]
          },
          "metadata": {},
          "execution_count": 55
        }
      ]
    },
    {
      "cell_type": "markdown",
      "metadata": {
        "id": "39-fVboh6mAP"
      },
      "source": [
        "### Model 3: Conv1D with character embeddings\n",
        "# Creating Character level tokenising layer."
      ]
    },
    {
      "cell_type": "code",
      "metadata": {
        "id": "vdPSw0rKnjm1"
      },
      "source": [
        "def char_dist(text):\n",
        "  return \" \".join(list(text))"
      ],
      "execution_count": null,
      "outputs": []
    },
    {
      "cell_type": "code",
      "metadata": {
        "id": "vnU8LqlZns2Q"
      },
      "source": [
        "train_char = [char_dist(sentence) for sentence in train_lines]\n",
        "val_char = [char_dist(sentence) for sentence in val_lines]\n",
        "test_char = [char_dist(sentence) for sentence in test_lines]"
      ],
      "execution_count": null,
      "outputs": []
    },
    {
      "cell_type": "code",
      "metadata": {
        "colab": {
          "base_uri": "https://localhost:8080/",
          "height": 71
        },
        "id": "9vcuAFNooX1V",
        "outputId": "9abbeee3-96f0-473b-d64a-cf6f6ea29943"
      },
      "source": [
        "train_char[0]"
      ],
      "execution_count": null,
      "outputs": [
        {
          "output_type": "execute_result",
          "data": {
            "application/vnd.google.colaboratory.intrinsic+json": {
              "type": "string"
            },
            "text/plain": [
              "'t o   i n v e s t i g a t e   t h e   e f f i c a c y   o f   @   w e e k s   o f   d a i l y   l o w - d o s e   o r a l   p r e d n i s o l o n e   i n   i m p r o v i n g   p a i n   ,   m o b i l i t y   ,   a n d   s y s t e m i c   l o w - g r a d e   i n f l a m m a t i o n   i n   t h e   s h o r t   t e r m   a n d   w h e t h e r   t h e   e f f e c t   w o u l d   b e   s u s t a i n e d   a t   @   w e e k s   i n   o l d e r   a d u l t s   w i t h   m o d e r a t e   t o   s e v e r e   k n e e   o s t e o a r t h r i t i s   (   o a   )   .'"
            ]
          },
          "metadata": {},
          "execution_count": 37
        }
      ]
    },
    {
      "cell_type": "code",
      "metadata": {
        "colab": {
          "base_uri": "https://localhost:8080/"
        },
        "id": "sHtlGhvLoaem",
        "outputId": "72dd57d2-0157-4eef-d245-759ee237dcc2"
      },
      "source": [
        "char_length = [len(sentence) for sentence in train_lines]\n",
        "mean_char_length = np.mean(char_length)\n",
        "mean_char_length"
      ],
      "execution_count": null,
      "outputs": [
        {
          "output_type": "execute_result",
          "data": {
            "text/plain": [
              "149.3662574983337"
            ]
          },
          "metadata": {},
          "execution_count": 38
        }
      ]
    },
    {
      "cell_type": "code",
      "metadata": {
        "colab": {
          "base_uri": "https://localhost:8080/"
        },
        "id": "X_iUqJBmpBwO",
        "outputId": "3d645ffd-80d9-4ab7-d39b-7afb47ab214e"
      },
      "source": [
        "# calculating top 95 percentile\n",
        "output_percentile = int(np.percentile(char_length,95))\n",
        "output_percentile"
      ],
      "execution_count": null,
      "outputs": [
        {
          "output_type": "execute_result",
          "data": {
            "text/plain": [
              "290"
            ]
          },
          "metadata": {},
          "execution_count": 39
        }
      ]
    },
    {
      "cell_type": "code",
      "metadata": {
        "id": "8vh2PYNZpVzF"
      },
      "source": [
        "# Creating character level text vectorzation layer\n",
        "import string\n",
        "alphabets = string.ascii_lowercase + string.digits + string.punctuation\n",
        "max_character_length = len(alphabets) +2 # 2 is added because alphabets does not include space and [UNC]"
      ],
      "execution_count": null,
      "outputs": []
    },
    {
      "cell_type": "code",
      "metadata": {
        "id": "lBJtqsv4qOP1"
      },
      "source": [
        "char_vectorizer = TextVectorization(max_tokens=max_character_length,output_sequence_length=output_percentile,name=\"Vectorization\")\n",
        "char_vectorizer.adapt(train_char)"
      ],
      "execution_count": null,
      "outputs": []
    },
    {
      "cell_type": "code",
      "metadata": {
        "colab": {
          "base_uri": "https://localhost:8080/"
        },
        "id": "KCX73-yDq9U8",
        "outputId": "482cb09b-a6f8-4d7e-f1e7-94bf7f37482e"
      },
      "source": [
        "char_data_vocabulary = char_vectorizer.get_vocabulary()\n",
        "random_char = random.choice(train_char)\n",
        "vectorized_character = char_vectorizer(random_char)\n",
        "print(f\"\"\"\n",
        "Char Sentence: {random_char} \\n\n",
        "length of data vocabulary: {len(char_data_vocabulary)} \\n\n",
        "vectorized char: {vectorized_character} \\n\n",
        "length of vectorized char: {len(vectorized_character)}\n",
        "\"\"\")"
      ],
      "execution_count": null,
      "outputs": [
        {
          "output_type": "stream",
          "name": "stdout",
          "text": [
            "\n",
            "Char Sentence: a   c u r r e n t   c h a l l e n g e   i n   m e n t a l   h e a l t h   c a r e   i s   h o w   t o   c l o s e   t h i s   t r e a t m e n t   g a p   a n d   i n c r e a s e   a c c e s s   t o   p s y c h o l o g i c a l   s e r v i c e s   . \n",
            "\n",
            "length of data vocabulary: 28 \n",
            "\n",
            "vectorized char: [ 5 11 16  8  8  2  6  3 11 13  5 12 12  2  6 18  2  4  6 15  2  6  3  5\n",
            " 12 13  2  5 12  3 13 11  5  8  2  4  9 13  7 20  3  7 11 12  7  9  2  3\n",
            " 13  4  9  3  8  2  5  3 15  2  6  3 18  5 14  5  6 10  4  6 11  8  2  5\n",
            "  9  2  5 11 11  2  9  9  3  7 14  9 19 11 13  7 12  7 18  4 11  5 12  9\n",
            "  2  8 21  4 11  2  9  0  0  0  0  0  0  0  0  0  0  0  0  0  0  0  0  0\n",
            "  0  0  0  0  0  0  0  0  0  0  0  0  0  0  0  0  0  0  0  0  0  0  0  0\n",
            "  0  0  0  0  0  0  0  0  0  0  0  0  0  0  0  0  0  0  0  0  0  0  0  0\n",
            "  0  0  0  0  0  0  0  0  0  0  0  0  0  0  0  0  0  0  0  0  0  0  0  0\n",
            "  0  0  0  0  0  0  0  0  0  0  0  0  0  0  0  0  0  0  0  0  0  0  0  0\n",
            "  0  0  0  0  0  0  0  0  0  0  0  0  0  0  0  0  0  0  0  0  0  0  0  0\n",
            "  0  0  0  0  0  0  0  0  0  0  0  0  0  0  0  0  0  0  0  0  0  0  0  0\n",
            "  0  0  0  0  0  0  0  0  0  0  0  0  0  0  0  0  0  0  0  0  0  0  0  0\n",
            "  0  0] \n",
            "\n",
            "length of vectorized char: 290\n",
            "\n"
          ]
        }
      ]
    },
    {
      "cell_type": "code",
      "metadata": {
        "id": "LcvOsIXHss3-"
      },
      "source": [
        "char_embed = layers.Embedding(input_dim=max_character_length, output_dim=25,mask_zero=False)"
      ],
      "execution_count": null,
      "outputs": []
    },
    {
      "cell_type": "code",
      "metadata": {
        "colab": {
          "base_uri": "https://localhost:8080/"
        },
        "id": "WSH9bt1902vG",
        "outputId": "19a5cbc6-36f1-4664-89a4-293bc957e4ba"
      },
      "source": [
        "train_char_dataset = tf.data.Dataset.from_tensor_slices((train_char,train_one_hot)).batch(32).prefetch(tf.data.AUTOTUNE)\n",
        "val_char_dataset = tf.data.Dataset.from_tensor_slices((val_char,val_one_hot)).batch(32).prefetch(tf.data.AUTOTUNE)\n",
        "test_char_dataset = tf.data.Dataset.from_tensor_slices((test_char,test_one_hot)).batch(32).prefetch(tf.data.AUTOTUNE)\n",
        "train_char_dataset"
      ],
      "execution_count": null,
      "outputs": [
        {
          "output_type": "execute_result",
          "data": {
            "text/plain": [
              "<PrefetchDataset shapes: ((None,), (None, 5)), types: (tf.string, tf.float64)>"
            ]
          },
          "metadata": {},
          "execution_count": 44
        }
      ]
    },
    {
      "cell_type": "code",
      "metadata": {
        "id": "q6bqSON15FnF"
      },
      "source": [
        "inputs = layers.Input(shape=(1,),dtype=tf.string)\n",
        "vectorized_layer = char_vectorizer(inputs)\n",
        "embeded_layer = char_embed(vectorized_layer)\n",
        "x = layers.Conv1D(64,kernel_size=6,padding=\"same\",activation=\"relu\")(embeded_layer)\n",
        "x = layers.GlobalMaxPool1D()(x)\n",
        "outputs = layers.Dense(5,activation=\"softmax\")(x)\n",
        "model_3 = tf.keras.Model(inputs,outputs)\n",
        "\n",
        "model_3.compile(\n",
        "    loss = tf.keras.losses.categorical_crossentropy,\n",
        "    optimizer = tf.keras.optimizers.Adam(),\n",
        "    metrics = [\"accuracy\"]\n",
        ")"
      ],
      "execution_count": null,
      "outputs": []
    },
    {
      "cell_type": "code",
      "metadata": {
        "colab": {
          "base_uri": "https://localhost:8080/"
        },
        "id": "s-Jdt5jc6sXp",
        "outputId": "3be73d65-589c-45e3-d43d-37a504ddfee3"
      },
      "source": [
        "history_model_3 = model_3.fit(train_char_dataset,steps_per_epoch=len(train_char_dataset),epochs=3,validation_data=val_char_dataset,validation_steps=0.15*len(val_char_dataset))"
      ],
      "execution_count": null,
      "outputs": [
        {
          "output_type": "stream",
          "name": "stdout",
          "text": [
            "Epoch 1/3\n",
            "5627/5627 [==============================] - 82s 9ms/step - loss: 0.8788 - accuracy: 0.6566 - val_loss: 0.7757 - val_accuracy: 0.6950\n",
            "Epoch 2/3\n",
            "5627/5627 [==============================] - 53s 9ms/step - loss: 0.7327 - accuracy: 0.7193 - val_loss: 0.7245 - val_accuracy: 0.7163\n",
            "Epoch 3/3\n",
            "5627/5627 [==============================] - 52s 9ms/step - loss: 0.6971 - accuracy: 0.7351 - val_loss: 0.7011 - val_accuracy: 0.7333\n"
          ]
        }
      ]
    },
    {
      "cell_type": "code",
      "metadata": {
        "colab": {
          "base_uri": "https://localhost:8080/"
        },
        "id": "8AW_sb5H7VZC",
        "outputId": "ab4eb4b4-4906-4227-b54d-8fa77a916881"
      },
      "source": [
        "model_3.evaluate(val_char_dataset)"
      ],
      "execution_count": null,
      "outputs": [
        {
          "output_type": "stream",
          "name": "stdout",
          "text": [
            "945/945 [==============================] - 5s 5ms/step - loss: 0.7122 - accuracy: 0.7287\n"
          ]
        },
        {
          "output_type": "execute_result",
          "data": {
            "text/plain": [
              "[0.7121744751930237, 0.7286839485168457]"
            ]
          },
          "metadata": {},
          "execution_count": 56
        }
      ]
    },
    {
      "cell_type": "code",
      "metadata": {
        "colab": {
          "base_uri": "https://localhost:8080/"
        },
        "id": "g3i7F7aH82_0",
        "outputId": "368d5b50-d86b-40df-f371-993e348c4864"
      },
      "source": [
        "model_3_pred_probs = tf.argmax(model_3.predict(val_char_dataset),axis=1)\n",
        "model_3_pred_probs"
      ],
      "execution_count": null,
      "outputs": [
        {
          "output_type": "execute_result",
          "data": {
            "text/plain": [
              "<tf.Tensor: shape=(30212,), dtype=int64, numpy=array([1, 1, 3, ..., 4, 4, 1])>"
            ]
          },
          "metadata": {},
          "execution_count": 58
        }
      ]
    },
    {
      "cell_type": "code",
      "metadata": {
        "id": "jFCJq3iC9IxG"
      },
      "source": [
        "model_3_results = calculate_results(y_true=val_label_encoder,\n",
        "                                    y_pred = model_3_pred_probs)"
      ],
      "execution_count": null,
      "outputs": []
    },
    {
      "cell_type": "code",
      "metadata": {
        "colab": {
          "base_uri": "https://localhost:8080/"
        },
        "id": "0yxDgj5x9bkQ",
        "outputId": "3b2a87dd-4413-4081-998b-0a5de0efc599"
      },
      "source": [
        "model_3_results"
      ],
      "execution_count": null,
      "outputs": [
        {
          "output_type": "execute_result",
          "data": {
            "text/plain": [
              "{'accuracy': 72.86839666357739,\n",
              " 'f1': 0.7215931463047464,\n",
              " 'precision': 0.7278364005965428,\n",
              " 'recall': 0.7286839666357738}"
            ]
          },
          "metadata": {},
          "execution_count": 60
        }
      ]
    },
    {
      "cell_type": "code",
      "metadata": {
        "colab": {
          "base_uri": "https://localhost:8080/"
        },
        "id": "oCswFfvN9dg_",
        "outputId": "961ce18e-8ea7-4753-98a6-a4242a5db8b0"
      },
      "source": [
        "model_0_results\n"
      ],
      "execution_count": null,
      "outputs": [
        {
          "output_type": "execute_result",
          "data": {
            "text/plain": [
              "{'accuracy': 72.1832384482987,\n",
              " 'f1': 0.6989250353450294,\n",
              " 'precision': 0.7186466952323352,\n",
              " 'recall': 0.7218323844829869}"
            ]
          },
          "metadata": {},
          "execution_count": 61
        }
      ]
    },
    {
      "cell_type": "markdown",
      "metadata": {
        "id": "GcaFIBp5DIy4"
      },
      "source": [
        "### Model 4: Combining pretrained token embedding + character embedding (hybrid embedding layer)"
      ]
    },
    {
      "cell_type": "code",
      "metadata": {
        "id": "al70oq859h2_"
      },
      "source": [
        "token_inputs = layers.Input(shape=[],dtype=tf.string, name=\"token_input\")\n",
        "token_embedding = tf_hub_embedding_layer(token_inputs)\n",
        "token_outputs = layers.Dense(5,activation=\"softmax\")(token_embedding)\n",
        "token_model = tf.keras.Model(token_inputs,token_outputs)\n",
        "\n",
        "# creating char model\n",
        "char_inputs = layers.Input(shape=(1,),dtype=tf.string,name=\"char_input\")\n",
        "char_vectors = char_vectorizer(char_inputs)\n",
        "char_embedings = char_embed(char_vectors)\n",
        "char_bi_lstm = layers.Bidirectional(layers.LSTM(25))(char_embedings)\n",
        "char_model = tf.keras.Model(char_inputs,char_bi_lstm)\n",
        "\n",
        "# concatinating two layers\n",
        "token_char_conact = layers.Concatenate(name=\"token_char_hybrid\")([token_model.output,char_model.output])\n",
        "\n",
        "combined_dropout = layers.Dropout(0.5)(token_char_conact)\n",
        "combined_dense = layers.Dense(256,activation=\"relu\")(combined_dropout)\n",
        "final_dropout = layers.Dropout(0.5)(combined_dense)\n",
        "output_layer = layers.Dense(5,activation=\"softmax\")(final_dropout)\n",
        "\n",
        "model_4 = tf.keras.Model(inputs=[token_model.input,char_model.input], outputs=output_layer,name=\"model_4_token_and_char_embeddings\")"
      ],
      "execution_count": null,
      "outputs": []
    },
    {
      "cell_type": "code",
      "metadata": {
        "colab": {
          "base_uri": "https://localhost:8080/",
          "height": 975
        },
        "id": "JFkJfgVoFcTU",
        "outputId": "865899ff-ce62-49a5-ba66-0a7afd5fd34e"
      },
      "source": [
        "from tensorflow.keras.utils import plot_model\n",
        "plot_model(model_4,show_shapes=True)"
      ],
      "execution_count": null,
      "outputs": [
        {
          "output_type": "execute_result",
          "data": {
            "image/png": "[encoded data removed]",
            "text/plain": [
              "<IPython.core.display.Image object>"
            ]
          },
          "metadata": {},
          "execution_count": 70
        }
      ]
    },
    {
      "cell_type": "code",
      "metadata": {
        "id": "ZPEXNXCUHMxX"
      },
      "source": [
        "model_4.compile(loss=\"categorical_crossentropy\",\n",
        "                optimizer=tf.keras.optimizers.Adam(), # section 4.2 of https://arxiv.org/pdf/1612.05251.pdf mentions using SGD but we'll stick with Adam\n",
        "                metrics=[\"accuracy\"])"
      ],
      "execution_count": null,
      "outputs": []
    },
    {
      "cell_type": "code",
      "metadata": {
        "colab": {
          "base_uri": "https://localhost:8080/"
        },
        "id": "_tjDaBPVIe2U",
        "outputId": "bbc12249-3850-4b3e-854c-2b920521253c"
      },
      "source": [
        "train_char_token_data = tf.data.Dataset.from_tensor_slices((train_lines, train_char))\n",
        "train_char_token_labels = tf.data.Dataset.from_tensor_slices(train_one_hot)\n",
        "train_char_token_dataset = tf.data.Dataset.zip((train_char_token_data, train_char_token_labels))\n",
        "train_char_token_dataset = train_char_token_dataset.batch(32).prefetch(tf.data.AUTOTUNE) \n",
        "val_char_token_data = tf.data.Dataset.from_tensor_slices((val_lines, val_char))\n",
        "val_char_token_labels = tf.data.Dataset.from_tensor_slices(val_one_hot)\n",
        "val_char_token_dataset = tf.data.Dataset.zip((val_char_token_data, val_char_token_labels))\n",
        "val_char_token_dataset = val_char_token_dataset.batch(32).prefetch(tf.data.AUTOTUNE)\n",
        "\n",
        "train_char_token_dataset, val_char_token_dataset"
      ],
      "execution_count": null,
      "outputs": [
        {
          "output_type": "execute_result",
          "data": {
            "text/plain": [
              "(<PrefetchDataset shapes: (((None,), (None,)), (None, 5)), types: ((tf.string, tf.string), tf.float64)>,\n",
              " <PrefetchDataset shapes: (((None,), (None,)), (None, 5)), types: ((tf.string, tf.string), tf.float64)>)"
            ]
          },
          "metadata": {},
          "execution_count": 45
        }
      ]
    },
    {
      "cell_type": "code",
      "metadata": {
        "colab": {
          "base_uri": "https://localhost:8080/"
        },
        "id": "PSsvgG0BIrmz",
        "outputId": "e463edd1-3eea-4294-91f9-27a9e6424ac4"
      },
      "source": [
        "history_model_4 = model_4.fit(train_char_token_dataset,steps_per_epoch=len(train_char_token_dataset),epochs=3,validation_data=val_char_token_dataset,validation_steps=0.1*len(val_char_token_dataset))"
      ],
      "execution_count": null,
      "outputs": [
        {
          "output_type": "stream",
          "name": "stdout",
          "text": [
            "Epoch 1/3\n",
            "5627/5627 [==============================] - 626s 111ms/step - loss: 1.0154 - accuracy: 0.5908 - val_loss: 0.8891 - val_accuracy: 0.6589\n",
            "Epoch 2/3\n",
            "5627/5627 [==============================] - 624s 111ms/step - loss: 0.8704 - accuracy: 0.6641 - val_loss: 0.9269 - val_accuracy: 0.6717\n",
            "Epoch 3/3\n",
            "5627/5627 [==============================] - 624s 111ms/step - loss: 0.8378 - accuracy: 0.6805 - val_loss: 0.8350 - val_accuracy: 0.7145\n"
          ]
        }
      ]
    },
    {
      "cell_type": "code",
      "metadata": {
        "colab": {
          "base_uri": "https://localhost:8080/"
        },
        "id": "6us_qfsEK7kO",
        "outputId": "1158d485-7c10-45ff-d0b7-beecfdb8d756"
      },
      "source": [
        "model_4.evaluate(val_char_token_dataset)"
      ],
      "execution_count": null,
      "outputs": [
        {
          "output_type": "stream",
          "name": "stdout",
          "text": [
            "945/945 [==============================] - 49s 52ms/step - loss: 0.8368 - accuracy: 0.7133\n"
          ]
        },
        {
          "output_type": "execute_result",
          "data": {
            "text/plain": [
              "[0.8367971181869507, 0.7132596373558044]"
            ]
          },
          "metadata": {},
          "execution_count": 77
        }
      ]
    },
    {
      "cell_type": "code",
      "metadata": {
        "colab": {
          "base_uri": "https://localhost:8080/"
        },
        "id": "xhXwLNaQS4wp",
        "outputId": "43ac0f43-b7f2-4de8-83a9-d01d3e9c8938"
      },
      "source": [
        "model_4_pred_probs = tf.argmax(model_4.predict(val_char_token_dataset),axis=1)\n",
        "model_4_pred_probs"
      ],
      "execution_count": null,
      "outputs": [
        {
          "output_type": "execute_result",
          "data": {
            "text/plain": [
              "<tf.Tensor: shape=(30212,), dtype=int64, numpy=array([0, 0, 0, ..., 4, 4, 1])>"
            ]
          },
          "metadata": {},
          "execution_count": 81
        }
      ]
    },
    {
      "cell_type": "code",
      "metadata": {
        "id": "tZVL5_rMXmlA"
      },
      "source": [
        "model_4_results = calculate_results(y_true=val_label_encoder,y_pred=model_4_pred_probs)"
      ],
      "execution_count": null,
      "outputs": []
    },
    {
      "cell_type": "code",
      "metadata": {
        "colab": {
          "base_uri": "https://localhost:8080/"
        },
        "id": "-7TrZfCqYRN4",
        "outputId": "afbd5462-0508-44a5-d23c-70ea3d165544"
      },
      "source": [
        "model_4_results"
      ],
      "execution_count": null,
      "outputs": [
        {
          "output_type": "execute_result",
          "data": {
            "text/plain": [
              "{'accuracy': 71.32596319343307,\n",
              " 'f1': 0.709246091988702,\n",
              " 'precision': 0.7301383235421626,\n",
              " 'recall': 0.7132596319343307}"
            ]
          },
          "metadata": {},
          "execution_count": 83
        }
      ]
    },
    {
      "cell_type": "code",
      "metadata": {
        "id": "UBnTpcDFY7Q2",
        "colab": {
          "base_uri": "https://localhost:8080/"
        },
        "outputId": "1c7bb2d9-a42e-4b68-bbfb-77fff83c2489"
      },
      "source": [
        "model_3_results"
      ],
      "execution_count": null,
      "outputs": [
        {
          "output_type": "execute_result",
          "data": {
            "text/plain": [
              "{'accuracy': 72.86839666357739,\n",
              " 'f1': 0.7215931463047464,\n",
              " 'precision': 0.7278364005965428,\n",
              " 'recall': 0.7286839666357738}"
            ]
          },
          "metadata": {},
          "execution_count": 84
        }
      ]
    },
    {
      "cell_type": "markdown",
      "metadata": {
        "id": "7kGeT8iNDoQZ"
      },
      "source": [
        "### Model 5: Transfer Learning with pretrained token embeddings + character embedding + positional embedding"
      ]
    },
    {
      "cell_type": "code",
      "metadata": {
        "colab": {
          "base_uri": "https://localhost:8080/",
          "height": 202
        },
        "id": "7MURvjlAzC2V",
        "outputId": "2bf7422c-e59f-48b1-968b-dc04eb4f5f78"
      },
      "source": [
        "train_df[:5]"
      ],
      "execution_count": null,
      "outputs": [
        {
          "output_type": "execute_result",
          "data": {
            "text/html": [
              "<div>\n",
              "<style scoped>\n",
              "    .dataframe tbody tr th:only-of-type {\n",
              "        vertical-align: middle;\n",
              "    }\n",
              "\n",
              "    .dataframe tbody tr th {\n",
              "        vertical-align: top;\n",
              "    }\n",
              "\n",
              "    .dataframe thead th {\n",
              "        text-align: right;\n",
              "    }\n",
              "</style>\n",
              "<table border=\"1\" class=\"dataframe\">\n",
              "  <thead>\n",
              "    <tr style=\"text-align: right;\">\n",
              "      <th></th>\n",
              "      <th>line number</th>\n",
              "      <th>target</th>\n",
              "      <th>text</th>\n",
              "      <th>total lines</th>\n",
              "    </tr>\n",
              "  </thead>\n",
              "  <tbody>\n",
              "    <tr>\n",
              "      <th>0</th>\n",
              "      <td>0</td>\n",
              "      <td>OBJECTIVE</td>\n",
              "      <td>to investigate the efficacy of @ weeks of dail...</td>\n",
              "      <td>11</td>\n",
              "    </tr>\n",
              "    <tr>\n",
              "      <th>1</th>\n",
              "      <td>1</td>\n",
              "      <td>METHODS</td>\n",
              "      <td>a total of @ patients with primary knee oa wer...</td>\n",
              "      <td>11</td>\n",
              "    </tr>\n",
              "    <tr>\n",
              "      <th>2</th>\n",
              "      <td>2</td>\n",
              "      <td>METHODS</td>\n",
              "      <td>outcome measures included pain reduction and i...</td>\n",
              "      <td>11</td>\n",
              "    </tr>\n",
              "    <tr>\n",
              "      <th>3</th>\n",
              "      <td>3</td>\n",
              "      <td>METHODS</td>\n",
              "      <td>pain was assessed using the visual analog pain...</td>\n",
              "      <td>11</td>\n",
              "    </tr>\n",
              "    <tr>\n",
              "      <th>4</th>\n",
              "      <td>4</td>\n",
              "      <td>METHODS</td>\n",
              "      <td>secondary outcome measures included the wester...</td>\n",
              "      <td>11</td>\n",
              "    </tr>\n",
              "  </tbody>\n",
              "</table>\n",
              "</div>"
            ],
            "text/plain": [
              "   line number  ... total lines\n",
              "0            0  ...          11\n",
              "1            1  ...          11\n",
              "2            2  ...          11\n",
              "3            3  ...          11\n",
              "4            4  ...          11\n",
              "\n",
              "[5 rows x 4 columns]"
            ]
          },
          "metadata": {},
          "execution_count": 46
        }
      ]
    },
    {
      "cell_type": "code",
      "metadata": {
        "colab": {
          "base_uri": "https://localhost:8080/",
          "height": 282
        },
        "id": "lVTVwKKk0RfF",
        "outputId": "1e583c84-f420-4723-d69e-da87aea9183d"
      },
      "source": [
        "train_df[\"line number\"].plot.hist()"
      ],
      "execution_count": null,
      "outputs": [
        {
          "output_type": "execute_result",
          "data": {
            "text/plain": [
              "<matplotlib.axes._subplots.AxesSubplot at 0x7f8d44f62890>"
            ]
          },
          "metadata": {},
          "execution_count": 58
        },
        {
          "output_type": "display_data",
          "data": {
            "image/png": "[encoded data removed]",
            "text/plain": [
              "<Figure size 432x288 with 1 Axes>"
            ]
          },
          "metadata": {
            "needs_background": "light"
          }
        }
      ]
    },
    {
      "cell_type": "code",
      "metadata": {
        "colab": {
          "base_uri": "https://localhost:8080/"
        },
        "id": "51NRVLp30cOI",
        "outputId": "ac5c7f3d-cc18-4a62-f1e3-3ad4a9604a62"
      },
      "source": [
        "np.percentile(train_df[\"line number\"].to_numpy(), 98)"
      ],
      "execution_count": null,
      "outputs": [
        {
          "output_type": "execute_result",
          "data": {
            "text/plain": [
              "15.0"
            ]
          },
          "metadata": {},
          "execution_count": 62
        }
      ]
    },
    {
      "cell_type": "code",
      "metadata": {
        "id": "ZEM5g6fjY_TX"
      },
      "source": [
        "train_line_number_onehot = tf.one_hot(train_df[\"line number\"].to_numpy(), depth=15)\n",
        "val_line_number_onehot = tf.one_hot(val_df[\"line number\"].to_numpy(), depth=15)\n",
        "test_line_number_onehot = tf.one_hot(test_df[\"line number\"].to_numpy(), depth=15)"
      ],
      "execution_count": null,
      "outputs": []
    },
    {
      "cell_type": "code",
      "metadata": {
        "colab": {
          "base_uri": "https://localhost:8080/"
        },
        "id": "lY6asFlozTgm",
        "outputId": "abdd185f-243c-4d73-ebba-261f863b4928"
      },
      "source": [
        "train_line_number_onehot"
      ],
      "execution_count": null,
      "outputs": [
        {
          "output_type": "execute_result",
          "data": {
            "text/plain": [
              "<tf.Tensor: shape=(180040, 15), dtype=float32, numpy=\n",
              "array([[1., 0., 0., ..., 0., 0., 0.],\n",
              "       [0., 1., 0., ..., 0., 0., 0.],\n",
              "       [0., 0., 1., ..., 0., 0., 0.],\n",
              "       ...,\n",
              "       [0., 0., 0., ..., 0., 0., 0.],\n",
              "       [0., 0., 0., ..., 0., 0., 0.],\n",
              "       [0., 0., 0., ..., 0., 0., 0.]], dtype=float32)>"
            ]
          },
          "metadata": {},
          "execution_count": 54
        }
      ]
    },
    {
      "cell_type": "code",
      "metadata": {
        "colab": {
          "base_uri": "https://localhost:8080/",
          "height": 284
        },
        "id": "HRlzEbsh0vax",
        "outputId": "aa52cfb8-ae9b-413a-c456-a58734faccf2"
      },
      "source": [
        "train_df[\"total lines\"].plot.hist()"
      ],
      "execution_count": null,
      "outputs": [
        {
          "output_type": "execute_result",
          "data": {
            "text/plain": [
              "<matplotlib.axes._subplots.AxesSubplot at 0x7f8d44ef4510>"
            ]
          },
          "metadata": {},
          "execution_count": 63
        },
        {
          "output_type": "display_data",
          "data": {
            "image/png": "[encoded data removed]",
            "text/plain": [
              "<Figure size 432x288 with 1 Axes>"
            ]
          },
          "metadata": {
            "needs_background": "light"
          }
        }
      ]
    },
    {
      "cell_type": "code",
      "metadata": {
        "colab": {
          "base_uri": "https://localhost:8080/"
        },
        "id": "E_i9LZHl00LM",
        "outputId": "8a0d573e-d573-443f-d86b-a4b67724c8cc"
      },
      "source": [
        "np.percentile(train_df[\"total lines\"].to_numpy(),98)"
      ],
      "execution_count": null,
      "outputs": [
        {
          "output_type": "execute_result",
          "data": {
            "text/plain": [
              "20.0"
            ]
          },
          "metadata": {},
          "execution_count": 64
        }
      ]
    },
    {
      "cell_type": "code",
      "metadata": {
        "id": "Pc9gQkJ5zUxe"
      },
      "source": [
        "train_total_lines_onehot = tf.one_hot(train_df[\"total lines\"].to_numpy(),depth=20)\n",
        "val_total_lines_onehot = tf.one_hot(val_df[\"total lines\"].to_numpy(),depth=20)\n",
        "test_total_lines_onehot = tf.one_hot(test_df[\"total lines\"].to_numpy(),depth=20)"
      ],
      "execution_count": null,
      "outputs": []
    },
    {
      "cell_type": "code",
      "metadata": {
        "colab": {
          "base_uri": "https://localhost:8080/"
        },
        "id": "6gX2qhO20GmS",
        "outputId": "2296da23-39e0-4730-8d5f-7a3da7f37f5d"
      },
      "source": [
        "train_total_lines_onehot"
      ],
      "execution_count": null,
      "outputs": [
        {
          "output_type": "execute_result",
          "data": {
            "text/plain": [
              "<tf.Tensor: shape=(180040, 20), dtype=float32, numpy=\n",
              "array([[0., 0., 0., ..., 0., 0., 0.],\n",
              "       [0., 0., 0., ..., 0., 0., 0.],\n",
              "       [0., 0., 0., ..., 0., 0., 0.],\n",
              "       ...,\n",
              "       [0., 0., 0., ..., 0., 0., 0.],\n",
              "       [0., 0., 0., ..., 0., 0., 0.],\n",
              "       [0., 0., 0., ..., 0., 0., 0.]], dtype=float32)>"
            ]
          },
          "metadata": {},
          "execution_count": 56
        }
      ]
    },
    {
      "cell_type": "code",
      "metadata": {
        "id": "LF1a53vi0ICn"
      },
      "source": [
        "# Making token based model\n",
        "token_6_input = layers.Input(shape=(1,),dtype=tf.string, name=\"Token Input\")\n",
        "token_6_vectors = text_vectorizer(token_6_input)\n",
        "token_6_embed = embed_layer(token_6_vectors)\n",
        "x = layers.Conv1D(128,kernel_size=6,padding=\"same\",activation=\"relu\")(token_6_embed)\n",
        "x = layers.GlobalMaxPool1D()(x)\n",
        "outputs = layers.Dense(5,activation=\"softmax\")(x)\n",
        "token_6_model = tf.keras.Model(token_6_input,outputs)\n",
        "\n",
        "# Making char based model\n",
        "char_6_inputs = layers.Input(shape=(1,),dtype=tf.string, name=\"character_input\")\n",
        "char_6_vectors = char_vectorizer(char_6_inputs)\n",
        "char_6_embed = embed_layer(char_6_vectors)\n",
        "char_6_bi_lstm = layers.Bidirectional(layers.LSTM(25))(char_6_embed)\n",
        "char_6_model = tf.keras.Model(char_6_inputs,char_6_bi_lstm)\n",
        "\n",
        "# Making model for line numbers\n",
        "line_number_inputs = layers.Input(shape=(15,),dtype=tf.float32, name=\"line number inputs\")\n",
        "line_number_dense = layers.Dense(32,activation=\"relu\")(line_number_inputs)\n",
        "line_number_model = tf.keras.Model(line_number_inputs,line_number_dense)\n",
        "\n",
        "# Making Total Lines model\n",
        "total_lines_inputs = layers.Input(shape=(20,),dtype=tf.float32, name=\"total lines inputs\")\n",
        "total_lines_dennse = layers.Dense(32,activation=\"relu\")(total_lines_inputs)\n",
        "total_lines_model = tf.keras.Model(total_lines_inputs,total_lines_dennse)\n",
        "\n",
        "# Concatinating \n",
        "token_char_conactinate = layers.Concatenate(name=\"Token_Char_Concatinate\")([token_6_model.output,char_6_model.output])\n",
        "z = layers.Dense(256,activation=\"relu\")(token_char_conactinate)\n",
        "z = layers.Dropout(0.5)(z)\n",
        "z = layers.Concatenate(name=\"Token_Char_Positional_Concatination\")([line_number_model.output,total_lines_model.output,z])\n",
        "outputs = layers.Dense(5,activation=\"softmax\", name=\"Output_Layer\")(z)\n",
        "model_5 = tf.keras.Model([line_number_model.input,total_lines_model.input,token_6_model.input,char_6_model.input],outputs)"
      ],
      "execution_count": null,
      "outputs": []
    },
    {
      "cell_type": "code",
      "metadata": {
        "colab": {
          "base_uri": "https://localhost:8080/",
          "height": 1000
        },
        "id": "yD32820M6McQ",
        "outputId": "ccdf3605-26d0-4bc3-c7b1-f1895fe6a7fd"
      },
      "source": [
        "from tensorflow.keras.utils import plot_model\n",
        "plot_model(model_5,show_shapes=True,)"
      ],
      "execution_count": null,
      "outputs": [
        {
          "output_type": "execute_result",
          "data": {
            "image/png": "[encoded data removed]",
            "text/plain": [
              "<IPython.core.display.Image object>"
            ]
          },
          "metadata": {},
          "execution_count": 79
        }
      ]
    },
    {
      "cell_type": "code",
      "metadata": {
        "id": "aE0kYabo_9ZQ"
      },
      "source": [
        "model_5.compile(\n",
        "    loss = tf.keras.losses.CategoricalCrossentropy(label_smoothing=0.2),\n",
        "    optimizer = tf.keras.optimizers.Adam(),\n",
        "    metrics = [\"accuracy\"]\n",
        ")"
      ],
      "execution_count": null,
      "outputs": []
    },
    {
      "cell_type": "code",
      "metadata": {
        "colab": {
          "base_uri": "https://localhost:8080/"
        },
        "id": "uGVhIsE5Ah7y",
        "outputId": "fb5dd6dc-295c-4187-9af0-24c4006cb435"
      },
      "source": [
        "train_char_token_pos_data = tf.data.Dataset.from_tensor_slices((train_line_number_onehot,train_total_lines_onehot,train_lines, train_char))\n",
        "train_char_token_pos_labels = tf.data.Dataset.from_tensor_slices(train_one_hot)\n",
        "train_char_token_pos_dataset = tf.data.Dataset.zip((train_char_token_pos_data, train_char_token_pos_labels))\n",
        "train_char_token_pos_dataset = train_char_token_pos_dataset.batch(32).prefetch(tf.data.AUTOTUNE) \n",
        "\n",
        "val_char_token_pos_data = tf.data.Dataset.from_tensor_slices((val_line_number_onehot,val_total_lines_onehot,val_lines, val_char))\n",
        "val_char_token_pos_labels = tf.data.Dataset.from_tensor_slices(val_one_hot)\n",
        "val_char_token_pos_dataset = tf.data.Dataset.zip((val_char_token_pos_data, val_char_token_pos_labels))\n",
        "val_char_token_pos_dataset = val_char_token_pos_dataset.batch(32).prefetch(tf.data.AUTOTUNE)\n",
        "\n",
        "train_char_token_pos_dataset, val_char_token_pos_dataset"
      ],
      "execution_count": null,
      "outputs": [
        {
          "output_type": "execute_result",
          "data": {
            "text/plain": [
              "(<PrefetchDataset shapes: (((None, 15), (None, 20), (None,), (None,)), (None, 5)), types: ((tf.float32, tf.float32, tf.string, tf.string), tf.float64)>,\n",
              " <PrefetchDataset shapes: (((None, 15), (None, 20), (None,), (None,)), (None, 5)), types: ((tf.float32, tf.float32, tf.string, tf.string), tf.float64)>)"
            ]
          },
          "metadata": {},
          "execution_count": 86
        }
      ]
    },
    {
      "cell_type": "code",
      "metadata": {
        "colab": {
          "base_uri": "https://localhost:8080/"
        },
        "id": "qblsE7d6BCC2",
        "outputId": "a054befc-6ba5-4acf-92bb-e348a18fb746"
      },
      "source": [
        "model_5.fit(train_char_token_pos_dataset,steps_per_epoch=len(train_char_token_pos_dataset),epochs=3,validation_data=val_char_token_pos_dataset,validation_steps=0.1*len(val_char_token_pos_dataset))"
      ],
      "execution_count": null,
      "outputs": [
        {
          "output_type": "stream",
          "name": "stdout",
          "text": [
            "Epoch 1/3\n",
            "5627/5627 [==============================] - 745s 126ms/step - loss: 0.9249 - accuracy: 0.8380 - val_loss: 0.8821 - val_accuracy: 0.8595\n",
            "Epoch 2/3\n",
            "5627/5627 [==============================] - 702s 125ms/step - loss: 0.8443 - accuracy: 0.8947 - val_loss: 0.9093 - val_accuracy: 0.8434\n",
            "Epoch 3/3\n",
            "5627/5627 [==============================] - 696s 124ms/step - loss: 0.8014 - accuracy: 0.9244 - val_loss: 0.9128 - val_accuracy: 0.8464\n"
          ]
        },
        {
          "output_type": "execute_result",
          "data": {
            "text/plain": [
              "<keras.callbacks.History at 0x7f8d4363c310>"
            ]
          },
          "metadata": {},
          "execution_count": 87
        }
      ]
    },
    {
      "cell_type": "code",
      "metadata": {
        "colab": {
          "base_uri": "https://localhost:8080/"
        },
        "id": "Y3fkzhnEB7a4",
        "outputId": "5e16ae09-0cdf-497b-defe-21c3f10db194"
      },
      "source": [
        "model_5.evaluate(val_char_token_pos_dataset)"
      ],
      "execution_count": null,
      "outputs": [
        {
          "output_type": "stream",
          "name": "stdout",
          "text": [
            "945/945 [==============================] - 46s 43ms/step - loss: 1.5884 - accuracy: 0.2394\n"
          ]
        },
        {
          "output_type": "execute_result",
          "data": {
            "text/plain": [
              "[1.5883700847625732, 0.23937508463859558]"
            ]
          },
          "metadata": {},
          "execution_count": 99
        }
      ]
    },
    {
      "cell_type": "code",
      "metadata": {
        "colab": {
          "base_uri": "https://localhost:8080/"
        },
        "id": "qwy2ONUgL8f4",
        "outputId": "d07ebf84-a88b-4089-e267-175094713d77"
      },
      "source": [
        "model_5_pred_probs = tf.argmax(model_5.predict(val_char_token_pos_dataset),axis=1)\n",
        "model_5_pred_probs"
      ],
      "execution_count": null,
      "outputs": [
        {
          "output_type": "execute_result",
          "data": {
            "text/plain": [
              "<tf.Tensor: shape=(30212,), dtype=int64, numpy=array([0, 0, 3, ..., 4, 4, 1])>"
            ]
          },
          "metadata": {},
          "execution_count": 89
        }
      ]
    },
    {
      "cell_type": "code",
      "metadata": {
        "colab": {
          "base_uri": "https://localhost:8080/"
        },
        "id": "thgkmtJQMb-_",
        "outputId": "8b6a0d4d-bb46-4f38-f4ed-78e7795814c0"
      },
      "source": [
        "model_5_results = calculate_results(y_true=val_label_encoder,y_pred=model_5_pred_probs)\n",
        "model_5_results"
      ],
      "execution_count": null,
      "outputs": [
        {
          "output_type": "execute_result",
          "data": {
            "text/plain": [
              "{'accuracy': 84.88679994704091,\n",
              " 'f1': 0.8469786533539854,\n",
              " 'precision': 0.8495014040033455,\n",
              " 'recall': 0.8488679994704091}"
            ]
          },
          "metadata": {},
          "execution_count": 90
        }
      ]
    },
    {
      "cell_type": "code",
      "metadata": {
        "colab": {
          "base_uri": "https://localhost:8080/"
        },
        "id": "nJXt9QfeRsP1",
        "outputId": "352bda9b-5496-42ce-a4a1-5b994a8d2740"
      },
      "source": [
        "spec = tf.TensorSpec(shape=[8, 3], dtype=tf.int32, name=\"Char Input\")\n",
        "tf.TensorSpec.from_spec(spec, \"character_input\")"
      ],
      "execution_count": null,
      "outputs": [
        {
          "output_type": "execute_result",
          "data": {
            "text/plain": [
              "TensorSpec(shape=(8, 3), dtype=tf.int32, name='character_input')"
            ]
          },
          "metadata": {},
          "execution_count": 95
        }
      ]
    }
  ]
}