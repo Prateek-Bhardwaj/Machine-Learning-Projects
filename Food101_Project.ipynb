{
  "nbformat": 4,
  "nbformat_minor": 0,
  "metadata": {
    "colab": {
      "name": "Food101_Project.ipynb",
      "provenance": [],
      "collapsed_sections": [],
      "mount_file_id": "10DQboAKJ8YN11RVV4uoq71P0EoUZ-ek6",
      "authorship_tag": "ABX9TyOkiuv8/+mtFJ6l6Mc0IMAA",
      "include_colab_link": true
    },
    "kernelspec": {
      "name": "python3",
      "display_name": "Python 3"
    },
    "language_info": {
      "name": "python"
    },
    "accelerator": "GPU",
    "widgets": {
      "application/vnd.jupyter.widget-state+json": {
        "298b57f847414930a6beaf507c167e54": {
          "model_module": "@jupyter-widgets/controls",
          "model_name": "HBoxModel",
          "model_module_version": "1.5.0",
          "state": {
            "_view_name": "HBoxView",
            "_dom_classes": [],
            "_model_name": "HBoxModel",
            "_view_module": "@jupyter-widgets/controls",
            "_model_module_version": "1.5.0",
            "_view_count": null,
            "_view_module_version": "1.5.0",
            "box_style": "",
            "layout": "IPY_MODEL_f78604259b7045a28a4ac5aba0aa2fb6",
            "_model_module": "@jupyter-widgets/controls",
            "children": [
              "IPY_MODEL_209ed8ad19094015a686445bc2c8180f",
              "IPY_MODEL_119c97240e664ef19e234977c330cf69",
              "IPY_MODEL_ec06bd864f4e40fd86ca6ee06b06b5cc"
            ]
          }
        },
        "f78604259b7045a28a4ac5aba0aa2fb6": {
          "model_module": "@jupyter-widgets/base",
          "model_name": "LayoutModel",
          "model_module_version": "1.2.0",
          "state": {
            "_view_name": "LayoutView",
            "grid_template_rows": null,
            "right": null,
            "justify_content": null,
            "_view_module": "@jupyter-widgets/base",
            "overflow": null,
            "_model_module_version": "1.2.0",
            "_view_count": null,
            "flex_flow": null,
            "width": null,
            "min_width": null,
            "border": null,
            "align_items": null,
            "bottom": null,
            "_model_module": "@jupyter-widgets/base",
            "top": null,
            "grid_column": null,
            "overflow_y": null,
            "overflow_x": null,
            "grid_auto_flow": null,
            "grid_area": null,
            "grid_template_columns": null,
            "flex": null,
            "_model_name": "LayoutModel",
            "justify_items": null,
            "grid_row": null,
            "max_height": null,
            "align_content": null,
            "visibility": null,
            "align_self": null,
            "height": null,
            "min_height": null,
            "padding": null,
            "grid_auto_rows": null,
            "grid_gap": null,
            "max_width": null,
            "order": null,
            "_view_module_version": "1.2.0",
            "grid_template_areas": null,
            "object_position": null,
            "object_fit": null,
            "grid_auto_columns": null,
            "margin": null,
            "display": null,
            "left": null
          }
        },
        "209ed8ad19094015a686445bc2c8180f": {
          "model_module": "@jupyter-widgets/controls",
          "model_name": "HTMLModel",
          "model_module_version": "1.5.0",
          "state": {
            "_view_name": "HTMLView",
            "style": "IPY_MODEL_630d6d98218c472b80644fac1cb8f9c0",
            "_dom_classes": [],
            "description": "",
            "_model_name": "HTMLModel",
            "placeholder": "​",
            "_view_module": "@jupyter-widgets/controls",
            "_model_module_version": "1.5.0",
            "value": "Dl Completed...: 100%",
            "_view_count": null,
            "_view_module_version": "1.5.0",
            "description_tooltip": null,
            "_model_module": "@jupyter-widgets/controls",
            "layout": "IPY_MODEL_f6edcff12b894ce1806b00f22fa83553"
          }
        },
        "119c97240e664ef19e234977c330cf69": {
          "model_module": "@jupyter-widgets/controls",
          "model_name": "FloatProgressModel",
          "model_module_version": "1.5.0",
          "state": {
            "_view_name": "ProgressView",
            "style": "IPY_MODEL_d895742ac9ac4456b402212b26e5b450",
            "_dom_classes": [],
            "description": "",
            "_model_name": "FloatProgressModel",
            "bar_style": "success",
            "max": 1,
            "_view_module": "@jupyter-widgets/controls",
            "_model_module_version": "1.5.0",
            "value": 1,
            "_view_count": null,
            "_view_module_version": "1.5.0",
            "orientation": "horizontal",
            "min": 0,
            "description_tooltip": null,
            "_model_module": "@jupyter-widgets/controls",
            "layout": "IPY_MODEL_975018f812d147bd8de600a51cce2d94"
          }
        },
        "ec06bd864f4e40fd86ca6ee06b06b5cc": {
          "model_module": "@jupyter-widgets/controls",
          "model_name": "HTMLModel",
          "model_module_version": "1.5.0",
          "state": {
            "_view_name": "HTMLView",
            "style": "IPY_MODEL_e42365959db744299f7b12e619cd08d1",
            "_dom_classes": [],
            "description": "",
            "_model_name": "HTMLModel",
            "placeholder": "​",
            "_view_module": "@jupyter-widgets/controls",
            "_model_module_version": "1.5.0",
            "value": " 1/1 [05:03&lt;00:00, 201.05s/ url]",
            "_view_count": null,
            "_view_module_version": "1.5.0",
            "description_tooltip": null,
            "_model_module": "@jupyter-widgets/controls",
            "layout": "IPY_MODEL_982008b73dbb4cc99929f839c3b7f075"
          }
        },
        "630d6d98218c472b80644fac1cb8f9c0": {
          "model_module": "@jupyter-widgets/controls",
          "model_name": "DescriptionStyleModel",
          "model_module_version": "1.5.0",
          "state": {
            "_view_name": "StyleView",
            "_model_name": "DescriptionStyleModel",
            "description_width": "",
            "_view_module": "@jupyter-widgets/base",
            "_model_module_version": "1.5.0",
            "_view_count": null,
            "_view_module_version": "1.2.0",
            "_model_module": "@jupyter-widgets/controls"
          }
        },
        "f6edcff12b894ce1806b00f22fa83553": {
          "model_module": "@jupyter-widgets/base",
          "model_name": "LayoutModel",
          "model_module_version": "1.2.0",
          "state": {
            "_view_name": "LayoutView",
            "grid_template_rows": null,
            "right": null,
            "justify_content": null,
            "_view_module": "@jupyter-widgets/base",
            "overflow": null,
            "_model_module_version": "1.2.0",
            "_view_count": null,
            "flex_flow": null,
            "width": null,
            "min_width": null,
            "border": null,
            "align_items": null,
            "bottom": null,
            "_model_module": "@jupyter-widgets/base",
            "top": null,
            "grid_column": null,
            "overflow_y": null,
            "overflow_x": null,
            "grid_auto_flow": null,
            "grid_area": null,
            "grid_template_columns": null,
            "flex": null,
            "_model_name": "LayoutModel",
            "justify_items": null,
            "grid_row": null,
            "max_height": null,
            "align_content": null,
            "visibility": null,
            "align_self": null,
            "height": null,
            "min_height": null,
            "padding": null,
            "grid_auto_rows": null,
            "grid_gap": null,
            "max_width": null,
            "order": null,
            "_view_module_version": "1.2.0",
            "grid_template_areas": null,
            "object_position": null,
            "object_fit": null,
            "grid_auto_columns": null,
            "margin": null,
            "display": null,
            "left": null
          }
        },
        "d895742ac9ac4456b402212b26e5b450": {
          "model_module": "@jupyter-widgets/controls",
          "model_name": "ProgressStyleModel",
          "model_module_version": "1.5.0",
          "state": {
            "_view_name": "StyleView",
            "_model_name": "ProgressStyleModel",
            "description_width": "",
            "_view_module": "@jupyter-widgets/base",
            "_model_module_version": "1.5.0",
            "_view_count": null,
            "_view_module_version": "1.2.0",
            "bar_color": null,
            "_model_module": "@jupyter-widgets/controls"
          }
        },
        "975018f812d147bd8de600a51cce2d94": {
          "model_module": "@jupyter-widgets/base",
          "model_name": "LayoutModel",
          "model_module_version": "1.2.0",
          "state": {
            "_view_name": "LayoutView",
            "grid_template_rows": null,
            "right": null,
            "justify_content": null,
            "_view_module": "@jupyter-widgets/base",
            "overflow": null,
            "_model_module_version": "1.2.0",
            "_view_count": null,
            "flex_flow": null,
            "width": "20px",
            "min_width": null,
            "border": null,
            "align_items": null,
            "bottom": null,
            "_model_module": "@jupyter-widgets/base",
            "top": null,
            "grid_column": null,
            "overflow_y": null,
            "overflow_x": null,
            "grid_auto_flow": null,
            "grid_area": null,
            "grid_template_columns": null,
            "flex": null,
            "_model_name": "LayoutModel",
            "justify_items": null,
            "grid_row": null,
            "max_height": null,
            "align_content": null,
            "visibility": null,
            "align_self": null,
            "height": null,
            "min_height": null,
            "padding": null,
            "grid_auto_rows": null,
            "grid_gap": null,
            "max_width": null,
            "order": null,
            "_view_module_version": "1.2.0",
            "grid_template_areas": null,
            "object_position": null,
            "object_fit": null,
            "grid_auto_columns": null,
            "margin": null,
            "display": null,
            "left": null
          }
        },
        "e42365959db744299f7b12e619cd08d1": {
          "model_module": "@jupyter-widgets/controls",
          "model_name": "DescriptionStyleModel",
          "model_module_version": "1.5.0",
          "state": {
            "_view_name": "StyleView",
            "_model_name": "DescriptionStyleModel",
            "description_width": "",
            "_view_module": "@jupyter-widgets/base",
            "_model_module_version": "1.5.0",
            "_view_count": null,
            "_view_module_version": "1.2.0",
            "_model_module": "@jupyter-widgets/controls"
          }
        },
        "982008b73dbb4cc99929f839c3b7f075": {
          "model_module": "@jupyter-widgets/base",
          "model_name": "LayoutModel",
          "model_module_version": "1.2.0",
          "state": {
            "_view_name": "LayoutView",
            "grid_template_rows": null,
            "right": null,
            "justify_content": null,
            "_view_module": "@jupyter-widgets/base",
            "overflow": null,
            "_model_module_version": "1.2.0",
            "_view_count": null,
            "flex_flow": null,
            "width": null,
            "min_width": null,
            "border": null,
            "align_items": null,
            "bottom": null,
            "_model_module": "@jupyter-widgets/base",
            "top": null,
            "grid_column": null,
            "overflow_y": null,
            "overflow_x": null,
            "grid_auto_flow": null,
            "grid_area": null,
            "grid_template_columns": null,
            "flex": null,
            "_model_name": "LayoutModel",
            "justify_items": null,
            "grid_row": null,
            "max_height": null,
            "align_content": null,
            "visibility": null,
            "align_self": null,
            "height": null,
            "min_height": null,
            "padding": null,
            "grid_auto_rows": null,
            "grid_gap": null,
            "max_width": null,
            "order": null,
            "_view_module_version": "1.2.0",
            "grid_template_areas": null,
            "object_position": null,
            "object_fit": null,
            "grid_auto_columns": null,
            "margin": null,
            "display": null,
            "left": null
          }
        },
        "ce80566d02ff4803a36ef57955ecfd88": {
          "model_module": "@jupyter-widgets/controls",
          "model_name": "HBoxModel",
          "model_module_version": "1.5.0",
          "state": {
            "_view_name": "HBoxView",
            "_dom_classes": [],
            "_model_name": "HBoxModel",
            "_view_module": "@jupyter-widgets/controls",
            "_model_module_version": "1.5.0",
            "_view_count": null,
            "_view_module_version": "1.5.0",
            "box_style": "",
            "layout": "IPY_MODEL_455b79d7f6304426bb0aa94e6f0f2a32",
            "_model_module": "@jupyter-widgets/controls",
            "children": [
              "IPY_MODEL_66c125c69224434a9026224f77e10411",
              "IPY_MODEL_200276bd15254835a7ed9740373708e9",
              "IPY_MODEL_509159fdebd94dcebbd42838d0d34ea1"
            ]
          }
        },
        "455b79d7f6304426bb0aa94e6f0f2a32": {
          "model_module": "@jupyter-widgets/base",
          "model_name": "LayoutModel",
          "model_module_version": "1.2.0",
          "state": {
            "_view_name": "LayoutView",
            "grid_template_rows": null,
            "right": null,
            "justify_content": null,
            "_view_module": "@jupyter-widgets/base",
            "overflow": null,
            "_model_module_version": "1.2.0",
            "_view_count": null,
            "flex_flow": null,
            "width": null,
            "min_width": null,
            "border": null,
            "align_items": null,
            "bottom": null,
            "_model_module": "@jupyter-widgets/base",
            "top": null,
            "grid_column": null,
            "overflow_y": null,
            "overflow_x": null,
            "grid_auto_flow": null,
            "grid_area": null,
            "grid_template_columns": null,
            "flex": null,
            "_model_name": "LayoutModel",
            "justify_items": null,
            "grid_row": null,
            "max_height": null,
            "align_content": null,
            "visibility": null,
            "align_self": null,
            "height": null,
            "min_height": null,
            "padding": null,
            "grid_auto_rows": null,
            "grid_gap": null,
            "max_width": null,
            "order": null,
            "_view_module_version": "1.2.0",
            "grid_template_areas": null,
            "object_position": null,
            "object_fit": null,
            "grid_auto_columns": null,
            "margin": null,
            "display": null,
            "left": null
          }
        },
        "66c125c69224434a9026224f77e10411": {
          "model_module": "@jupyter-widgets/controls",
          "model_name": "HTMLModel",
          "model_module_version": "1.5.0",
          "state": {
            "_view_name": "HTMLView",
            "style": "IPY_MODEL_4a1505e72066418bb91d19f8fb8b4c74",
            "_dom_classes": [],
            "description": "",
            "_model_name": "HTMLModel",
            "placeholder": "​",
            "_view_module": "@jupyter-widgets/controls",
            "_model_module_version": "1.5.0",
            "value": "Dl Size...: 100%",
            "_view_count": null,
            "_view_module_version": "1.5.0",
            "description_tooltip": null,
            "_model_module": "@jupyter-widgets/controls",
            "layout": "IPY_MODEL_0f5da4fd9e4d4c3b84c62902df1d817c"
          }
        },
        "200276bd15254835a7ed9740373708e9": {
          "model_module": "@jupyter-widgets/controls",
          "model_name": "FloatProgressModel",
          "model_module_version": "1.5.0",
          "state": {
            "_view_name": "ProgressView",
            "style": "IPY_MODEL_e0eeaf710ede4ed1a2146daa03d8472c",
            "_dom_classes": [],
            "description": "",
            "_model_name": "FloatProgressModel",
            "bar_style": "success",
            "max": 1,
            "_view_module": "@jupyter-widgets/controls",
            "_model_module_version": "1.5.0",
            "value": 1,
            "_view_count": null,
            "_view_module_version": "1.5.0",
            "orientation": "horizontal",
            "min": 0,
            "description_tooltip": null,
            "_model_module": "@jupyter-widgets/controls",
            "layout": "IPY_MODEL_c55cb8af4e3b486aa4afc04d14bfb14e"
          }
        },
        "509159fdebd94dcebbd42838d0d34ea1": {
          "model_module": "@jupyter-widgets/controls",
          "model_name": "HTMLModel",
          "model_module_version": "1.5.0",
          "state": {
            "_view_name": "HTMLView",
            "style": "IPY_MODEL_a7040285c3eb480fa1f03029e60767a4",
            "_dom_classes": [],
            "description": "",
            "_model_name": "HTMLModel",
            "placeholder": "​",
            "_view_module": "@jupyter-widgets/controls",
            "_model_module_version": "1.5.0",
            "value": " 4764/4764 [05:03&lt;00:00, 23.97 MiB/s]",
            "_view_count": null,
            "_view_module_version": "1.5.0",
            "description_tooltip": null,
            "_model_module": "@jupyter-widgets/controls",
            "layout": "IPY_MODEL_8f811cd3b84b49d98ca8184d4b16a3d1"
          }
        },
        "4a1505e72066418bb91d19f8fb8b4c74": {
          "model_module": "@jupyter-widgets/controls",
          "model_name": "DescriptionStyleModel",
          "model_module_version": "1.5.0",
          "state": {
            "_view_name": "StyleView",
            "_model_name": "DescriptionStyleModel",
            "description_width": "",
            "_view_module": "@jupyter-widgets/base",
            "_model_module_version": "1.5.0",
            "_view_count": null,
            "_view_module_version": "1.2.0",
            "_model_module": "@jupyter-widgets/controls"
          }
        },
        "0f5da4fd9e4d4c3b84c62902df1d817c": {
          "model_module": "@jupyter-widgets/base",
          "model_name": "LayoutModel",
          "model_module_version": "1.2.0",
          "state": {
            "_view_name": "LayoutView",
            "grid_template_rows": null,
            "right": null,
            "justify_content": null,
            "_view_module": "@jupyter-widgets/base",
            "overflow": null,
            "_model_module_version": "1.2.0",
            "_view_count": null,
            "flex_flow": null,
            "width": null,
            "min_width": null,
            "border": null,
            "align_items": null,
            "bottom": null,
            "_model_module": "@jupyter-widgets/base",
            "top": null,
            "grid_column": null,
            "overflow_y": null,
            "overflow_x": null,
            "grid_auto_flow": null,
            "grid_area": null,
            "grid_template_columns": null,
            "flex": null,
            "_model_name": "LayoutModel",
            "justify_items": null,
            "grid_row": null,
            "max_height": null,
            "align_content": null,
            "visibility": null,
            "align_self": null,
            "height": null,
            "min_height": null,
            "padding": null,
            "grid_auto_rows": null,
            "grid_gap": null,
            "max_width": null,
            "order": null,
            "_view_module_version": "1.2.0",
            "grid_template_areas": null,
            "object_position": null,
            "object_fit": null,
            "grid_auto_columns": null,
            "margin": null,
            "display": null,
            "left": null
          }
        },
        "e0eeaf710ede4ed1a2146daa03d8472c": {
          "model_module": "@jupyter-widgets/controls",
          "model_name": "ProgressStyleModel",
          "model_module_version": "1.5.0",
          "state": {
            "_view_name": "StyleView",
            "_model_name": "ProgressStyleModel",
            "description_width": "",
            "_view_module": "@jupyter-widgets/base",
            "_model_module_version": "1.5.0",
            "_view_count": null,
            "_view_module_version": "1.2.0",
            "bar_color": null,
            "_model_module": "@jupyter-widgets/controls"
          }
        },
        "c55cb8af4e3b486aa4afc04d14bfb14e": {
          "model_module": "@jupyter-widgets/base",
          "model_name": "LayoutModel",
          "model_module_version": "1.2.0",
          "state": {
            "_view_name": "LayoutView",
            "grid_template_rows": null,
            "right": null,
            "justify_content": null,
            "_view_module": "@jupyter-widgets/base",
            "overflow": null,
            "_model_module_version": "1.2.0",
            "_view_count": null,
            "flex_flow": null,
            "width": "20px",
            "min_width": null,
            "border": null,
            "align_items": null,
            "bottom": null,
            "_model_module": "@jupyter-widgets/base",
            "top": null,
            "grid_column": null,
            "overflow_y": null,
            "overflow_x": null,
            "grid_auto_flow": null,
            "grid_area": null,
            "grid_template_columns": null,
            "flex": null,
            "_model_name": "LayoutModel",
            "justify_items": null,
            "grid_row": null,
            "max_height": null,
            "align_content": null,
            "visibility": null,
            "align_self": null,
            "height": null,
            "min_height": null,
            "padding": null,
            "grid_auto_rows": null,
            "grid_gap": null,
            "max_width": null,
            "order": null,
            "_view_module_version": "1.2.0",
            "grid_template_areas": null,
            "object_position": null,
            "object_fit": null,
            "grid_auto_columns": null,
            "margin": null,
            "display": null,
            "left": null
          }
        },
        "a7040285c3eb480fa1f03029e60767a4": {
          "model_module": "@jupyter-widgets/controls",
          "model_name": "DescriptionStyleModel",
          "model_module_version": "1.5.0",
          "state": {
            "_view_name": "StyleView",
            "_model_name": "DescriptionStyleModel",
            "description_width": "",
            "_view_module": "@jupyter-widgets/base",
            "_model_module_version": "1.5.0",
            "_view_count": null,
            "_view_module_version": "1.2.0",
            "_model_module": "@jupyter-widgets/controls"
          }
        },
        "8f811cd3b84b49d98ca8184d4b16a3d1": {
          "model_module": "@jupyter-widgets/base",
          "model_name": "LayoutModel",
          "model_module_version": "1.2.0",
          "state": {
            "_view_name": "LayoutView",
            "grid_template_rows": null,
            "right": null,
            "justify_content": null,
            "_view_module": "@jupyter-widgets/base",
            "overflow": null,
            "_model_module_version": "1.2.0",
            "_view_count": null,
            "flex_flow": null,
            "width": null,
            "min_width": null,
            "border": null,
            "align_items": null,
            "bottom": null,
            "_model_module": "@jupyter-widgets/base",
            "top": null,
            "grid_column": null,
            "overflow_y": null,
            "overflow_x": null,
            "grid_auto_flow": null,
            "grid_area": null,
            "grid_template_columns": null,
            "flex": null,
            "_model_name": "LayoutModel",
            "justify_items": null,
            "grid_row": null,
            "max_height": null,
            "align_content": null,
            "visibility": null,
            "align_self": null,
            "height": null,
            "min_height": null,
            "padding": null,
            "grid_auto_rows": null,
            "grid_gap": null,
            "max_width": null,
            "order": null,
            "_view_module_version": "1.2.0",
            "grid_template_areas": null,
            "object_position": null,
            "object_fit": null,
            "grid_auto_columns": null,
            "margin": null,
            "display": null,
            "left": null
          }
        },
        "818df7daff984615b2b4ff9949e41140": {
          "model_module": "@jupyter-widgets/controls",
          "model_name": "HBoxModel",
          "model_module_version": "1.5.0",
          "state": {
            "_view_name": "HBoxView",
            "_dom_classes": [],
            "_model_name": "HBoxModel",
            "_view_module": "@jupyter-widgets/controls",
            "_model_module_version": "1.5.0",
            "_view_count": null,
            "_view_module_version": "1.5.0",
            "box_style": "",
            "layout": "IPY_MODEL_c45ea1feac6b40ebaeed9c77f147be2f",
            "_model_module": "@jupyter-widgets/controls",
            "children": [
              "IPY_MODEL_3a30f19a03b5404e97bdc807d7a7f98e",
              "IPY_MODEL_71f4261a785448ccb42838505c6e6ab0",
              "IPY_MODEL_019a7838fbff47e6b297ade17b78892b"
            ]
          }
        },
        "c45ea1feac6b40ebaeed9c77f147be2f": {
          "model_module": "@jupyter-widgets/base",
          "model_name": "LayoutModel",
          "model_module_version": "1.2.0",
          "state": {
            "_view_name": "LayoutView",
            "grid_template_rows": null,
            "right": null,
            "justify_content": null,
            "_view_module": "@jupyter-widgets/base",
            "overflow": null,
            "_model_module_version": "1.2.0",
            "_view_count": null,
            "flex_flow": null,
            "width": null,
            "min_width": null,
            "border": null,
            "align_items": null,
            "bottom": null,
            "_model_module": "@jupyter-widgets/base",
            "top": null,
            "grid_column": null,
            "overflow_y": null,
            "overflow_x": null,
            "grid_auto_flow": null,
            "grid_area": null,
            "grid_template_columns": null,
            "flex": null,
            "_model_name": "LayoutModel",
            "justify_items": null,
            "grid_row": null,
            "max_height": null,
            "align_content": null,
            "visibility": null,
            "align_self": null,
            "height": null,
            "min_height": null,
            "padding": null,
            "grid_auto_rows": null,
            "grid_gap": null,
            "max_width": null,
            "order": null,
            "_view_module_version": "1.2.0",
            "grid_template_areas": null,
            "object_position": null,
            "object_fit": null,
            "grid_auto_columns": null,
            "margin": null,
            "display": null,
            "left": null
          }
        },
        "3a30f19a03b5404e97bdc807d7a7f98e": {
          "model_module": "@jupyter-widgets/controls",
          "model_name": "HTMLModel",
          "model_module_version": "1.5.0",
          "state": {
            "_view_name": "HTMLView",
            "style": "IPY_MODEL_f9bb8ac2329c4af1961e3ce186367dfe",
            "_dom_classes": [],
            "description": "",
            "_model_name": "HTMLModel",
            "placeholder": "​",
            "_view_module": "@jupyter-widgets/controls",
            "_model_module_version": "1.5.0",
            "value": "Extraction completed...: 100%",
            "_view_count": null,
            "_view_module_version": "1.5.0",
            "description_tooltip": null,
            "_model_module": "@jupyter-widgets/controls",
            "layout": "IPY_MODEL_42f2bccca95f4c2e99b781e16e6efc88"
          }
        },
        "71f4261a785448ccb42838505c6e6ab0": {
          "model_module": "@jupyter-widgets/controls",
          "model_name": "FloatProgressModel",
          "model_module_version": "1.5.0",
          "state": {
            "_view_name": "ProgressView",
            "style": "IPY_MODEL_7b5e978ecb1b402e84174de2a35b2de0",
            "_dom_classes": [],
            "description": "",
            "_model_name": "FloatProgressModel",
            "bar_style": "success",
            "max": 1,
            "_view_module": "@jupyter-widgets/controls",
            "_model_module_version": "1.5.0",
            "value": 1,
            "_view_count": null,
            "_view_module_version": "1.5.0",
            "orientation": "horizontal",
            "min": 0,
            "description_tooltip": null,
            "_model_module": "@jupyter-widgets/controls",
            "layout": "IPY_MODEL_2e459e71fc96405b97f4b1d73c74b999"
          }
        },
        "019a7838fbff47e6b297ade17b78892b": {
          "model_module": "@jupyter-widgets/controls",
          "model_name": "HTMLModel",
          "model_module_version": "1.5.0",
          "state": {
            "_view_name": "HTMLView",
            "style": "IPY_MODEL_c0c2406081dd4595beb873f9d26f0244",
            "_dom_classes": [],
            "description": "",
            "_model_name": "HTMLModel",
            "placeholder": "​",
            "_view_module": "@jupyter-widgets/controls",
            "_model_module_version": "1.5.0",
            "value": " 1/1 [05:03&lt;00:00, 303.22s/ file]",
            "_view_count": null,
            "_view_module_version": "1.5.0",
            "description_tooltip": null,
            "_model_module": "@jupyter-widgets/controls",
            "layout": "IPY_MODEL_913adb687dff4f6bb86a2bfee541493b"
          }
        },
        "f9bb8ac2329c4af1961e3ce186367dfe": {
          "model_module": "@jupyter-widgets/controls",
          "model_name": "DescriptionStyleModel",
          "model_module_version": "1.5.0",
          "state": {
            "_view_name": "StyleView",
            "_model_name": "DescriptionStyleModel",
            "description_width": "",
            "_view_module": "@jupyter-widgets/base",
            "_model_module_version": "1.5.0",
            "_view_count": null,
            "_view_module_version": "1.2.0",
            "_model_module": "@jupyter-widgets/controls"
          }
        },
        "42f2bccca95f4c2e99b781e16e6efc88": {
          "model_module": "@jupyter-widgets/base",
          "model_name": "LayoutModel",
          "model_module_version": "1.2.0",
          "state": {
            "_view_name": "LayoutView",
            "grid_template_rows": null,
            "right": null,
            "justify_content": null,
            "_view_module": "@jupyter-widgets/base",
            "overflow": null,
            "_model_module_version": "1.2.0",
            "_view_count": null,
            "flex_flow": null,
            "width": null,
            "min_width": null,
            "border": null,
            "align_items": null,
            "bottom": null,
            "_model_module": "@jupyter-widgets/base",
            "top": null,
            "grid_column": null,
            "overflow_y": null,
            "overflow_x": null,
            "grid_auto_flow": null,
            "grid_area": null,
            "grid_template_columns": null,
            "flex": null,
            "_model_name": "LayoutModel",
            "justify_items": null,
            "grid_row": null,
            "max_height": null,
            "align_content": null,
            "visibility": null,
            "align_self": null,
            "height": null,
            "min_height": null,
            "padding": null,
            "grid_auto_rows": null,
            "grid_gap": null,
            "max_width": null,
            "order": null,
            "_view_module_version": "1.2.0",
            "grid_template_areas": null,
            "object_position": null,
            "object_fit": null,
            "grid_auto_columns": null,
            "margin": null,
            "display": null,
            "left": null
          }
        },
        "7b5e978ecb1b402e84174de2a35b2de0": {
          "model_module": "@jupyter-widgets/controls",
          "model_name": "ProgressStyleModel",
          "model_module_version": "1.5.0",
          "state": {
            "_view_name": "StyleView",
            "_model_name": "ProgressStyleModel",
            "description_width": "",
            "_view_module": "@jupyter-widgets/base",
            "_model_module_version": "1.5.0",
            "_view_count": null,
            "_view_module_version": "1.2.0",
            "bar_color": null,
            "_model_module": "@jupyter-widgets/controls"
          }
        },
        "2e459e71fc96405b97f4b1d73c74b999": {
          "model_module": "@jupyter-widgets/base",
          "model_name": "LayoutModel",
          "model_module_version": "1.2.0",
          "state": {
            "_view_name": "LayoutView",
            "grid_template_rows": null,
            "right": null,
            "justify_content": null,
            "_view_module": "@jupyter-widgets/base",
            "overflow": null,
            "_model_module_version": "1.2.0",
            "_view_count": null,
            "flex_flow": null,
            "width": "20px",
            "min_width": null,
            "border": null,
            "align_items": null,
            "bottom": null,
            "_model_module": "@jupyter-widgets/base",
            "top": null,
            "grid_column": null,
            "overflow_y": null,
            "overflow_x": null,
            "grid_auto_flow": null,
            "grid_area": null,
            "grid_template_columns": null,
            "flex": null,
            "_model_name": "LayoutModel",
            "justify_items": null,
            "grid_row": null,
            "max_height": null,
            "align_content": null,
            "visibility": null,
            "align_self": null,
            "height": null,
            "min_height": null,
            "padding": null,
            "grid_auto_rows": null,
            "grid_gap": null,
            "max_width": null,
            "order": null,
            "_view_module_version": "1.2.0",
            "grid_template_areas": null,
            "object_position": null,
            "object_fit": null,
            "grid_auto_columns": null,
            "margin": null,
            "display": null,
            "left": null
          }
        },
        "c0c2406081dd4595beb873f9d26f0244": {
          "model_module": "@jupyter-widgets/controls",
          "model_name": "DescriptionStyleModel",
          "model_module_version": "1.5.0",
          "state": {
            "_view_name": "StyleView",
            "_model_name": "DescriptionStyleModel",
            "description_width": "",
            "_view_module": "@jupyter-widgets/base",
            "_model_module_version": "1.5.0",
            "_view_count": null,
            "_view_module_version": "1.2.0",
            "_model_module": "@jupyter-widgets/controls"
          }
        },
        "913adb687dff4f6bb86a2bfee541493b": {
          "model_module": "@jupyter-widgets/base",
          "model_name": "LayoutModel",
          "model_module_version": "1.2.0",
          "state": {
            "_view_name": "LayoutView",
            "grid_template_rows": null,
            "right": null,
            "justify_content": null,
            "_view_module": "@jupyter-widgets/base",
            "overflow": null,
            "_model_module_version": "1.2.0",
            "_view_count": null,
            "flex_flow": null,
            "width": null,
            "min_width": null,
            "border": null,
            "align_items": null,
            "bottom": null,
            "_model_module": "@jupyter-widgets/base",
            "top": null,
            "grid_column": null,
            "overflow_y": null,
            "overflow_x": null,
            "grid_auto_flow": null,
            "grid_area": null,
            "grid_template_columns": null,
            "flex": null,
            "_model_name": "LayoutModel",
            "justify_items": null,
            "grid_row": null,
            "max_height": null,
            "align_content": null,
            "visibility": null,
            "align_self": null,
            "height": null,
            "min_height": null,
            "padding": null,
            "grid_auto_rows": null,
            "grid_gap": null,
            "max_width": null,
            "order": null,
            "_view_module_version": "1.2.0",
            "grid_template_areas": null,
            "object_position": null,
            "object_fit": null,
            "grid_auto_columns": null,
            "margin": null,
            "display": null,
            "left": null
          }
        },
        "7c9aff5990f84892ad2c0cdc37dd4784": {
          "model_module": "@jupyter-widgets/controls",
          "model_name": "HBoxModel",
          "model_module_version": "1.5.0",
          "state": {
            "_view_name": "HBoxView",
            "_dom_classes": [],
            "_model_name": "HBoxModel",
            "_view_module": "@jupyter-widgets/controls",
            "_model_module_version": "1.5.0",
            "_view_count": null,
            "_view_module_version": "1.5.0",
            "box_style": "",
            "layout": "IPY_MODEL_a8ca48858eb04a29b3ded996ea65aa99",
            "_model_module": "@jupyter-widgets/controls",
            "children": [
              "IPY_MODEL_1d71bf6478a840a8a60662f9175c1ebc",
              "IPY_MODEL_c721bc60f54f47a19f59a677a5dd9c9e",
              "IPY_MODEL_813f7086f336490bafbcff231fc86424"
            ]
          }
        },
        "a8ca48858eb04a29b3ded996ea65aa99": {
          "model_module": "@jupyter-widgets/base",
          "model_name": "LayoutModel",
          "model_module_version": "1.2.0",
          "state": {
            "_view_name": "LayoutView",
            "grid_template_rows": null,
            "right": null,
            "justify_content": null,
            "_view_module": "@jupyter-widgets/base",
            "overflow": null,
            "_model_module_version": "1.2.0",
            "_view_count": null,
            "flex_flow": null,
            "width": null,
            "min_width": null,
            "border": null,
            "align_items": null,
            "bottom": null,
            "_model_module": "@jupyter-widgets/base",
            "top": null,
            "grid_column": null,
            "overflow_y": null,
            "overflow_x": null,
            "grid_auto_flow": null,
            "grid_area": null,
            "grid_template_columns": null,
            "flex": null,
            "_model_name": "LayoutModel",
            "justify_items": null,
            "grid_row": null,
            "max_height": null,
            "align_content": null,
            "visibility": null,
            "align_self": null,
            "height": null,
            "min_height": null,
            "padding": null,
            "grid_auto_rows": null,
            "grid_gap": null,
            "max_width": null,
            "order": null,
            "_view_module_version": "1.2.0",
            "grid_template_areas": null,
            "object_position": null,
            "object_fit": null,
            "grid_auto_columns": null,
            "margin": null,
            "display": null,
            "left": null
          }
        },
        "1d71bf6478a840a8a60662f9175c1ebc": {
          "model_module": "@jupyter-widgets/controls",
          "model_name": "HTMLModel",
          "model_module_version": "1.5.0",
          "state": {
            "_view_name": "HTMLView",
            "style": "IPY_MODEL_793a0ed4ac3d4c64a98133ae9365f60e",
            "_dom_classes": [],
            "description": "",
            "_model_name": "HTMLModel",
            "placeholder": "​",
            "_view_module": "@jupyter-widgets/controls",
            "_model_module_version": "1.5.0",
            "value": "",
            "_view_count": null,
            "_view_module_version": "1.5.0",
            "description_tooltip": null,
            "_model_module": "@jupyter-widgets/controls",
            "layout": "IPY_MODEL_6006b3efd736454db8799a6eff24d3c8"
          }
        },
        "c721bc60f54f47a19f59a677a5dd9c9e": {
          "model_module": "@jupyter-widgets/controls",
          "model_name": "FloatProgressModel",
          "model_module_version": "1.5.0",
          "state": {
            "_view_name": "ProgressView",
            "style": "IPY_MODEL_8e8da03ff1174756b3575607074dedd4",
            "_dom_classes": [],
            "description": "",
            "_model_name": "FloatProgressModel",
            "bar_style": "info",
            "max": 1,
            "_view_module": "@jupyter-widgets/controls",
            "_model_module_version": "1.5.0",
            "value": 1,
            "_view_count": null,
            "_view_module_version": "1.5.0",
            "orientation": "horizontal",
            "min": 0,
            "description_tooltip": null,
            "_model_module": "@jupyter-widgets/controls",
            "layout": "IPY_MODEL_5e130147a62a47d2806e31f5b6b84e54"
          }
        },
        "813f7086f336490bafbcff231fc86424": {
          "model_module": "@jupyter-widgets/controls",
          "model_name": "HTMLModel",
          "model_module_version": "1.5.0",
          "state": {
            "_view_name": "HTMLView",
            "style": "IPY_MODEL_d576989b53654eaba0da6cfa6aed43ac",
            "_dom_classes": [],
            "description": "",
            "_model_name": "HTMLModel",
            "placeholder": "​",
            "_view_module": "@jupyter-widgets/controls",
            "_model_module_version": "1.5.0",
            "value": " 75747/0 [02:05&lt;00:00, 689.83 examples/s]",
            "_view_count": null,
            "_view_module_version": "1.5.0",
            "description_tooltip": null,
            "_model_module": "@jupyter-widgets/controls",
            "layout": "IPY_MODEL_f114d22e815a46f182cdf302173ad3e3"
          }
        },
        "793a0ed4ac3d4c64a98133ae9365f60e": {
          "model_module": "@jupyter-widgets/controls",
          "model_name": "DescriptionStyleModel",
          "model_module_version": "1.5.0",
          "state": {
            "_view_name": "StyleView",
            "_model_name": "DescriptionStyleModel",
            "description_width": "",
            "_view_module": "@jupyter-widgets/base",
            "_model_module_version": "1.5.0",
            "_view_count": null,
            "_view_module_version": "1.2.0",
            "_model_module": "@jupyter-widgets/controls"
          }
        },
        "6006b3efd736454db8799a6eff24d3c8": {
          "model_module": "@jupyter-widgets/base",
          "model_name": "LayoutModel",
          "model_module_version": "1.2.0",
          "state": {
            "_view_name": "LayoutView",
            "grid_template_rows": null,
            "right": null,
            "justify_content": null,
            "_view_module": "@jupyter-widgets/base",
            "overflow": null,
            "_model_module_version": "1.2.0",
            "_view_count": null,
            "flex_flow": null,
            "width": null,
            "min_width": null,
            "border": null,
            "align_items": null,
            "bottom": null,
            "_model_module": "@jupyter-widgets/base",
            "top": null,
            "grid_column": null,
            "overflow_y": null,
            "overflow_x": null,
            "grid_auto_flow": null,
            "grid_area": null,
            "grid_template_columns": null,
            "flex": null,
            "_model_name": "LayoutModel",
            "justify_items": null,
            "grid_row": null,
            "max_height": null,
            "align_content": null,
            "visibility": null,
            "align_self": null,
            "height": null,
            "min_height": null,
            "padding": null,
            "grid_auto_rows": null,
            "grid_gap": null,
            "max_width": null,
            "order": null,
            "_view_module_version": "1.2.0",
            "grid_template_areas": null,
            "object_position": null,
            "object_fit": null,
            "grid_auto_columns": null,
            "margin": null,
            "display": null,
            "left": null
          }
        },
        "8e8da03ff1174756b3575607074dedd4": {
          "model_module": "@jupyter-widgets/controls",
          "model_name": "ProgressStyleModel",
          "model_module_version": "1.5.0",
          "state": {
            "_view_name": "StyleView",
            "_model_name": "ProgressStyleModel",
            "description_width": "",
            "_view_module": "@jupyter-widgets/base",
            "_model_module_version": "1.5.0",
            "_view_count": null,
            "_view_module_version": "1.2.0",
            "bar_color": null,
            "_model_module": "@jupyter-widgets/controls"
          }
        },
        "5e130147a62a47d2806e31f5b6b84e54": {
          "model_module": "@jupyter-widgets/base",
          "model_name": "LayoutModel",
          "model_module_version": "1.2.0",
          "state": {
            "_view_name": "LayoutView",
            "grid_template_rows": null,
            "right": null,
            "justify_content": null,
            "_view_module": "@jupyter-widgets/base",
            "overflow": null,
            "_model_module_version": "1.2.0",
            "_view_count": null,
            "flex_flow": null,
            "width": "20px",
            "min_width": null,
            "border": null,
            "align_items": null,
            "bottom": null,
            "_model_module": "@jupyter-widgets/base",
            "top": null,
            "grid_column": null,
            "overflow_y": null,
            "overflow_x": null,
            "grid_auto_flow": null,
            "grid_area": null,
            "grid_template_columns": null,
            "flex": null,
            "_model_name": "LayoutModel",
            "justify_items": null,
            "grid_row": null,
            "max_height": null,
            "align_content": null,
            "visibility": null,
            "align_self": null,
            "height": null,
            "min_height": null,
            "padding": null,
            "grid_auto_rows": null,
            "grid_gap": null,
            "max_width": null,
            "order": null,
            "_view_module_version": "1.2.0",
            "grid_template_areas": null,
            "object_position": null,
            "object_fit": null,
            "grid_auto_columns": null,
            "margin": null,
            "display": null,
            "left": null
          }
        },
        "d576989b53654eaba0da6cfa6aed43ac": {
          "model_module": "@jupyter-widgets/controls",
          "model_name": "DescriptionStyleModel",
          "model_module_version": "1.5.0",
          "state": {
            "_view_name": "StyleView",
            "_model_name": "DescriptionStyleModel",
            "description_width": "",
            "_view_module": "@jupyter-widgets/base",
            "_model_module_version": "1.5.0",
            "_view_count": null,
            "_view_module_version": "1.2.0",
            "_model_module": "@jupyter-widgets/controls"
          }
        },
        "f114d22e815a46f182cdf302173ad3e3": {
          "model_module": "@jupyter-widgets/base",
          "model_name": "LayoutModel",
          "model_module_version": "1.2.0",
          "state": {
            "_view_name": "LayoutView",
            "grid_template_rows": null,
            "right": null,
            "justify_content": null,
            "_view_module": "@jupyter-widgets/base",
            "overflow": null,
            "_model_module_version": "1.2.0",
            "_view_count": null,
            "flex_flow": null,
            "width": null,
            "min_width": null,
            "border": null,
            "align_items": null,
            "bottom": null,
            "_model_module": "@jupyter-widgets/base",
            "top": null,
            "grid_column": null,
            "overflow_y": null,
            "overflow_x": null,
            "grid_auto_flow": null,
            "grid_area": null,
            "grid_template_columns": null,
            "flex": null,
            "_model_name": "LayoutModel",
            "justify_items": null,
            "grid_row": null,
            "max_height": null,
            "align_content": null,
            "visibility": null,
            "align_self": null,
            "height": null,
            "min_height": null,
            "padding": null,
            "grid_auto_rows": null,
            "grid_gap": null,
            "max_width": null,
            "order": null,
            "_view_module_version": "1.2.0",
            "grid_template_areas": null,
            "object_position": null,
            "object_fit": null,
            "grid_auto_columns": null,
            "margin": null,
            "display": null,
            "left": null
          }
        },
        "246341f14f0f4c08bd7a8a118b130d84": {
          "model_module": "@jupyter-widgets/controls",
          "model_name": "HBoxModel",
          "model_module_version": "1.5.0",
          "state": {
            "_view_name": "HBoxView",
            "_dom_classes": [],
            "_model_name": "HBoxModel",
            "_view_module": "@jupyter-widgets/controls",
            "_model_module_version": "1.5.0",
            "_view_count": null,
            "_view_module_version": "1.5.0",
            "box_style": "",
            "layout": "IPY_MODEL_3c421f1fb1d04459822411c0acdd4fa9",
            "_model_module": "@jupyter-widgets/controls",
            "children": [
              "IPY_MODEL_2a723bd1339b4edba17406e508815151",
              "IPY_MODEL_0203fe097704467baea5317a088426cf",
              "IPY_MODEL_d8d30642bb7846bc8ac4aeb323b9e47c"
            ]
          }
        },
        "3c421f1fb1d04459822411c0acdd4fa9": {
          "model_module": "@jupyter-widgets/base",
          "model_name": "LayoutModel",
          "model_module_version": "1.2.0",
          "state": {
            "_view_name": "LayoutView",
            "grid_template_rows": null,
            "right": null,
            "justify_content": null,
            "_view_module": "@jupyter-widgets/base",
            "overflow": null,
            "_model_module_version": "1.2.0",
            "_view_count": null,
            "flex_flow": null,
            "width": null,
            "min_width": null,
            "border": null,
            "align_items": null,
            "bottom": null,
            "_model_module": "@jupyter-widgets/base",
            "top": null,
            "grid_column": null,
            "overflow_y": null,
            "overflow_x": null,
            "grid_auto_flow": null,
            "grid_area": null,
            "grid_template_columns": null,
            "flex": null,
            "_model_name": "LayoutModel",
            "justify_items": null,
            "grid_row": null,
            "max_height": null,
            "align_content": null,
            "visibility": null,
            "align_self": null,
            "height": null,
            "min_height": null,
            "padding": null,
            "grid_auto_rows": null,
            "grid_gap": null,
            "max_width": null,
            "order": null,
            "_view_module_version": "1.2.0",
            "grid_template_areas": null,
            "object_position": null,
            "object_fit": null,
            "grid_auto_columns": null,
            "margin": null,
            "display": null,
            "left": null
          }
        },
        "2a723bd1339b4edba17406e508815151": {
          "model_module": "@jupyter-widgets/controls",
          "model_name": "HTMLModel",
          "model_module_version": "1.5.0",
          "state": {
            "_view_name": "HTMLView",
            "style": "IPY_MODEL_3fb199a85a944f589cfe6ea7daed6e7e",
            "_dom_classes": [],
            "description": "",
            "_model_name": "HTMLModel",
            "placeholder": "​",
            "_view_module": "@jupyter-widgets/controls",
            "_model_module_version": "1.5.0",
            "value": "100%",
            "_view_count": null,
            "_view_module_version": "1.5.0",
            "description_tooltip": null,
            "_model_module": "@jupyter-widgets/controls",
            "layout": "IPY_MODEL_95a8cb44421d4181b40e1e93c1acc345"
          }
        },
        "0203fe097704467baea5317a088426cf": {
          "model_module": "@jupyter-widgets/controls",
          "model_name": "FloatProgressModel",
          "model_module_version": "1.5.0",
          "state": {
            "_view_name": "ProgressView",
            "style": "IPY_MODEL_93f96abb42954af8b2e4701a948c0da3",
            "_dom_classes": [],
            "description": "",
            "_model_name": "FloatProgressModel",
            "bar_style": "danger",
            "max": 75750,
            "_view_module": "@jupyter-widgets/controls",
            "_model_module_version": "1.5.0",
            "value": 75749,
            "_view_count": null,
            "_view_module_version": "1.5.0",
            "orientation": "horizontal",
            "min": 0,
            "description_tooltip": null,
            "_model_module": "@jupyter-widgets/controls",
            "layout": "IPY_MODEL_f09986a3828241848bf2a139c5286a2d"
          }
        },
        "d8d30642bb7846bc8ac4aeb323b9e47c": {
          "model_module": "@jupyter-widgets/controls",
          "model_name": "HTMLModel",
          "model_module_version": "1.5.0",
          "state": {
            "_view_name": "HTMLView",
            "style": "IPY_MODEL_5cca07207d304c76852c25ebdf0b9f21",
            "_dom_classes": [],
            "description": "",
            "_model_name": "HTMLModel",
            "placeholder": "​",
            "_view_module": "@jupyter-widgets/controls",
            "_model_module_version": "1.5.0",
            "value": " 75749/75750 [01:05&lt;00:00, 834.63 examples/s]",
            "_view_count": null,
            "_view_module_version": "1.5.0",
            "description_tooltip": null,
            "_model_module": "@jupyter-widgets/controls",
            "layout": "IPY_MODEL_bf80e049f0b447f18d10d2e2a33848da"
          }
        },
        "3fb199a85a944f589cfe6ea7daed6e7e": {
          "model_module": "@jupyter-widgets/controls",
          "model_name": "DescriptionStyleModel",
          "model_module_version": "1.5.0",
          "state": {
            "_view_name": "StyleView",
            "_model_name": "DescriptionStyleModel",
            "description_width": "",
            "_view_module": "@jupyter-widgets/base",
            "_model_module_version": "1.5.0",
            "_view_count": null,
            "_view_module_version": "1.2.0",
            "_model_module": "@jupyter-widgets/controls"
          }
        },
        "95a8cb44421d4181b40e1e93c1acc345": {
          "model_module": "@jupyter-widgets/base",
          "model_name": "LayoutModel",
          "model_module_version": "1.2.0",
          "state": {
            "_view_name": "LayoutView",
            "grid_template_rows": null,
            "right": null,
            "justify_content": null,
            "_view_module": "@jupyter-widgets/base",
            "overflow": null,
            "_model_module_version": "1.2.0",
            "_view_count": null,
            "flex_flow": null,
            "width": null,
            "min_width": null,
            "border": null,
            "align_items": null,
            "bottom": null,
            "_model_module": "@jupyter-widgets/base",
            "top": null,
            "grid_column": null,
            "overflow_y": null,
            "overflow_x": null,
            "grid_auto_flow": null,
            "grid_area": null,
            "grid_template_columns": null,
            "flex": null,
            "_model_name": "LayoutModel",
            "justify_items": null,
            "grid_row": null,
            "max_height": null,
            "align_content": null,
            "visibility": null,
            "align_self": null,
            "height": null,
            "min_height": null,
            "padding": null,
            "grid_auto_rows": null,
            "grid_gap": null,
            "max_width": null,
            "order": null,
            "_view_module_version": "1.2.0",
            "grid_template_areas": null,
            "object_position": null,
            "object_fit": null,
            "grid_auto_columns": null,
            "margin": null,
            "display": null,
            "left": null
          }
        },
        "93f96abb42954af8b2e4701a948c0da3": {
          "model_module": "@jupyter-widgets/controls",
          "model_name": "ProgressStyleModel",
          "model_module_version": "1.5.0",
          "state": {
            "_view_name": "StyleView",
            "_model_name": "ProgressStyleModel",
            "description_width": "",
            "_view_module": "@jupyter-widgets/base",
            "_model_module_version": "1.5.0",
            "_view_count": null,
            "_view_module_version": "1.2.0",
            "bar_color": null,
            "_model_module": "@jupyter-widgets/controls"
          }
        },
        "f09986a3828241848bf2a139c5286a2d": {
          "model_module": "@jupyter-widgets/base",
          "model_name": "LayoutModel",
          "model_module_version": "1.2.0",
          "state": {
            "_view_name": "LayoutView",
            "grid_template_rows": null,
            "right": null,
            "justify_content": null,
            "_view_module": "@jupyter-widgets/base",
            "overflow": null,
            "_model_module_version": "1.2.0",
            "_view_count": null,
            "flex_flow": null,
            "width": null,
            "min_width": null,
            "border": null,
            "align_items": null,
            "bottom": null,
            "_model_module": "@jupyter-widgets/base",
            "top": null,
            "grid_column": null,
            "overflow_y": null,
            "overflow_x": null,
            "grid_auto_flow": null,
            "grid_area": null,
            "grid_template_columns": null,
            "flex": null,
            "_model_name": "LayoutModel",
            "justify_items": null,
            "grid_row": null,
            "max_height": null,
            "align_content": null,
            "visibility": null,
            "align_self": null,
            "height": null,
            "min_height": null,
            "padding": null,
            "grid_auto_rows": null,
            "grid_gap": null,
            "max_width": null,
            "order": null,
            "_view_module_version": "1.2.0",
            "grid_template_areas": null,
            "object_position": null,
            "object_fit": null,
            "grid_auto_columns": null,
            "margin": null,
            "display": null,
            "left": null
          }
        },
        "5cca07207d304c76852c25ebdf0b9f21": {
          "model_module": "@jupyter-widgets/controls",
          "model_name": "DescriptionStyleModel",
          "model_module_version": "1.5.0",
          "state": {
            "_view_name": "StyleView",
            "_model_name": "DescriptionStyleModel",
            "description_width": "",
            "_view_module": "@jupyter-widgets/base",
            "_model_module_version": "1.5.0",
            "_view_count": null,
            "_view_module_version": "1.2.0",
            "_model_module": "@jupyter-widgets/controls"
          }
        },
        "bf80e049f0b447f18d10d2e2a33848da": {
          "model_module": "@jupyter-widgets/base",
          "model_name": "LayoutModel",
          "model_module_version": "1.2.0",
          "state": {
            "_view_name": "LayoutView",
            "grid_template_rows": null,
            "right": null,
            "justify_content": null,
            "_view_module": "@jupyter-widgets/base",
            "overflow": null,
            "_model_module_version": "1.2.0",
            "_view_count": null,
            "flex_flow": null,
            "width": null,
            "min_width": null,
            "border": null,
            "align_items": null,
            "bottom": null,
            "_model_module": "@jupyter-widgets/base",
            "top": null,
            "grid_column": null,
            "overflow_y": null,
            "overflow_x": null,
            "grid_auto_flow": null,
            "grid_area": null,
            "grid_template_columns": null,
            "flex": null,
            "_model_name": "LayoutModel",
            "justify_items": null,
            "grid_row": null,
            "max_height": null,
            "align_content": null,
            "visibility": null,
            "align_self": null,
            "height": null,
            "min_height": null,
            "padding": null,
            "grid_auto_rows": null,
            "grid_gap": null,
            "max_width": null,
            "order": null,
            "_view_module_version": "1.2.0",
            "grid_template_areas": null,
            "object_position": null,
            "object_fit": null,
            "grid_auto_columns": null,
            "margin": null,
            "display": null,
            "left": null
          }
        },
        "229b49793fc742798d3bdfe0d1b9efc4": {
          "model_module": "@jupyter-widgets/controls",
          "model_name": "HBoxModel",
          "model_module_version": "1.5.0",
          "state": {
            "_view_name": "HBoxView",
            "_dom_classes": [],
            "_model_name": "HBoxModel",
            "_view_module": "@jupyter-widgets/controls",
            "_model_module_version": "1.5.0",
            "_view_count": null,
            "_view_module_version": "1.5.0",
            "box_style": "",
            "layout": "IPY_MODEL_6566499023a84852957eb8cd8596e574",
            "_model_module": "@jupyter-widgets/controls",
            "children": [
              "IPY_MODEL_8cba55124eb44949ac99a1d32299a0e4",
              "IPY_MODEL_4c2c55751c864b8795dc082a77ffa67a",
              "IPY_MODEL_0d9a7f50317744ea86a52719fef7a5f5"
            ]
          }
        },
        "6566499023a84852957eb8cd8596e574": {
          "model_module": "@jupyter-widgets/base",
          "model_name": "LayoutModel",
          "model_module_version": "1.2.0",
          "state": {
            "_view_name": "LayoutView",
            "grid_template_rows": null,
            "right": null,
            "justify_content": null,
            "_view_module": "@jupyter-widgets/base",
            "overflow": null,
            "_model_module_version": "1.2.0",
            "_view_count": null,
            "flex_flow": null,
            "width": null,
            "min_width": null,
            "border": null,
            "align_items": null,
            "bottom": null,
            "_model_module": "@jupyter-widgets/base",
            "top": null,
            "grid_column": null,
            "overflow_y": null,
            "overflow_x": null,
            "grid_auto_flow": null,
            "grid_area": null,
            "grid_template_columns": null,
            "flex": null,
            "_model_name": "LayoutModel",
            "justify_items": null,
            "grid_row": null,
            "max_height": null,
            "align_content": null,
            "visibility": null,
            "align_self": null,
            "height": null,
            "min_height": null,
            "padding": null,
            "grid_auto_rows": null,
            "grid_gap": null,
            "max_width": null,
            "order": null,
            "_view_module_version": "1.2.0",
            "grid_template_areas": null,
            "object_position": null,
            "object_fit": null,
            "grid_auto_columns": null,
            "margin": null,
            "display": null,
            "left": null
          }
        },
        "8cba55124eb44949ac99a1d32299a0e4": {
          "model_module": "@jupyter-widgets/controls",
          "model_name": "HTMLModel",
          "model_module_version": "1.5.0",
          "state": {
            "_view_name": "HTMLView",
            "style": "IPY_MODEL_1cfd9ed5175340a0b8b9cce721068e91",
            "_dom_classes": [],
            "description": "",
            "_model_name": "HTMLModel",
            "placeholder": "​",
            "_view_module": "@jupyter-widgets/controls",
            "_model_module_version": "1.5.0",
            "value": "",
            "_view_count": null,
            "_view_module_version": "1.5.0",
            "description_tooltip": null,
            "_model_module": "@jupyter-widgets/controls",
            "layout": "IPY_MODEL_01b61b83b66e452197ef032b63893019"
          }
        },
        "4c2c55751c864b8795dc082a77ffa67a": {
          "model_module": "@jupyter-widgets/controls",
          "model_name": "FloatProgressModel",
          "model_module_version": "1.5.0",
          "state": {
            "_view_name": "ProgressView",
            "style": "IPY_MODEL_499c80ed6fc045008e1fb34e63a3ca77",
            "_dom_classes": [],
            "description": "",
            "_model_name": "FloatProgressModel",
            "bar_style": "info",
            "max": 1,
            "_view_module": "@jupyter-widgets/controls",
            "_model_module_version": "1.5.0",
            "value": 1,
            "_view_count": null,
            "_view_module_version": "1.5.0",
            "orientation": "horizontal",
            "min": 0,
            "description_tooltip": null,
            "_model_module": "@jupyter-widgets/controls",
            "layout": "IPY_MODEL_b5f7d0c7aa7a45659fe8ed405408e55f"
          }
        },
        "0d9a7f50317744ea86a52719fef7a5f5": {
          "model_module": "@jupyter-widgets/controls",
          "model_name": "HTMLModel",
          "model_module_version": "1.5.0",
          "state": {
            "_view_name": "HTMLView",
            "style": "IPY_MODEL_228fc97948f648a0b4f0545a7d086fc8",
            "_dom_classes": [],
            "description": "",
            "_model_name": "HTMLModel",
            "placeholder": "​",
            "_view_module": "@jupyter-widgets/controls",
            "_model_module_version": "1.5.0",
            "value": " 25236/0 [01:08&lt;00:00, 409.34 examples/s]",
            "_view_count": null,
            "_view_module_version": "1.5.0",
            "description_tooltip": null,
            "_model_module": "@jupyter-widgets/controls",
            "layout": "IPY_MODEL_d8b313aef3854d87a5fb182546ef6fc6"
          }
        },
        "1cfd9ed5175340a0b8b9cce721068e91": {
          "model_module": "@jupyter-widgets/controls",
          "model_name": "DescriptionStyleModel",
          "model_module_version": "1.5.0",
          "state": {
            "_view_name": "StyleView",
            "_model_name": "DescriptionStyleModel",
            "description_width": "",
            "_view_module": "@jupyter-widgets/base",
            "_model_module_version": "1.5.0",
            "_view_count": null,
            "_view_module_version": "1.2.0",
            "_model_module": "@jupyter-widgets/controls"
          }
        },
        "01b61b83b66e452197ef032b63893019": {
          "model_module": "@jupyter-widgets/base",
          "model_name": "LayoutModel",
          "model_module_version": "1.2.0",
          "state": {
            "_view_name": "LayoutView",
            "grid_template_rows": null,
            "right": null,
            "justify_content": null,
            "_view_module": "@jupyter-widgets/base",
            "overflow": null,
            "_model_module_version": "1.2.0",
            "_view_count": null,
            "flex_flow": null,
            "width": null,
            "min_width": null,
            "border": null,
            "align_items": null,
            "bottom": null,
            "_model_module": "@jupyter-widgets/base",
            "top": null,
            "grid_column": null,
            "overflow_y": null,
            "overflow_x": null,
            "grid_auto_flow": null,
            "grid_area": null,
            "grid_template_columns": null,
            "flex": null,
            "_model_name": "LayoutModel",
            "justify_items": null,
            "grid_row": null,
            "max_height": null,
            "align_content": null,
            "visibility": null,
            "align_self": null,
            "height": null,
            "min_height": null,
            "padding": null,
            "grid_auto_rows": null,
            "grid_gap": null,
            "max_width": null,
            "order": null,
            "_view_module_version": "1.2.0",
            "grid_template_areas": null,
            "object_position": null,
            "object_fit": null,
            "grid_auto_columns": null,
            "margin": null,
            "display": null,
            "left": null
          }
        },
        "499c80ed6fc045008e1fb34e63a3ca77": {
          "model_module": "@jupyter-widgets/controls",
          "model_name": "ProgressStyleModel",
          "model_module_version": "1.5.0",
          "state": {
            "_view_name": "StyleView",
            "_model_name": "ProgressStyleModel",
            "description_width": "",
            "_view_module": "@jupyter-widgets/base",
            "_model_module_version": "1.5.0",
            "_view_count": null,
            "_view_module_version": "1.2.0",
            "bar_color": null,
            "_model_module": "@jupyter-widgets/controls"
          }
        },
        "b5f7d0c7aa7a45659fe8ed405408e55f": {
          "model_module": "@jupyter-widgets/base",
          "model_name": "LayoutModel",
          "model_module_version": "1.2.0",
          "state": {
            "_view_name": "LayoutView",
            "grid_template_rows": null,
            "right": null,
            "justify_content": null,
            "_view_module": "@jupyter-widgets/base",
            "overflow": null,
            "_model_module_version": "1.2.0",
            "_view_count": null,
            "flex_flow": null,
            "width": "20px",
            "min_width": null,
            "border": null,
            "align_items": null,
            "bottom": null,
            "_model_module": "@jupyter-widgets/base",
            "top": null,
            "grid_column": null,
            "overflow_y": null,
            "overflow_x": null,
            "grid_auto_flow": null,
            "grid_area": null,
            "grid_template_columns": null,
            "flex": null,
            "_model_name": "LayoutModel",
            "justify_items": null,
            "grid_row": null,
            "max_height": null,
            "align_content": null,
            "visibility": null,
            "align_self": null,
            "height": null,
            "min_height": null,
            "padding": null,
            "grid_auto_rows": null,
            "grid_gap": null,
            "max_width": null,
            "order": null,
            "_view_module_version": "1.2.0",
            "grid_template_areas": null,
            "object_position": null,
            "object_fit": null,
            "grid_auto_columns": null,
            "margin": null,
            "display": null,
            "left": null
          }
        },
        "228fc97948f648a0b4f0545a7d086fc8": {
          "model_module": "@jupyter-widgets/controls",
          "model_name": "DescriptionStyleModel",
          "model_module_version": "1.5.0",
          "state": {
            "_view_name": "StyleView",
            "_model_name": "DescriptionStyleModel",
            "description_width": "",
            "_view_module": "@jupyter-widgets/base",
            "_model_module_version": "1.5.0",
            "_view_count": null,
            "_view_module_version": "1.2.0",
            "_model_module": "@jupyter-widgets/controls"
          }
        },
        "d8b313aef3854d87a5fb182546ef6fc6": {
          "model_module": "@jupyter-widgets/base",
          "model_name": "LayoutModel",
          "model_module_version": "1.2.0",
          "state": {
            "_view_name": "LayoutView",
            "grid_template_rows": null,
            "right": null,
            "justify_content": null,
            "_view_module": "@jupyter-widgets/base",
            "overflow": null,
            "_model_module_version": "1.2.0",
            "_view_count": null,
            "flex_flow": null,
            "width": null,
            "min_width": null,
            "border": null,
            "align_items": null,
            "bottom": null,
            "_model_module": "@jupyter-widgets/base",
            "top": null,
            "grid_column": null,
            "overflow_y": null,
            "overflow_x": null,
            "grid_auto_flow": null,
            "grid_area": null,
            "grid_template_columns": null,
            "flex": null,
            "_model_name": "LayoutModel",
            "justify_items": null,
            "grid_row": null,
            "max_height": null,
            "align_content": null,
            "visibility": null,
            "align_self": null,
            "height": null,
            "min_height": null,
            "padding": null,
            "grid_auto_rows": null,
            "grid_gap": null,
            "max_width": null,
            "order": null,
            "_view_module_version": "1.2.0",
            "grid_template_areas": null,
            "object_position": null,
            "object_fit": null,
            "grid_auto_columns": null,
            "margin": null,
            "display": null,
            "left": null
          }
        },
        "d482a54647b043d8b9f0ba94123939cc": {
          "model_module": "@jupyter-widgets/controls",
          "model_name": "HBoxModel",
          "model_module_version": "1.5.0",
          "state": {
            "_view_name": "HBoxView",
            "_dom_classes": [],
            "_model_name": "HBoxModel",
            "_view_module": "@jupyter-widgets/controls",
            "_model_module_version": "1.5.0",
            "_view_count": null,
            "_view_module_version": "1.5.0",
            "box_style": "",
            "layout": "IPY_MODEL_352c3481ec4f469a93fb9c893f5f7f69",
            "_model_module": "@jupyter-widgets/controls",
            "children": [
              "IPY_MODEL_5dd9f9164d4940e4b0bab10ff079f064",
              "IPY_MODEL_92b46eb9d5d547ce980b3943c714fd91",
              "IPY_MODEL_9c6f7810803741ce8d79d23979238184"
            ]
          }
        },
        "352c3481ec4f469a93fb9c893f5f7f69": {
          "model_module": "@jupyter-widgets/base",
          "model_name": "LayoutModel",
          "model_module_version": "1.2.0",
          "state": {
            "_view_name": "LayoutView",
            "grid_template_rows": null,
            "right": null,
            "justify_content": null,
            "_view_module": "@jupyter-widgets/base",
            "overflow": null,
            "_model_module_version": "1.2.0",
            "_view_count": null,
            "flex_flow": null,
            "width": null,
            "min_width": null,
            "border": null,
            "align_items": null,
            "bottom": null,
            "_model_module": "@jupyter-widgets/base",
            "top": null,
            "grid_column": null,
            "overflow_y": null,
            "overflow_x": null,
            "grid_auto_flow": null,
            "grid_area": null,
            "grid_template_columns": null,
            "flex": null,
            "_model_name": "LayoutModel",
            "justify_items": null,
            "grid_row": null,
            "max_height": null,
            "align_content": null,
            "visibility": null,
            "align_self": null,
            "height": null,
            "min_height": null,
            "padding": null,
            "grid_auto_rows": null,
            "grid_gap": null,
            "max_width": null,
            "order": null,
            "_view_module_version": "1.2.0",
            "grid_template_areas": null,
            "object_position": null,
            "object_fit": null,
            "grid_auto_columns": null,
            "margin": null,
            "display": null,
            "left": null
          }
        },
        "5dd9f9164d4940e4b0bab10ff079f064": {
          "model_module": "@jupyter-widgets/controls",
          "model_name": "HTMLModel",
          "model_module_version": "1.5.0",
          "state": {
            "_view_name": "HTMLView",
            "style": "IPY_MODEL_5dff0d756c274433bcd5e7f0f524bd7e",
            "_dom_classes": [],
            "description": "",
            "_model_name": "HTMLModel",
            "placeholder": "​",
            "_view_module": "@jupyter-widgets/controls",
            "_model_module_version": "1.5.0",
            "value": "100%",
            "_view_count": null,
            "_view_module_version": "1.5.0",
            "description_tooltip": null,
            "_model_module": "@jupyter-widgets/controls",
            "layout": "IPY_MODEL_09b3c059656f49afaf5f42a7a85b592c"
          }
        },
        "92b46eb9d5d547ce980b3943c714fd91": {
          "model_module": "@jupyter-widgets/controls",
          "model_name": "FloatProgressModel",
          "model_module_version": "1.5.0",
          "state": {
            "_view_name": "ProgressView",
            "style": "IPY_MODEL_de9fe991614442d0b5065756458a5904",
            "_dom_classes": [],
            "description": "",
            "_model_name": "FloatProgressModel",
            "bar_style": "danger",
            "max": 25250,
            "_view_module": "@jupyter-widgets/controls",
            "_model_module_version": "1.5.0",
            "value": 25249,
            "_view_count": null,
            "_view_module_version": "1.5.0",
            "orientation": "horizontal",
            "min": 0,
            "description_tooltip": null,
            "_model_module": "@jupyter-widgets/controls",
            "layout": "IPY_MODEL_9be2dade8183450682330a9022c3c6b7"
          }
        },
        "9c6f7810803741ce8d79d23979238184": {
          "model_module": "@jupyter-widgets/controls",
          "model_name": "HTMLModel",
          "model_module_version": "1.5.0",
          "state": {
            "_view_name": "HTMLView",
            "style": "IPY_MODEL_bd5a2266da884e939a121ec2067f0b31",
            "_dom_classes": [],
            "description": "",
            "_model_name": "HTMLModel",
            "placeholder": "​",
            "_view_module": "@jupyter-widgets/controls",
            "_model_module_version": "1.5.0",
            "value": " 25249/25250 [00:16&lt;00:00, 1695.35 examples/s]",
            "_view_count": null,
            "_view_module_version": "1.5.0",
            "description_tooltip": null,
            "_model_module": "@jupyter-widgets/controls",
            "layout": "IPY_MODEL_54c41d5f6961486eb50d5c53eee9ff36"
          }
        },
        "5dff0d756c274433bcd5e7f0f524bd7e": {
          "model_module": "@jupyter-widgets/controls",
          "model_name": "DescriptionStyleModel",
          "model_module_version": "1.5.0",
          "state": {
            "_view_name": "StyleView",
            "_model_name": "DescriptionStyleModel",
            "description_width": "",
            "_view_module": "@jupyter-widgets/base",
            "_model_module_version": "1.5.0",
            "_view_count": null,
            "_view_module_version": "1.2.0",
            "_model_module": "@jupyter-widgets/controls"
          }
        },
        "09b3c059656f49afaf5f42a7a85b592c": {
          "model_module": "@jupyter-widgets/base",
          "model_name": "LayoutModel",
          "model_module_version": "1.2.0",
          "state": {
            "_view_name": "LayoutView",
            "grid_template_rows": null,
            "right": null,
            "justify_content": null,
            "_view_module": "@jupyter-widgets/base",
            "overflow": null,
            "_model_module_version": "1.2.0",
            "_view_count": null,
            "flex_flow": null,
            "width": null,
            "min_width": null,
            "border": null,
            "align_items": null,
            "bottom": null,
            "_model_module": "@jupyter-widgets/base",
            "top": null,
            "grid_column": null,
            "overflow_y": null,
            "overflow_x": null,
            "grid_auto_flow": null,
            "grid_area": null,
            "grid_template_columns": null,
            "flex": null,
            "_model_name": "LayoutModel",
            "justify_items": null,
            "grid_row": null,
            "max_height": null,
            "align_content": null,
            "visibility": null,
            "align_self": null,
            "height": null,
            "min_height": null,
            "padding": null,
            "grid_auto_rows": null,
            "grid_gap": null,
            "max_width": null,
            "order": null,
            "_view_module_version": "1.2.0",
            "grid_template_areas": null,
            "object_position": null,
            "object_fit": null,
            "grid_auto_columns": null,
            "margin": null,
            "display": null,
            "left": null
          }
        },
        "de9fe991614442d0b5065756458a5904": {
          "model_module": "@jupyter-widgets/controls",
          "model_name": "ProgressStyleModel",
          "model_module_version": "1.5.0",
          "state": {
            "_view_name": "StyleView",
            "_model_name": "ProgressStyleModel",
            "description_width": "",
            "_view_module": "@jupyter-widgets/base",
            "_model_module_version": "1.5.0",
            "_view_count": null,
            "_view_module_version": "1.2.0",
            "bar_color": null,
            "_model_module": "@jupyter-widgets/controls"
          }
        },
        "9be2dade8183450682330a9022c3c6b7": {
          "model_module": "@jupyter-widgets/base",
          "model_name": "LayoutModel",
          "model_module_version": "1.2.0",
          "state": {
            "_view_name": "LayoutView",
            "grid_template_rows": null,
            "right": null,
            "justify_content": null,
            "_view_module": "@jupyter-widgets/base",
            "overflow": null,
            "_model_module_version": "1.2.0",
            "_view_count": null,
            "flex_flow": null,
            "width": null,
            "min_width": null,
            "border": null,
            "align_items": null,
            "bottom": null,
            "_model_module": "@jupyter-widgets/base",
            "top": null,
            "grid_column": null,
            "overflow_y": null,
            "overflow_x": null,
            "grid_auto_flow": null,
            "grid_area": null,
            "grid_template_columns": null,
            "flex": null,
            "_model_name": "LayoutModel",
            "justify_items": null,
            "grid_row": null,
            "max_height": null,
            "align_content": null,
            "visibility": null,
            "align_self": null,
            "height": null,
            "min_height": null,
            "padding": null,
            "grid_auto_rows": null,
            "grid_gap": null,
            "max_width": null,
            "order": null,
            "_view_module_version": "1.2.0",
            "grid_template_areas": null,
            "object_position": null,
            "object_fit": null,
            "grid_auto_columns": null,
            "margin": null,
            "display": null,
            "left": null
          }
        },
        "bd5a2266da884e939a121ec2067f0b31": {
          "model_module": "@jupyter-widgets/controls",
          "model_name": "DescriptionStyleModel",
          "model_module_version": "1.5.0",
          "state": {
            "_view_name": "StyleView",
            "_model_name": "DescriptionStyleModel",
            "description_width": "",
            "_view_module": "@jupyter-widgets/base",
            "_model_module_version": "1.5.0",
            "_view_count": null,
            "_view_module_version": "1.2.0",
            "_model_module": "@jupyter-widgets/controls"
          }
        },
        "54c41d5f6961486eb50d5c53eee9ff36": {
          "model_module": "@jupyter-widgets/base",
          "model_name": "LayoutModel",
          "model_module_version": "1.2.0",
          "state": {
            "_view_name": "LayoutView",
            "grid_template_rows": null,
            "right": null,
            "justify_content": null,
            "_view_module": "@jupyter-widgets/base",
            "overflow": null,
            "_model_module_version": "1.2.0",
            "_view_count": null,
            "flex_flow": null,
            "width": null,
            "min_width": null,
            "border": null,
            "align_items": null,
            "bottom": null,
            "_model_module": "@jupyter-widgets/base",
            "top": null,
            "grid_column": null,
            "overflow_y": null,
            "overflow_x": null,
            "grid_auto_flow": null,
            "grid_area": null,
            "grid_template_columns": null,
            "flex": null,
            "_model_name": "LayoutModel",
            "justify_items": null,
            "grid_row": null,
            "max_height": null,
            "align_content": null,
            "visibility": null,
            "align_self": null,
            "height": null,
            "min_height": null,
            "padding": null,
            "grid_auto_rows": null,
            "grid_gap": null,
            "max_width": null,
            "order": null,
            "_view_module_version": "1.2.0",
            "grid_template_areas": null,
            "object_position": null,
            "object_fit": null,
            "grid_auto_columns": null,
            "margin": null,
            "display": null,
            "left": null
          }
        }
      }
    }
  },
  "cells": [
    {
      "cell_type": "markdown",
      "metadata": {
        "id": "view-in-github",
        "colab_type": "text"
      },
      "source": [
        "<a href=\"https://colab.research.google.com/github/Prateek-Bhardwaj/Machine-Learning-Projects/blob/main/Food101_Project.ipynb\" target=\"_parent\"><img src=\"https://colab.research.google.com/assets/colab-badge.svg\" alt=\"Open In Colab\"/></a>"
      ]
    },
    {
      "cell_type": "markdown",
      "metadata": {
        "id": "bocoY50u3Oqr"
      },
      "source": [
        "### Beginning\n",
        "In this notebook we'll build a deep learning model for food101 dataset using convolutional neural network(CNN). For more info regarding food101 dataset you can refer https://data.vision.ee.ethz.ch/cvl/datasets_extra/food-101/static/bossard_eccv14_food-101.pdf\n"
      ]
    },
    {
      "cell_type": "code",
      "metadata": {
        "id": "Ha3iI3IO3bKU"
      },
      "source": [
        "import tensorflow_datasets as tfds"
      ],
      "execution_count": null,
      "outputs": []
    },
    {
      "cell_type": "code",
      "metadata": {
        "id": "PO1cCV1C3d3e",
        "colab": {
          "base_uri": "https://localhost:8080/",
          "height": 316,
          "referenced_widgets": [
            "298b57f847414930a6beaf507c167e54",
            "f78604259b7045a28a4ac5aba0aa2fb6",
            "209ed8ad19094015a686445bc2c8180f",
            "119c97240e664ef19e234977c330cf69",
            "ec06bd864f4e40fd86ca6ee06b06b5cc",
            "630d6d98218c472b80644fac1cb8f9c0",
            "f6edcff12b894ce1806b00f22fa83553",
            "d895742ac9ac4456b402212b26e5b450",
            "975018f812d147bd8de600a51cce2d94",
            "e42365959db744299f7b12e619cd08d1",
            "982008b73dbb4cc99929f839c3b7f075",
            "ce80566d02ff4803a36ef57955ecfd88",
            "455b79d7f6304426bb0aa94e6f0f2a32",
            "66c125c69224434a9026224f77e10411",
            "200276bd15254835a7ed9740373708e9",
            "509159fdebd94dcebbd42838d0d34ea1",
            "4a1505e72066418bb91d19f8fb8b4c74",
            "0f5da4fd9e4d4c3b84c62902df1d817c",
            "e0eeaf710ede4ed1a2146daa03d8472c",
            "c55cb8af4e3b486aa4afc04d14bfb14e",
            "a7040285c3eb480fa1f03029e60767a4",
            "8f811cd3b84b49d98ca8184d4b16a3d1",
            "818df7daff984615b2b4ff9949e41140",
            "c45ea1feac6b40ebaeed9c77f147be2f",
            "3a30f19a03b5404e97bdc807d7a7f98e",
            "71f4261a785448ccb42838505c6e6ab0",
            "019a7838fbff47e6b297ade17b78892b",
            "f9bb8ac2329c4af1961e3ce186367dfe",
            "42f2bccca95f4c2e99b781e16e6efc88",
            "7b5e978ecb1b402e84174de2a35b2de0",
            "2e459e71fc96405b97f4b1d73c74b999",
            "c0c2406081dd4595beb873f9d26f0244",
            "913adb687dff4f6bb86a2bfee541493b",
            "7c9aff5990f84892ad2c0cdc37dd4784",
            "a8ca48858eb04a29b3ded996ea65aa99",
            "1d71bf6478a840a8a60662f9175c1ebc",
            "c721bc60f54f47a19f59a677a5dd9c9e",
            "813f7086f336490bafbcff231fc86424",
            "793a0ed4ac3d4c64a98133ae9365f60e",
            "6006b3efd736454db8799a6eff24d3c8",
            "8e8da03ff1174756b3575607074dedd4",
            "5e130147a62a47d2806e31f5b6b84e54",
            "d576989b53654eaba0da6cfa6aed43ac",
            "f114d22e815a46f182cdf302173ad3e3",
            "246341f14f0f4c08bd7a8a118b130d84",
            "3c421f1fb1d04459822411c0acdd4fa9",
            "2a723bd1339b4edba17406e508815151",
            "0203fe097704467baea5317a088426cf",
            "d8d30642bb7846bc8ac4aeb323b9e47c",
            "3fb199a85a944f589cfe6ea7daed6e7e",
            "95a8cb44421d4181b40e1e93c1acc345",
            "93f96abb42954af8b2e4701a948c0da3",
            "f09986a3828241848bf2a139c5286a2d",
            "5cca07207d304c76852c25ebdf0b9f21",
            "bf80e049f0b447f18d10d2e2a33848da",
            "229b49793fc742798d3bdfe0d1b9efc4",
            "6566499023a84852957eb8cd8596e574",
            "8cba55124eb44949ac99a1d32299a0e4",
            "4c2c55751c864b8795dc082a77ffa67a",
            "0d9a7f50317744ea86a52719fef7a5f5",
            "1cfd9ed5175340a0b8b9cce721068e91",
            "01b61b83b66e452197ef032b63893019",
            "499c80ed6fc045008e1fb34e63a3ca77",
            "b5f7d0c7aa7a45659fe8ed405408e55f",
            "228fc97948f648a0b4f0545a7d086fc8",
            "d8b313aef3854d87a5fb182546ef6fc6",
            "d482a54647b043d8b9f0ba94123939cc",
            "352c3481ec4f469a93fb9c893f5f7f69",
            "5dd9f9164d4940e4b0bab10ff079f064",
            "92b46eb9d5d547ce980b3943c714fd91",
            "9c6f7810803741ce8d79d23979238184",
            "5dff0d756c274433bcd5e7f0f524bd7e",
            "09b3c059656f49afaf5f42a7a85b592c",
            "de9fe991614442d0b5065756458a5904",
            "9be2dade8183450682330a9022c3c6b7",
            "bd5a2266da884e939a121ec2067f0b31",
            "54c41d5f6961486eb50d5c53eee9ff36"
          ]
        },
        "outputId": "d505eb98-3127-4dc5-83e5-1bd65b25eebf"
      },
      "source": [
        "(train_data,valid_data), ds_info = tfds.load(name=\"food101\",split=[\"train\",\"validation\"],shuffle_files=True,as_supervised=True,with_info=True)"
      ],
      "execution_count": null,
      "outputs": [
        {
          "output_type": "stream",
          "name": "stdout",
          "text": [
            "\u001b[1mDownloading and preparing dataset food101/2.0.0 (download: 4.65 GiB, generated: Unknown size, total: 4.65 GiB) to /root/tensorflow_datasets/food101/2.0.0...\u001b[0m\n"
          ]
        },
        {
          "output_type": "display_data",
          "data": {
            "application/vnd.jupyter.widget-view+json": {
              "model_id": "298b57f847414930a6beaf507c167e54",
              "version_minor": 0,
              "version_major": 2
            },
            "text/plain": [
              "Dl Completed...: 0 url [00:00, ? url/s]"
            ]
          },
          "metadata": {}
        },
        {
          "output_type": "display_data",
          "data": {
            "application/vnd.jupyter.widget-view+json": {
              "model_id": "ce80566d02ff4803a36ef57955ecfd88",
              "version_minor": 0,
              "version_major": 2
            },
            "text/plain": [
              "Dl Size...: 0 MiB [00:00, ? MiB/s]"
            ]
          },
          "metadata": {}
        },
        {
          "output_type": "display_data",
          "data": {
            "application/vnd.jupyter.widget-view+json": {
              "model_id": "818df7daff984615b2b4ff9949e41140",
              "version_minor": 0,
              "version_major": 2
            },
            "text/plain": [
              "Extraction completed...: 0 file [00:00, ? file/s]"
            ]
          },
          "metadata": {}
        },
        {
          "output_type": "stream",
          "name": "stdout",
          "text": [
            "\n",
            "\n",
            "\n"
          ]
        },
        {
          "output_type": "display_data",
          "data": {
            "application/vnd.jupyter.widget-view+json": {
              "model_id": "7c9aff5990f84892ad2c0cdc37dd4784",
              "version_minor": 0,
              "version_major": 2
            },
            "text/plain": [
              "0 examples [00:00, ? examples/s]"
            ]
          },
          "metadata": {}
        },
        {
          "output_type": "stream",
          "name": "stdout",
          "text": [
            "Shuffling and writing examples to /root/tensorflow_datasets/food101/2.0.0.incompleteFDNI9W/food101-train.tfrecord\n"
          ]
        },
        {
          "output_type": "display_data",
          "data": {
            "application/vnd.jupyter.widget-view+json": {
              "model_id": "246341f14f0f4c08bd7a8a118b130d84",
              "version_minor": 0,
              "version_major": 2
            },
            "text/plain": [
              "  0%|          | 0/75750 [00:00<?, ? examples/s]"
            ]
          },
          "metadata": {}
        },
        {
          "output_type": "display_data",
          "data": {
            "application/vnd.jupyter.widget-view+json": {
              "model_id": "229b49793fc742798d3bdfe0d1b9efc4",
              "version_minor": 0,
              "version_major": 2
            },
            "text/plain": [
              "0 examples [00:00, ? examples/s]"
            ]
          },
          "metadata": {}
        },
        {
          "output_type": "stream",
          "name": "stdout",
          "text": [
            "Shuffling and writing examples to /root/tensorflow_datasets/food101/2.0.0.incompleteFDNI9W/food101-validation.tfrecord\n"
          ]
        },
        {
          "output_type": "display_data",
          "data": {
            "application/vnd.jupyter.widget-view+json": {
              "model_id": "d482a54647b043d8b9f0ba94123939cc",
              "version_minor": 0,
              "version_major": 2
            },
            "text/plain": [
              "  0%|          | 0/25250 [00:00<?, ? examples/s]"
            ]
          },
          "metadata": {}
        },
        {
          "output_type": "stream",
          "name": "stdout",
          "text": [
            "\u001b[1mDataset food101 downloaded and prepared to /root/tensorflow_datasets/food101/2.0.0. Subsequent calls will reuse this data.\u001b[0m\n"
          ]
        }
      ]
    },
    {
      "cell_type": "markdown",
      "metadata": {
        "id": "kPJ-ZyJi3sw8"
      },
      "source": [
        "### Visualising Data\n",
        "WE've downloaded data from tensorflow datasets which is very helpful place to find ready to use data which is already in tensor format. So, now in this column we'll visualise the data the we get from dataset. \n",
        "Things we'll visualize will be-\n",
        "* Shape of input data(in tensors)\n",
        "* Datatype of input data\n",
        "* Some idea about Label\n",
        "* Are label and data properly aligned?"
      ]
    },
    {
      "cell_type": "code",
      "metadata": {
        "id": "YnexNXBu4Vwk",
        "colab": {
          "base_uri": "https://localhost:8080/"
        },
        "outputId": "cf9c943d-1303-4a14-f719-759af991acf7"
      },
      "source": [
        "ds_info.features"
      ],
      "execution_count": null,
      "outputs": [
        {
          "output_type": "execute_result",
          "data": {
            "text/plain": [
              "FeaturesDict({\n",
              "    'image': Image(shape=(None, None, 3), dtype=tf.uint8),\n",
              "    'label': ClassLabel(shape=(), dtype=tf.int64, num_classes=101),\n",
              "})"
            ]
          },
          "metadata": {},
          "execution_count": 3
        }
      ]
    },
    {
      "cell_type": "code",
      "metadata": {
        "id": "4HPQ--9N4Yg5",
        "colab": {
          "base_uri": "https://localhost:8080/"
        },
        "outputId": "07201b55-2841-4647-c8dd-2ba5dce8f4bf"
      },
      "source": [
        "# extrating names of different classes from dataset\n",
        "class_names = ds_info.features[\"label\"].names\n",
        "class_names[:10]"
      ],
      "execution_count": null,
      "outputs": [
        {
          "output_type": "execute_result",
          "data": {
            "text/plain": [
              "['apple_pie',\n",
              " 'baby_back_ribs',\n",
              " 'baklava',\n",
              " 'beef_carpaccio',\n",
              " 'beef_tartare',\n",
              " 'beet_salad',\n",
              " 'beignets',\n",
              " 'bibimbap',\n",
              " 'bread_pudding',\n",
              " 'breakfast_burrito']"
            ]
          },
          "metadata": {},
          "execution_count": 4
        }
      ]
    },
    {
      "cell_type": "code",
      "metadata": {
        "id": "qVeixYoC4bSk"
      },
      "source": [
        "single_data = train_data.take(1)"
      ],
      "execution_count": null,
      "outputs": []
    },
    {
      "cell_type": "code",
      "metadata": {
        "id": "xEtDllfB4evt",
        "colab": {
          "base_uri": "https://localhost:8080/"
        },
        "outputId": "345e155c-0c94-4c1d-a1ef-79f97db76546"
      },
      "source": [
        "for image, label in single_data:\n",
        "  print(f\"\"\"\n",
        "  Shape of image : {image.shape}\n",
        "  Datatype of image: {image.dtype}\n",
        "  Label of image: {label}\n",
        "  class name for image: {class_names[label.numpy()]}\n",
        "  \"\"\")"
      ],
      "execution_count": null,
      "outputs": [
        {
          "output_type": "stream",
          "name": "stdout",
          "text": [
            "\n",
            "  Shape of image : (512, 512, 3)\n",
            "  Datatype of image: <dtype: 'uint8'>\n",
            "  Label of image: 71\n",
            "  class name for image: paella\n",
            "  \n"
          ]
        }
      ]
    },
    {
      "cell_type": "code",
      "metadata": {
        "id": "YtwsevTF4hpK",
        "colab": {
          "base_uri": "https://localhost:8080/"
        },
        "outputId": "bafb7b22-cadb-4df1-f3aa-d8b726f86f98"
      },
      "source": [
        "image"
      ],
      "execution_count": null,
      "outputs": [
        {
          "output_type": "execute_result",
          "data": {
            "text/plain": [
              "<tf.Tensor: shape=(512, 512, 3), dtype=uint8, numpy=\n",
              "array([[[104, 125, 120],\n",
              "        [ 99, 118, 114],\n",
              "        [ 24,  39,  36],\n",
              "        ...,\n",
              "        [113,  49,  24],\n",
              "        [104,  40,  15],\n",
              "        [114,  50,  25]],\n",
              "\n",
              "       [[109, 128, 124],\n",
              "        [111, 130, 126],\n",
              "        [ 53,  65,  63],\n",
              "        ...,\n",
              "        [112,  48,  23],\n",
              "        [107,  43,  18],\n",
              "        [113,  49,  24]],\n",
              "\n",
              "       [[114, 130, 127],\n",
              "        [119, 135, 132],\n",
              "        [ 79,  89,  88],\n",
              "        ...,\n",
              "        [110,  46,  19],\n",
              "        [108,  44,  17],\n",
              "        [109,  45,  18]],\n",
              "\n",
              "       ...,\n",
              "\n",
              "       [[230, 146,  58],\n",
              "        [241, 157,  69],\n",
              "        [244, 160,  70],\n",
              "        ...,\n",
              "        [149,  90,  22],\n",
              "        [166, 103,  34],\n",
              "        [203, 138,  70]],\n",
              "\n",
              "       [[230, 146,  58],\n",
              "        [245, 161,  73],\n",
              "        [250, 166,  76],\n",
              "        ...,\n",
              "        [166, 107,  39],\n",
              "        [177, 112,  44],\n",
              "        [223, 156,  86]],\n",
              "\n",
              "       [[227, 143,  55],\n",
              "        [247, 163,  75],\n",
              "        [255, 171,  81],\n",
              "        ...,\n",
              "        [172, 113,  43],\n",
              "        [178, 111,  43],\n",
              "        [226, 157,  88]]], dtype=uint8)>"
            ]
          },
          "metadata": {},
          "execution_count": 7
        }
      ]
    },
    {
      "cell_type": "code",
      "metadata": {
        "id": "GZHHtLpb4kKP",
        "colab": {
          "base_uri": "https://localhost:8080/",
          "height": 264
        },
        "outputId": "daada63b-2028-4d8c-807c-778bb5fc33fc"
      },
      "source": [
        "# our image is in tensor format so now we will use matplotlib to plot ou image\n",
        "import matplotlib.pyplot as plt\n",
        "import tensorflow as tf\n",
        "plt.imshow(image)\n",
        "plt.title(class_names[label.numpy()])\n",
        "plt.axis(False);"
      ],
      "execution_count": null,
      "outputs": [
        {
          "output_type": "display_data",
          "data": {
            "image/png": "[encoded data removed]",
            "text/plain": [
              "<Figure size 432x288 with 1 Axes>"
            ]
          },
          "metadata": {
            "needs_background": "light"
          }
        }
      ]
    },
    {
      "cell_type": "markdown",
      "metadata": {
        "id": "J_-ys2Fg4tKJ"
      },
      "source": [
        "### Preprossing Data\n",
        "As we can se above data we got have different shape, thus we have to preprocess out data to make it fit before making our CNN.\n",
        "We'll be using tensorflow's effecentNet architecture(https://www.tensorflow.org/api_docs/python/tf/keras/applications/efficientnet) so it automatically rescale the images. Now we have to \n",
        "* Resize images\n",
        "* Convert them from unit8 to float32"
      ]
    },
    {
      "cell_type": "code",
      "metadata": {
        "id": "cOQy9Oog4w-j"
      },
      "source": [
        "def preprocess(image,label,image_size=224):\n",
        "  image = tf.image.resize(image,size=[image_size,image_size])\n",
        "  return tf.cast(image,tf.float32),label"
      ],
      "execution_count": null,
      "outputs": []
    },
    {
      "cell_type": "code",
      "metadata": {
        "id": "e5vojQY442C7",
        "colab": {
          "base_uri": "https://localhost:8080/"
        },
        "outputId": "d14145c6-57d4-41ee-9dfd-0ffd16aa7122"
      },
      "source": [
        "preprocess(image,label)"
      ],
      "execution_count": null,
      "outputs": [
        {
          "output_type": "execute_result",
          "data": {
            "text/plain": [
              "(<tf.Tensor: shape=(224, 224, 3), dtype=float32, numpy=\n",
              " array([[[106.89285  , 126.147964 , 122.02041  ],\n",
              "         [  4.2397847,  12.137743 ,  11.040805 ],\n",
              "         [ 10.076534 ,  11.918371 ,  15.637758 ],\n",
              "         ...,\n",
              "         [107.305984 ,  43.30598  ,  16.305983 ],\n",
              "         [116.99993  ,  52.999935 ,  27.999935 ],\n",
              "         [108.581894 ,  44.58189  ,  19.581892 ]],\n",
              " \n",
              "        [[119.13776  , 132.41837  , 130.0153   ],\n",
              "         [ 24.5459   ,  29.239777 ,  29.964268 ],\n",
              "         [ 15.612247 ,  13.158165 ,  16.285715 ],\n",
              "         ...,\n",
              "         [110.13274  ,  46.132732 ,  19.132734 ],\n",
              "         [109.137726 ,  45.137726 ,  18.137728 ],\n",
              "         [107.03052  ,  43.030518 ,  16.030518 ]],\n",
              " \n",
              "        [[103.23979  , 108.94387  , 111.66325  ],\n",
              "         [ 53.01529  ,  50.816307 ,  51.887737 ],\n",
              "         [ 19.515308 ,   8.061225 ,   9.566327 ],\n",
              "         ...,\n",
              "         [112.84691  ,  47.846912 ,  19.418339 ],\n",
              "         [112.64286  ,  47.642857 ,  19.214287 ],\n",
              "         [109.16322  ,  44.163227 ,  15.734653 ]],\n",
              " \n",
              "        ...,\n",
              " \n",
              "        [[225.64804  , 141.64804  ,  53.219513 ],\n",
              "         [240.12762  , 156.12762  ,  66.12762  ],\n",
              "         [228.14294  , 145.14294  ,  52.8062   ],\n",
              "         ...,\n",
              "         [181.2604   , 124.88301  ,  68.57171  ],\n",
              "         [141.61728  ,  87.530525 ,  25.831474 ],\n",
              "         [178.44931  , 118.740105 ,  56.153305 ]],\n",
              " \n",
              "        [[233.68883  , 149.68883  ,  61.688824 ],\n",
              "         [241.0153   , 157.08165  ,  66.94897  ],\n",
              "         [241.48468  , 158.48468  ,  64.454056 ],\n",
              "         ...,\n",
              "         [173.57669  , 122.55129  ,  62.250156 ],\n",
              "         [139.91344  ,  84.62766  ,  19.546013 ],\n",
              "         [183.92433  , 120.87331  ,  53.092617 ]],\n",
              " \n",
              "        [[239.71939  , 155.71939  ,  67.7194   ],\n",
              "         [244.62256  , 161.55113  ,  69.693985 ],\n",
              "         [240.01534  , 157.01534  ,  62.02548  ],\n",
              "         ...,\n",
              "         [163.60191  , 115.173386 ,  51.816177 ],\n",
              "         [157.19919  , 101.913414 ,  34.79094  ],\n",
              "         [194.04251  , 127.61379  ,  59.027016 ]]], dtype=float32)>,\n",
              " <tf.Tensor: shape=(), dtype=int64, numpy=71>)"
            ]
          },
          "metadata": {},
          "execution_count": 10
        }
      ]
    },
    {
      "cell_type": "code",
      "metadata": {
        "id": "vUpC2REd44Jf"
      },
      "source": [
        "train_data = train_data.map(map_func=preprocess,num_parallel_calls=tf.data.AUTOTUNE)\n",
        "train_data = train_data.shuffle(buffer_size=1000).batch(batch_size=32).prefetch(buffer_size=tf.data.AUTOTUNE)\n",
        "valid_data = valid_data.map(map_func=preprocess,num_parallel_calls=tf.data.AUTOTUNE).batch(batch_size=32).prefetch(buffer_size=tf.data.AUTOTUNE)"
      ],
      "execution_count": null,
      "outputs": []
    },
    {
      "cell_type": "code",
      "metadata": {
        "id": "DHxZYmTi47zc",
        "colab": {
          "base_uri": "https://localhost:8080/"
        },
        "outputId": "deec94f5-81e2-4f21-8b1b-fdac05251864"
      },
      "source": [
        "train_data, valid_data"
      ],
      "execution_count": null,
      "outputs": [
        {
          "output_type": "execute_result",
          "data": {
            "text/plain": [
              "(<PrefetchDataset shapes: ((None, 224, 224, 3), (None,)), types: (tf.float32, tf.int64)>,\n",
              " <PrefetchDataset shapes: ((None, 224, 224, 3), (None,)), types: (tf.float32, tf.int64)>)"
            ]
          },
          "metadata": {},
          "execution_count": 12
        }
      ]
    },
    {
      "cell_type": "markdown",
      "metadata": {
        "id": "P63HiknR49dM"
      },
      "source": [
        "### Creating callbacks for our model\n",
        "In this section we'll make some usefull callbacks using tensorflow\n",
        "Callbacks we are going to use are as follow and you can read more about then from the given link-\n",
        "* Tensorboard callback (https://www.tensorflow.org/api_docs/python/tf/keras/callbacks/TensorBoard)\n",
        "* Checkpoint callback (https://www.tensorflow.org/api_docs/python/tf/keras/callbacks/ModelCheckpoint)\n",
        "* Earlystopping callback (https://www.tensorflow.org/api_docs/python/tf/keras/callbacks/EarlyStopping)"
      ]
    },
    {
      "cell_type": "code",
      "metadata": {
        "id": "yv2-Ocvh5A9v"
      },
      "source": [
        "import datetime\n",
        "def tensorboard_callback(dir_name, experiment_name):\n",
        "  log_dir = dir_name + \"/\" +experiment_name + \"/\"+ datetime.datetime.now().strftime(\"%Y%m%d-%H%M%S\")\n",
        "  tensorboard_callback = tf.keras.callbacks.TensorBoard(log_dir=log_dir)\n",
        "  print(f\"Saving tensorboard callback at {log_dir}\")\n",
        "  return tensorboard_callback"
      ],
      "execution_count": null,
      "outputs": []
    },
    {
      "cell_type": "code",
      "metadata": {
        "id": "q2hdaxwK5GEg"
      },
      "source": [
        "checkpoint_path = \"model_checkpoints/cp.ckpt\" # saving weights requires \".ckpt\" extension\n",
        "model_checkpoint = tf.keras.callbacks.ModelCheckpoint(checkpoint_path,\n",
        "                                                      montior=\"val_acc\", # save the model weights with best validation accuracy\n",
        "                                                      save_best_only=True, # only save the best weights\n",
        "                                                      save_weights_only=True, # only save model weights (not whole model)\n",
        "                                                      verbose=0)"
      ],
      "execution_count": null,
      "outputs": []
    },
    {
      "cell_type": "code",
      "metadata": {
        "id": "LZEimTLD5IiW"
      },
      "source": [
        "earlystopping_callback = tf.keras.callbacks.EarlyStopping(monitor=\"val_loss\",patience=2,verbose=1)"
      ],
      "execution_count": null,
      "outputs": []
    },
    {
      "cell_type": "markdown",
      "metadata": {
        "id": "jx_GR21Y5Nuv"
      },
      "source": [
        "### Creating our model\n",
        "we'll start with a base model with EfficientNet's achitecture and the do some fecture extraction. Then further we'll use fine tuning to unfreez some of the layer's of the transfered model so that it's layers can train on our dataset too."
      ]
    },
    {
      "cell_type": "code",
      "metadata": {
        "id": "orJKqzZ95QIb",
        "colab": {
          "base_uri": "https://localhost:8080/"
        },
        "outputId": "3579b71d-6c54-4d5f-abdf-ac5db5f1705e"
      },
      "source": [
        "from tensorflow.keras import layers\n",
        "from tensorflow.keras.layers.experimental import preprocessing\n",
        "\n",
        "# Create base model\n",
        "input_shape = (224, 224, 3)\n",
        "base_model = tf.keras.applications.EfficientNetB0(include_top=False)\n",
        "base_model.trainable = False\n",
        "\n",
        "inputs = layers.Input(shape=input_shape, name=\"input_layer\")\n",
        "x = base_model(inputs, training=False) \n",
        "x = layers.GlobalAveragePooling2D(name=\"pooling_layer\")(x)\n",
        "x = layers.Dense(len(class_names))(x)\n",
        "outputs = layers.Activation(\"softmax\", dtype=tf.float32, name=\"softmax_float32\")(x) \n",
        "model = tf.keras.Model(inputs, outputs)\n",
        "\n",
        "model.compile(loss=\"sparse_categorical_crossentropy\",\n",
        "              optimizer=tf.keras.optimizers.Adam(),\n",
        "              metrics=[\"accuracy\"])"
      ],
      "execution_count": null,
      "outputs": [
        {
          "output_type": "stream",
          "name": "stdout",
          "text": [
            "Downloading data from https://storage.googleapis.com/keras-applications/efficientnetb0_notop.h5\n",
            "16711680/16705208 [==============================] - 0s 0us/step\n",
            "16719872/16705208 [==============================] - 0s 0us/step\n"
          ]
        }
      ]
    },
    {
      "cell_type": "code",
      "metadata": {
        "id": "X9YTxi9IA-rd",
        "colab": {
          "base_uri": "https://localhost:8080/"
        },
        "outputId": "29f057c9-ad7a-4483-9c29-b8230d235fe7"
      },
      "source": [
        "history = model.fit(train_data, \n",
        "                    epochs=3,\n",
        "                    steps_per_epoch=len(train_data),\n",
        "                    validation_data=valid_data,\n",
        "                    validation_steps=int(0.15 * len(valid_data)),\n",
        "                    callbacks=[tensorboard_callback(\"training_logs\", \n",
        "                                                          \"food101\"),\n",
        "                              model_checkpoint,\n",
        "                              earlystopping_callback])"
      ],
      "execution_count": null,
      "outputs": [
        {
          "output_type": "stream",
          "name": "stdout",
          "text": [
            "Saving tensorboard callback at training_logs/food101/20211015-114002\n",
            "Epoch 1/3\n"
          ]
        },
        {
          "output_type": "stream",
          "name": "stderr",
          "text": [
            "/usr/local/lib/python3.7/dist-packages/keras/utils/generic_utils.py:497: CustomMaskWarning: Custom mask layers require a config and must override get_config. When loading, the custom mask layer must be passed to the custom_objects argument.\n",
            "  category=CustomMaskWarning)\n"
          ]
        },
        {
          "output_type": "stream",
          "name": "stdout",
          "text": [
            "2368/2368 [==============================] - 343s 129ms/step - loss: 1.8220 - accuracy: 0.5579 - val_loss: 1.2342 - val_accuracy: 0.6780\n",
            "Epoch 2/3\n",
            "2368/2368 [==============================] - 302s 126ms/step - loss: 1.2930 - accuracy: 0.6669 - val_loss: 1.1314 - val_accuracy: 0.6954\n",
            "Epoch 3/3\n",
            "2368/2368 [==============================] - 302s 126ms/step - loss: 1.1436 - accuracy: 0.7025 - val_loss: 1.0946 - val_accuracy: 0.7052\n"
          ]
        }
      ]
    },
    {
      "cell_type": "code",
      "metadata": {
        "id": "pnPmRFjwB41L",
        "colab": {
          "base_uri": "https://localhost:8080/"
        },
        "outputId": "3f30b2b5-0676-4fe5-f215-728ed3e1bed2"
      },
      "source": [
        "model.evaluate(valid_data)"
      ],
      "execution_count": null,
      "outputs": [
        {
          "output_type": "stream",
          "name": "stdout",
          "text": [
            "790/790 [==============================] - 94s 118ms/step - loss: 1.0926 - accuracy: 0.7067\n"
          ]
        },
        {
          "output_type": "execute_result",
          "data": {
            "text/plain": [
              "[1.0925732851028442, 0.7067326903343201]"
            ]
          },
          "metadata": {},
          "execution_count": 18
        }
      ]
    },
    {
      "cell_type": "code",
      "metadata": {
        "id": "qbSZoqFePAUc",
        "colab": {
          "base_uri": "https://localhost:8080/",
          "height": 265
        },
        "outputId": "a9c273ee-4e04-454d-e53a-a80ec0051a64"
      },
      "source": [
        "import pandas as pd\n",
        "pd.DataFrame(history.history).plot();"
      ],
      "execution_count": null,
      "outputs": [
        {
          "output_type": "display_data",
          "data": {
            "image/png": "[encoded data removed]",
            "text/plain": [
              "<Figure size 432x288 with 1 Axes>"
            ]
          },
          "metadata": {
            "needs_background": "light"
          }
        }
      ]
    },
    {
      "cell_type": "code",
      "metadata": {
        "colab": {
          "base_uri": "https://localhost:8080/",
          "height": 142
        },
        "id": "Z3Wka6x27_3k",
        "outputId": "ae5e81c6-aa41-4055-9e36-6f5dc051a949"
      },
      "source": [
        "pd.DataFrame(history.history)"
      ],
      "execution_count": null,
      "outputs": [
        {
          "output_type": "execute_result",
          "data": {
            "text/html": [
              "<div>\n",
              "<style scoped>\n",
              "    .dataframe tbody tr th:only-of-type {\n",
              "        vertical-align: middle;\n",
              "    }\n",
              "\n",
              "    .dataframe tbody tr th {\n",
              "        vertical-align: top;\n",
              "    }\n",
              "\n",
              "    .dataframe thead th {\n",
              "        text-align: right;\n",
              "    }\n",
              "</style>\n",
              "<table border=\"1\" class=\"dataframe\">\n",
              "  <thead>\n",
              "    <tr style=\"text-align: right;\">\n",
              "      <th></th>\n",
              "      <th>loss</th>\n",
              "      <th>accuracy</th>\n",
              "      <th>val_loss</th>\n",
              "      <th>val_accuracy</th>\n",
              "    </tr>\n",
              "  </thead>\n",
              "  <tbody>\n",
              "    <tr>\n",
              "      <th>0</th>\n",
              "      <td>1.821994</td>\n",
              "      <td>0.557941</td>\n",
              "      <td>1.234234</td>\n",
              "      <td>0.677966</td>\n",
              "    </tr>\n",
              "    <tr>\n",
              "      <th>1</th>\n",
              "      <td>1.293003</td>\n",
              "      <td>0.666944</td>\n",
              "      <td>1.131411</td>\n",
              "      <td>0.695445</td>\n",
              "    </tr>\n",
              "    <tr>\n",
              "      <th>2</th>\n",
              "      <td>1.143646</td>\n",
              "      <td>0.702495</td>\n",
              "      <td>1.094568</td>\n",
              "      <td>0.705244</td>\n",
              "    </tr>\n",
              "  </tbody>\n",
              "</table>\n",
              "</div>"
            ],
            "text/plain": [
              "       loss  accuracy  val_loss  val_accuracy\n",
              "0  1.821994  0.557941  1.234234      0.677966\n",
              "1  1.293003  0.666944  1.131411      0.695445\n",
              "2  1.143646  0.702495  1.094568      0.705244"
            ]
          },
          "metadata": {},
          "execution_count": 57
        }
      ]
    },
    {
      "cell_type": "code",
      "metadata": {
        "id": "_WxHfoguLLA8",
        "colab": {
          "base_uri": "https://localhost:8080/"
        },
        "outputId": "365afcf3-a483-4420-f1e5-6af57ee7051a"
      },
      "source": [
        "import os\n",
        "save_dir = \"drive/MyDrive/CNN/food_vision/\"\n",
        "# os.makedirs(save_dir) # use this to make directory.\n",
        "model.save(save_dir)"
      ],
      "execution_count": null,
      "outputs": [
        {
          "output_type": "stream",
          "name": "stdout",
          "text": [
            "INFO:tensorflow:Assets written to: drive/MyDrive/CNN/food_vision/assets\n"
          ]
        },
        {
          "output_type": "stream",
          "name": "stderr",
          "text": [
            "INFO:tensorflow:Assets written to: drive/MyDrive/CNN/food_vision/assets\n",
            "/usr/local/lib/python3.7/dist-packages/keras/utils/generic_utils.py:497: CustomMaskWarning: Custom mask layers require a config and must override get_config. When loading, the custom mask layer must be passed to the custom_objects argument.\n",
            "  category=CustomMaskWarning)\n"
          ]
        }
      ]
    },
    {
      "cell_type": "code",
      "metadata": {
        "id": "a3DAJH9xMcjc",
        "colab": {
          "base_uri": "https://localhost:8080/"
        },
        "outputId": "97c718a9-fd14-4e72-fd0c-83c89de12bbc"
      },
      "source": [
        "loaded_model = tf.keras.models.load_model(save_dir);"
      ],
      "execution_count": null,
      "outputs": [
        {
          "output_type": "stream",
          "name": "stderr",
          "text": [
            "WARNING:absl:Importing a function (__inference_block5c_activation_layer_call_and_return_conditional_losses_46828) with ops with unsaved custom gradients. Will likely fail if a gradient is requested.\n",
            "WARNING:absl:Importing a function (__inference_efficientnetb0_layer_call_and_return_conditional_losses_78451) with ops with unsaved custom gradients. Will likely fail if a gradient is requested.\n",
            "WARNING:absl:Importing a function (__inference_block3b_se_reduce_layer_call_and_return_conditional_losses_80310) with ops with unsaved custom gradients. Will likely fail if a gradient is requested.\n",
            "WARNING:absl:Importing a function (__inference_block3b_expand_activation_layer_call_and_return_conditional_losses_45861) with ops with unsaved custom gradients. Will likely fail if a gradient is requested.\n",
            "WARNING:absl:Importing a function (__inference_block7a_activation_layer_call_and_return_conditional_losses_47625) with ops with unsaved custom gradients. Will likely fail if a gradient is requested.\n",
            "WARNING:absl:Importing a function (__inference_block2a_se_reduce_layer_call_and_return_conditional_losses_79167) with ops with unsaved custom gradients. Will likely fail if a gradient is requested.\n",
            "WARNING:absl:Importing a function (__inference_block1a_activation_layer_call_and_return_conditional_losses_78721) with ops with unsaved custom gradients. Will likely fail if a gradient is requested.\n",
            "WARNING:absl:Importing a function (__inference_block4b_activation_layer_call_and_return_conditional_losses_81029) with ops with unsaved custom gradients. Will likely fail if a gradient is requested.\n",
            "WARNING:absl:Importing a function (__inference_block5a_expand_activation_layer_call_and_return_conditional_losses_81746) with ops with unsaved custom gradients. Will likely fail if a gradient is requested.\n",
            "WARNING:absl:Importing a function (__inference_block5c_se_reduce_layer_call_and_return_conditional_losses_82668) with ops with unsaved custom gradients. Will likely fail if a gradient is requested.\n",
            "WARNING:absl:Importing a function (__inference_block5b_expand_activation_layer_call_and_return_conditional_losses_82104) with ops with unsaved custom gradients. Will likely fail if a gradient is requested.\n",
            "WARNING:absl:Importing a function (__inference_block4a_expand_activation_layer_call_and_return_conditional_losses_80556) with ops with unsaved custom gradients. Will likely fail if a gradient is requested.\n",
            "WARNING:absl:Importing a function (__inference_block6d_activation_layer_call_and_return_conditional_losses_47464) with ops with unsaved custom gradients. Will likely fail if a gradient is requested.\n",
            "WARNING:absl:Importing a function (__inference_efficientnetb0_layer_call_and_return_conditional_losses_73327) with ops with unsaved custom gradients. Will likely fail if a gradient is requested.\n",
            "WARNING:absl:Importing a function (__inference_block5b_se_reduce_layer_call_and_return_conditional_losses_46708) with ops with unsaved custom gradients. Will likely fail if a gradient is requested.\n",
            "WARNING:absl:Importing a function (__inference_block5b_expand_activation_layer_call_and_return_conditional_losses_46643) with ops with unsaved custom gradients. Will likely fail if a gradient is requested.\n",
            "WARNING:absl:Importing a function (__inference_block6a_activation_layer_call_and_return_conditional_losses_83029) with ops with unsaved custom gradients. Will likely fail if a gradient is requested.\n",
            "WARNING:absl:Importing a function (__inference_block2b_se_reduce_layer_call_and_return_conditional_losses_45612) with ops with unsaved custom gradients. Will likely fail if a gradient is requested.\n",
            "WARNING:absl:Importing a function (__inference_block2b_se_reduce_layer_call_and_return_conditional_losses_79525) with ops with unsaved custom gradients. Will likely fail if a gradient is requested.\n",
            "WARNING:absl:Importing a function (__inference_block3b_expand_activation_layer_call_and_return_conditional_losses_80151) with ops with unsaved custom gradients. Will likely fail if a gradient is requested.\n",
            "WARNING:absl:Importing a function (__inference_block4c_expand_activation_layer_call_and_return_conditional_losses_81341) with ops with unsaved custom gradients. Will likely fail if a gradient is requested.\n",
            "WARNING:absl:Importing a function (__inference_block4b_se_reduce_layer_call_and_return_conditional_losses_46240) with ops with unsaved custom gradients. Will likely fail if a gradient is requested.\n",
            "WARNING:absl:Importing a function (__inference_block3a_expand_activation_layer_call_and_return_conditional_losses_45708) with ops with unsaved custom gradients. Will likely fail if a gradient is requested.\n",
            "WARNING:absl:Importing a function (__inference_block7a_expand_activation_layer_call_and_return_conditional_losses_47601) with ops with unsaved custom gradients. Will likely fail if a gradient is requested.\n",
            "WARNING:absl:Importing a function (__inference_efficientnetb0_layer_call_and_return_conditional_losses_75080) with ops with unsaved custom gradients. Will likely fail if a gradient is requested.\n",
            "WARNING:absl:Importing a function (__inference_block6b_expand_activation_layer_call_and_return_conditional_losses_83294) with ops with unsaved custom gradients. Will likely fail if a gradient is requested.\n",
            "WARNING:absl:Importing a function (__inference_block6b_activation_layer_call_and_return_conditional_losses_47142) with ops with unsaved custom gradients. Will likely fail if a gradient is requested.\n",
            "WARNING:absl:Importing a function (__inference_block5c_activation_layer_call_and_return_conditional_losses_82602) with ops with unsaved custom gradients. Will likely fail if a gradient is requested.\n",
            "WARNING:absl:Importing a function (__inference_block3a_se_reduce_layer_call_and_return_conditional_losses_79952) with ops with unsaved custom gradients. Will likely fail if a gradient is requested.\n",
            "WARNING:absl:Importing a function (__inference_block6c_activation_layer_call_and_return_conditional_losses_47303) with ops with unsaved custom gradients. Will likely fail if a gradient is requested.\n",
            "WARNING:absl:Importing a function (__inference_block4b_se_reduce_layer_call_and_return_conditional_losses_81095) with ops with unsaved custom gradients. Will likely fail if a gradient is requested.\n",
            "WARNING:absl:Importing a function (__inference_block2a_expand_activation_layer_call_and_return_conditional_losses_45394) with ops with unsaved custom gradients. Will likely fail if a gradient is requested.\n",
            "WARNING:absl:Importing a function (__inference_block3a_expand_activation_layer_call_and_return_conditional_losses_79771) with ops with unsaved custom gradients. Will likely fail if a gradient is requested.\n",
            "WARNING:absl:Importing a function (__inference_block4c_se_reduce_layer_call_and_return_conditional_losses_46401) with ops with unsaved custom gradients. Will likely fail if a gradient is requested.\n",
            "WARNING:absl:Importing a function (__inference_block4a_activation_layer_call_and_return_conditional_losses_80671) with ops with unsaved custom gradients. Will likely fail if a gradient is requested.\n",
            "WARNING:absl:Importing a function (__inference_block5c_se_reduce_layer_call_and_return_conditional_losses_46869) with ops with unsaved custom gradients. Will likely fail if a gradient is requested.\n",
            "WARNING:absl:Importing a function (__inference_block6c_activation_layer_call_and_return_conditional_losses_83792) with ops with unsaved custom gradients. Will likely fail if a gradient is requested.\n",
            "WARNING:absl:Importing a function (__inference_block6d_activation_layer_call_and_return_conditional_losses_84197) with ops with unsaved custom gradients. Will likely fail if a gradient is requested.\n",
            "WARNING:absl:Importing a function (__inference_efficientnetb0_layer_call_and_return_conditional_losses_55939) with ops with unsaved custom gradients. Will likely fail if a gradient is requested.\n",
            "WARNING:absl:Importing a function (__inference_block6b_expand_activation_layer_call_and_return_conditional_losses_47118) with ops with unsaved custom gradients. Will likely fail if a gradient is requested.\n",
            "WARNING:absl:Importing a function (__inference_block6a_expand_activation_layer_call_and_return_conditional_losses_82914) with ops with unsaved custom gradients. Will likely fail if a gradient is requested.\n",
            "WARNING:absl:Importing a function (__inference_block4b_activation_layer_call_and_return_conditional_losses_46199) with ops with unsaved custom gradients. Will likely fail if a gradient is requested.\n",
            "WARNING:absl:Importing a function (__inference_block2b_expand_activation_layer_call_and_return_conditional_losses_45547) with ops with unsaved custom gradients. Will likely fail if a gradient is requested.\n",
            "WARNING:absl:Importing a function (__inference_block5a_se_reduce_layer_call_and_return_conditional_losses_81905) with ops with unsaved custom gradients. Will likely fail if a gradient is requested.\n",
            "WARNING:absl:Importing a function (__inference_block1a_se_reduce_layer_call_and_return_conditional_losses_78787) with ops with unsaved custom gradients. Will likely fail if a gradient is requested.\n",
            "WARNING:absl:Importing a function (__inference_block4a_se_reduce_layer_call_and_return_conditional_losses_80737) with ops with unsaved custom gradients. Will likely fail if a gradient is requested.\n",
            "WARNING:absl:Importing a function (__inference_block6c_se_reduce_layer_call_and_return_conditional_losses_83858) with ops with unsaved custom gradients. Will likely fail if a gradient is requested.\n",
            "WARNING:absl:Importing a function (__inference_model_layer_call_and_return_conditional_losses_69201) with ops with unsaved custom gradients. Will likely fail if a gradient is requested.\n",
            "WARNING:absl:Importing a function (__inference_block6c_se_reduce_layer_call_and_return_conditional_losses_47344) with ops with unsaved custom gradients. Will likely fail if a gradient is requested.\n",
            "WARNING:absl:Importing a function (__inference_block6a_activation_layer_call_and_return_conditional_losses_46996) with ops with unsaved custom gradients. Will likely fail if a gradient is requested.\n",
            "WARNING:absl:Importing a function (__inference_block5b_se_reduce_layer_call_and_return_conditional_losses_82263) with ops with unsaved custom gradients. Will likely fail if a gradient is requested.\n",
            "WARNING:absl:Importing a function (__inference_block6c_expand_activation_layer_call_and_return_conditional_losses_47279) with ops with unsaved custom gradients. Will likely fail if a gradient is requested.\n",
            "WARNING:absl:Importing a function (__inference__wrapped_model_37965) with ops with unsaved custom gradients. Will likely fail if a gradient is requested.\n",
            "WARNING:absl:Importing a function (__inference_block5a_expand_activation_layer_call_and_return_conditional_losses_46497) with ops with unsaved custom gradients. Will likely fail if a gradient is requested.\n",
            "WARNING:absl:Importing a function (__inference_block2a_expand_activation_layer_call_and_return_conditional_losses_78986) with ops with unsaved custom gradients. Will likely fail if a gradient is requested.\n",
            "WARNING:absl:Importing a function (__inference_block2b_activation_layer_call_and_return_conditional_losses_45571) with ops with unsaved custom gradients. Will likely fail if a gradient is requested.\n",
            "WARNING:absl:Importing a function (__inference_block2a_se_reduce_layer_call_and_return_conditional_losses_45466) with ops with unsaved custom gradients. Will likely fail if a gradient is requested.\n",
            "WARNING:absl:Importing a function (__inference_block7a_expand_activation_layer_call_and_return_conditional_losses_84509) with ops with unsaved custom gradients. Will likely fail if a gradient is requested.\n",
            "WARNING:absl:Importing a function (__inference_stem_activation_layer_call_and_return_conditional_losses_78628) with ops with unsaved custom gradients. Will likely fail if a gradient is requested.\n",
            "WARNING:absl:Importing a function (__inference_block4a_activation_layer_call_and_return_conditional_losses_46053) with ops with unsaved custom gradients. Will likely fail if a gradient is requested.\n",
            "WARNING:absl:Importing a function (__inference_block6a_expand_activation_layer_call_and_return_conditional_losses_46965) with ops with unsaved custom gradients. Will likely fail if a gradient is requested.\n",
            "WARNING:absl:Importing a function (__inference_block5a_activation_layer_call_and_return_conditional_losses_81839) with ops with unsaved custom gradients. Will likely fail if a gradient is requested.\n",
            "WARNING:absl:Importing a function (__inference_block6d_se_reduce_layer_call_and_return_conditional_losses_84263) with ops with unsaved custom gradients. Will likely fail if a gradient is requested.\n",
            "WARNING:absl:Importing a function (__inference_block5a_activation_layer_call_and_return_conditional_losses_46521) with ops with unsaved custom gradients. Will likely fail if a gradient is requested.\n",
            "WARNING:absl:Importing a function (__inference_block5a_se_reduce_layer_call_and_return_conditional_losses_46562) with ops with unsaved custom gradients. Will likely fail if a gradient is requested.\n",
            "WARNING:absl:Importing a function (__inference_block3a_activation_layer_call_and_return_conditional_losses_45739) with ops with unsaved custom gradients. Will likely fail if a gradient is requested.\n",
            "WARNING:absl:Importing a function (__inference_stem_activation_layer_call_and_return_conditional_losses_45248) with ops with unsaved custom gradients. Will likely fail if a gradient is requested.\n",
            "WARNING:absl:Importing a function (__inference_block7a_activation_layer_call_and_return_conditional_losses_84602) with ops with unsaved custom gradients. Will likely fail if a gradient is requested.\n",
            "WARNING:absl:Importing a function (__inference_block4b_expand_activation_layer_call_and_return_conditional_losses_80936) with ops with unsaved custom gradients. Will likely fail if a gradient is requested.\n",
            "WARNING:absl:Importing a function (__inference_block3a_activation_layer_call_and_return_conditional_losses_79886) with ops with unsaved custom gradients. Will likely fail if a gradient is requested.\n",
            "WARNING:absl:Importing a function (__inference_block5c_expand_activation_layer_call_and_return_conditional_losses_82509) with ops with unsaved custom gradients. Will likely fail if a gradient is requested.\n",
            "WARNING:absl:Importing a function (__inference_top_activation_layer_call_and_return_conditional_losses_84867) with ops with unsaved custom gradients. Will likely fail if a gradient is requested.\n",
            "WARNING:absl:Importing a function (__inference_block4a_expand_activation_layer_call_and_return_conditional_losses_46022) with ops with unsaved custom gradients. Will likely fail if a gradient is requested.\n",
            "WARNING:absl:Importing a function (__inference_block3b_activation_layer_call_and_return_conditional_losses_80244) with ops with unsaved custom gradients. Will likely fail if a gradient is requested.\n",
            "WARNING:absl:Importing a function (__inference_block5b_activation_layer_call_and_return_conditional_losses_46667) with ops with unsaved custom gradients. Will likely fail if a gradient is requested.\n",
            "WARNING:absl:Importing a function (__inference_block6b_activation_layer_call_and_return_conditional_losses_83387) with ops with unsaved custom gradients. Will likely fail if a gradient is requested.\n",
            "WARNING:absl:Importing a function (__inference_block4c_activation_layer_call_and_return_conditional_losses_81434) with ops with unsaved custom gradients. Will likely fail if a gradient is requested.\n",
            "WARNING:absl:Importing a function (__inference_block4c_activation_layer_call_and_return_conditional_losses_46360) with ops with unsaved custom gradients. Will likely fail if a gradient is requested.\n",
            "WARNING:absl:Importing a function (__inference_block3a_se_reduce_layer_call_and_return_conditional_losses_45780) with ops with unsaved custom gradients. Will likely fail if a gradient is requested.\n",
            "WARNING:absl:Importing a function (__inference_block6a_se_reduce_layer_call_and_return_conditional_losses_47037) with ops with unsaved custom gradients. Will likely fail if a gradient is requested.\n",
            "WARNING:absl:Importing a function (__inference_block6d_se_reduce_layer_call_and_return_conditional_losses_47505) with ops with unsaved custom gradients. Will likely fail if a gradient is requested.\n",
            "WARNING:absl:Importing a function (__inference_block6b_se_reduce_layer_call_and_return_conditional_losses_47183) with ops with unsaved custom gradients. Will likely fail if a gradient is requested.\n",
            "WARNING:absl:Importing a function (__inference_block3b_activation_layer_call_and_return_conditional_losses_45885) with ops with unsaved custom gradients. Will likely fail if a gradient is requested.\n",
            "WARNING:absl:Importing a function (__inference_block2b_activation_layer_call_and_return_conditional_losses_79459) with ops with unsaved custom gradients. Will likely fail if a gradient is requested.\n",
            "WARNING:absl:Importing a function (__inference_block2a_activation_layer_call_and_return_conditional_losses_79101) with ops with unsaved custom gradients. Will likely fail if a gradient is requested.\n",
            "WARNING:absl:Importing a function (__inference_block2a_activation_layer_call_and_return_conditional_losses_45425) with ops with unsaved custom gradients. Will likely fail if a gradient is requested.\n",
            "WARNING:absl:Importing a function (__inference_block6d_expand_activation_layer_call_and_return_conditional_losses_84104) with ops with unsaved custom gradients. Will likely fail if a gradient is requested.\n",
            "WARNING:absl:Importing a function (__inference_block1a_activation_layer_call_and_return_conditional_losses_45272) with ops with unsaved custom gradients. Will likely fail if a gradient is requested.\n",
            "WARNING:absl:Importing a function (__inference_block6b_se_reduce_layer_call_and_return_conditional_losses_83453) with ops with unsaved custom gradients. Will likely fail if a gradient is requested.\n",
            "WARNING:absl:Importing a function (__inference_block4c_se_reduce_layer_call_and_return_conditional_losses_81500) with ops with unsaved custom gradients. Will likely fail if a gradient is requested.\n",
            "WARNING:absl:Importing a function (__inference_top_activation_layer_call_and_return_conditional_losses_47747) with ops with unsaved custom gradients. Will likely fail if a gradient is requested.\n",
            "WARNING:absl:Importing a function (__inference_block6d_expand_activation_layer_call_and_return_conditional_losses_47440) with ops with unsaved custom gradients. Will likely fail if a gradient is requested.\n",
            "WARNING:absl:Importing a function (__inference_block3b_se_reduce_layer_call_and_return_conditional_losses_45926) with ops with unsaved custom gradients. Will likely fail if a gradient is requested.\n",
            "WARNING:absl:Importing a function (__inference_block7a_se_reduce_layer_call_and_return_conditional_losses_84668) with ops with unsaved custom gradients. Will likely fail if a gradient is requested.\n",
            "WARNING:absl:Importing a function (__inference_block6a_se_reduce_layer_call_and_return_conditional_losses_83095) with ops with unsaved custom gradients. Will likely fail if a gradient is requested.\n",
            "WARNING:absl:Importing a function (__inference_block2b_expand_activation_layer_call_and_return_conditional_losses_79366) with ops with unsaved custom gradients. Will likely fail if a gradient is requested.\n",
            "WARNING:absl:Importing a function (__inference_model_layer_call_and_return_conditional_losses_67574) with ops with unsaved custom gradients. Will likely fail if a gradient is requested.\n",
            "WARNING:absl:Importing a function (__inference_block6c_expand_activation_layer_call_and_return_conditional_losses_83699) with ops with unsaved custom gradients. Will likely fail if a gradient is requested.\n",
            "WARNING:absl:Importing a function (__inference_block5b_activation_layer_call_and_return_conditional_losses_82197) with ops with unsaved custom gradients. Will likely fail if a gradient is requested.\n",
            "WARNING:absl:Importing a function (__inference_block4c_expand_activation_layer_call_and_return_conditional_losses_46336) with ops with unsaved custom gradients. Will likely fail if a gradient is requested.\n",
            "WARNING:absl:Importing a function (__inference_efficientnetb0_layer_call_and_return_conditional_losses_76698) with ops with unsaved custom gradients. Will likely fail if a gradient is requested.\n",
            "WARNING:absl:Importing a function (__inference_block1a_se_reduce_layer_call_and_return_conditional_losses_45313) with ops with unsaved custom gradients. Will likely fail if a gradient is requested.\n",
            "WARNING:absl:Importing a function (__inference_block5c_expand_activation_layer_call_and_return_conditional_losses_46804) with ops with unsaved custom gradients. Will likely fail if a gradient is requested.\n",
            "WARNING:absl:Importing a function (__inference_block4b_expand_activation_layer_call_and_return_conditional_losses_46175) with ops with unsaved custom gradients. Will likely fail if a gradient is requested.\n",
            "WARNING:absl:Importing a function (__inference_block4a_se_reduce_layer_call_and_return_conditional_losses_46094) with ops with unsaved custom gradients. Will likely fail if a gradient is requested.\n",
            "WARNING:absl:Importing a function (__inference_block7a_se_reduce_layer_call_and_return_conditional_losses_47666) with ops with unsaved custom gradients. Will likely fail if a gradient is requested.\n",
            "WARNING:absl:Importing a function (__inference_efficientnetb0_layer_call_and_return_conditional_losses_59626) with ops with unsaved custom gradients. Will likely fail if a gradient is requested.\n"
          ]
        }
      ]
    },
    {
      "cell_type": "code",
      "metadata": {
        "colab": {
          "base_uri": "https://localhost:8080/"
        },
        "id": "qgYZOg2S2rBB",
        "outputId": "ae840eae-17f3-4de4-9da9-2bb6197ee193"
      },
      "source": [
        "loaded_model.evaluate(valid_data)"
      ],
      "execution_count": null,
      "outputs": [
        {
          "output_type": "stream",
          "name": "stdout",
          "text": [
            "790/790 [==============================] - 97s 120ms/step - loss: 1.0926 - accuracy: 0.7067\n"
          ]
        },
        {
          "output_type": "execute_result",
          "data": {
            "text/plain": [
              "[1.092574119567871, 0.7067326903343201]"
            ]
          },
          "metadata": {},
          "execution_count": 26
        }
      ]
    },
    {
      "cell_type": "code",
      "metadata": {
        "id": "XfNdfpYr5Do-"
      },
      "source": [
        "for image,label in valid_data.take(1):\n",
        "  pass"
      ],
      "execution_count": null,
      "outputs": []
    },
    {
      "cell_type": "code",
      "metadata": {
        "colab": {
          "base_uri": "https://localhost:8080/"
        },
        "id": "tp_2TI0O5xe5",
        "outputId": "d9bf3184-bd1a-479f-a3b1-e267f825660e"
      },
      "source": [
        "image_preprocess = preprocess(image,label)"
      ],
      "execution_count": null,
      "outputs": [
        {
          "output_type": "execute_result",
          "data": {
            "text/plain": [
              "<tf.Tensor: shape=(32, 224, 224, 3), dtype=float32, numpy=\n",
              "array([[[[3.68418388e+01, 1.18418369e+01, 3.28418388e+01],\n",
              "         [3.85000000e+01, 1.35000010e+01, 3.25000000e+01],\n",
              "         [4.02857132e+01, 1.32857151e+01, 3.02857132e+01],\n",
              "         ...,\n",
              "         [4.17857361e+01, 1.77857361e+01, 3.97857361e+01],\n",
              "         [4.71888084e+01, 2.51888103e+01, 4.61888084e+01],\n",
              "         [4.92856789e+01, 2.72856789e+01, 5.02856789e+01]],\n",
              "\n",
              "        [[3.79081650e+01, 1.49081650e+01, 3.49081650e+01],\n",
              "         [4.09234695e+01, 1.59234695e+01, 3.49234695e+01],\n",
              "         [4.16428566e+01, 1.46428576e+01, 3.32142868e+01],\n",
              "         ...,\n",
              "         [4.34592247e+01, 2.14286156e+01, 4.24439201e+01],\n",
              "         [4.99387894e+01, 2.81378078e+01, 4.90714684e+01],\n",
              "         [5.31173820e+01, 3.41173820e+01, 5.41173820e+01]],\n",
              "\n",
              "        [[4.45663300e+01, 1.95663280e+01, 4.05663300e+01],\n",
              "         [4.75153084e+01, 2.20867348e+01, 4.26581650e+01],\n",
              "         [4.46887779e+01, 1.75969391e+01, 3.62142868e+01],\n",
              "         ...,\n",
              "         [5.09082832e+01, 3.19082813e+01, 5.15256462e+01],\n",
              "         [6.00000267e+01, 4.14285965e+01, 6.12143135e+01],\n",
              "         [6.23520699e+01, 4.53520699e+01, 6.43520660e+01]],\n",
              "\n",
              "        ...,\n",
              "\n",
              "        [[1.00729614e+02, 1.18372429e+02, 1.15586739e+02],\n",
              "         [1.31954086e+02, 1.62627533e+02, 1.48112228e+02],\n",
              "         [1.18739731e+02, 1.60954025e+02, 1.41168304e+02],\n",
              "         ...,\n",
              "         [1.30428528e+02, 1.57428528e+02, 1.48857056e+02],\n",
              "         [1.24571472e+02, 1.56571472e+02, 1.43969391e+02],\n",
              "         [1.28234741e+02, 1.60663269e+02, 1.46887711e+02]],\n",
              "\n",
              "        [[1.07403091e+02, 1.15239754e+02, 1.15785690e+02],\n",
              "         [1.34933670e+02, 1.56081573e+02, 1.44719345e+02],\n",
              "         [1.31127594e+02, 1.64015274e+02, 1.47357147e+02],\n",
              "         ...,\n",
              "         [1.36826569e+02, 1.63285767e+02, 1.55096954e+02],\n",
              "         [1.29066345e+02, 1.59005096e+02, 1.46790771e+02],\n",
              "         [1.24617424e+02, 1.56928680e+02, 1.41168396e+02]],\n",
              "\n",
              "        [[1.12030701e+02, 1.10474495e+02, 1.13903099e+02],\n",
              "         [1.38836807e+02, 1.50622452e+02, 1.42479630e+02],\n",
              "         [1.33938751e+02, 1.57652969e+02, 1.44147903e+02],\n",
              "         ...,\n",
              "         [1.32601944e+02, 1.57448883e+02, 1.51448883e+02],\n",
              "         [1.34862228e+02, 1.63000000e+02, 1.50811188e+02],\n",
              "         [1.28902924e+02, 1.59902924e+02, 1.43902924e+02]]],\n",
              "\n",
              "\n",
              "       [[[1.10000000e+01, 1.00000000e+01, 1.60000000e+01],\n",
              "         [1.29285717e+01, 1.19285717e+01, 1.79285717e+01],\n",
              "         [1.22806120e+01, 1.12806120e+01, 1.77091846e+01],\n",
              "         ...,\n",
              "         [4.11427040e+01, 3.49284401e+01, 2.00713844e+01],\n",
              "         [2.65765057e+01, 2.15765057e+01, 1.57653151e+01],\n",
              "         [2.73419189e+01, 2.13419189e+01, 2.13419189e+01]],\n",
              "\n",
              "        [[1.10000000e+01, 1.00000000e+01, 1.60000000e+01],\n",
              "         [1.10714283e+01, 1.00714283e+01, 1.60714283e+01],\n",
              "         [1.20000000e+01, 1.10000000e+01, 1.74285717e+01],\n",
              "         ...,\n",
              "         [4.14897461e+01, 3.54744415e+01, 2.26173859e+01],\n",
              "         [2.84999485e+01, 2.34999485e+01, 1.94387398e+01],\n",
              "         [2.28571434e+01, 1.68571434e+01, 1.75714989e+01]],\n",
              "\n",
              "        [[1.10000000e+01, 1.00000000e+01, 1.60000000e+01],\n",
              "         [1.00000000e+01, 9.00000000e+00, 1.50000000e+01],\n",
              "         [1.11683674e+01, 1.01683674e+01, 1.65969391e+01],\n",
              "         ...,\n",
              "         [5.47142410e+01, 5.02091713e+01, 4.12092361e+01],\n",
              "         [4.42703400e+01, 3.94284935e+01, 3.66275101e+01],\n",
              "         [3.36376762e+01, 2.96376781e+01, 3.06376781e+01]],\n",
              "\n",
              "        ...,\n",
              "\n",
              "        [[2.22142639e+01, 3.01479073e+01, 3.45713425e+01],\n",
              "         [2.22142639e+01, 2.96427917e+01, 3.58570557e+01],\n",
              "         [2.20458908e+01, 2.98111649e+01, 3.58570557e+01],\n",
              "         ...,\n",
              "         [3.38775558e+01, 6.15255623e+01, 7.32653885e+01],\n",
              "         [3.37143555e+01, 6.32858276e+01, 7.42858276e+01],\n",
              "         [3.65714722e+01, 6.62194748e+01, 7.67092361e+01]],\n",
              "\n",
              "        [[2.44285851e+01, 3.35000267e+01, 2.82142601e+01],\n",
              "         [2.48622322e+01, 3.39336777e+01, 2.86479073e+01],\n",
              "         [2.61428452e+01, 3.51989784e+01, 3.22856483e+01],\n",
              "         ...,\n",
              "         [2.55407352e+01, 5.12855835e+01, 6.42702789e+01],\n",
              "         [2.74948044e+01, 5.12090378e+01, 6.29947128e+01],\n",
              "         [2.84539833e+01, 5.01937332e+01, 6.10457420e+01]],\n",
              "\n",
              "        [[6.74856873e+01, 7.58428574e+01, 6.01285057e+01],\n",
              "         [6.34090729e+01, 7.14090729e+01, 5.76947174e+01],\n",
              "         [5.89906540e+01, 6.98529053e+01, 5.57048683e+01],\n",
              "         ...,\n",
              "         [2.39288330e+01, 4.40613861e+01, 5.23623581e+01],\n",
              "         [2.50461082e+01, 4.13317528e+01, 4.89286499e+01],\n",
              "         [2.67298450e+01, 3.98419304e+01, 4.67143555e+01]]],\n",
              "\n",
              "\n",
              "       [[[8.70867386e+01, 9.80867386e+01, 9.20867386e+01],\n",
              "         [9.37704086e+01, 9.97704086e+01, 9.57704086e+01],\n",
              "         [1.01107140e+02, 1.00892853e+02, 9.84642868e+01],\n",
              "         ...,\n",
              "         [9.82398682e+01, 9.34541321e+01, 8.68113403e+01],\n",
              "         [9.83622208e+01, 9.33622208e+01, 8.73622208e+01],\n",
              "         [9.57755280e+01, 9.07755280e+01, 8.47755280e+01]],\n",
              "\n",
              "        [[1.01051018e+02, 1.10857147e+02, 1.05454086e+02],\n",
              "         [1.12551018e+02, 1.18551018e+02, 1.14551018e+02],\n",
              "         [1.11178574e+02, 1.12821434e+02, 1.09464287e+02],\n",
              "         ...,\n",
              "         [9.69234314e+01, 9.21376953e+01, 8.54949036e+01],\n",
              "         [9.61427612e+01, 9.11427612e+01, 8.51427612e+01],\n",
              "         [1.00133125e+02, 9.51331253e+01, 8.91331253e+01]],\n",
              "\n",
              "        [[1.16408165e+02, 1.25408165e+02, 1.22836731e+02],\n",
              "         [1.02250000e+02, 1.08250000e+02, 1.06250000e+02],\n",
              "         [1.05469391e+02, 1.09826530e+02, 1.05612244e+02],\n",
              "         ...,\n",
              "         [1.03596901e+02, 9.88111649e+01, 9.21683731e+01],\n",
              "         [9.54642487e+01, 9.04642487e+01, 8.44642487e+01],\n",
              "         [1.20475327e+02, 1.15475327e+02, 1.09475327e+02]],\n",
              "\n",
              "        ...,\n",
              "\n",
              "        [[1.12076759e+02, 5.47092781e+01, 5.48572311e+01],\n",
              "         [1.11056320e+02, 5.44847412e+01, 5.36990242e+01],\n",
              "         [1.15285912e+02, 5.84797096e+01, 5.76939735e+01],\n",
              "         ...,\n",
              "         [2.45566254e+02, 2.50688705e+02, 2.47163132e+02],\n",
              "         [2.49913315e+02, 2.54801041e+02, 2.50913315e+02],\n",
              "         [2.48867264e+02, 2.53867264e+02, 2.47867264e+02]],\n",
              "\n",
              "        [[1.36306198e+02, 7.86633987e+01, 7.51837769e+01],\n",
              "         [1.35775604e+02, 8.07195206e+01, 7.58470535e+01],\n",
              "         [1.42770508e+02, 8.49848328e+01, 8.09133911e+01],\n",
              "         ...,\n",
              "         [2.46785690e+02, 2.52785690e+02, 2.49214218e+02],\n",
              "         [2.33347000e+02, 2.38347000e+02, 2.34347000e+02],\n",
              "         [2.30066330e+02, 2.35066330e+02, 2.29066330e+02]],\n",
              "\n",
              "        [[1.42571426e+02, 9.70001373e+01, 8.86429596e+01],\n",
              "         [1.43811188e+02, 9.72858200e+01, 8.69286423e+01],\n",
              "         [1.55158295e+02, 1.05076714e+02, 9.60103607e+01],\n",
              "         ...,\n",
              "         [2.43128021e+02, 2.49128021e+02, 2.45556549e+02],\n",
              "         [2.50127380e+02, 2.53933578e+02, 2.51127380e+02],\n",
              "         [2.44454254e+02, 2.49224655e+02, 2.43454254e+02]]],\n",
              "\n",
              "\n",
              "       ...,\n",
              "\n",
              "\n",
              "       [[[1.67816330e+02, 1.29816330e+02, 6.78163300e+01],\n",
              "         [1.67974487e+02, 1.29974487e+02, 6.79744873e+01],\n",
              "         [1.77571426e+02, 1.39357132e+02, 7.80000000e+01],\n",
              "         ...,\n",
              "         [2.36923477e+02, 2.15923477e+02, 1.96923477e+02],\n",
              "         [2.32857178e+02, 2.14857178e+02, 1.94857178e+02],\n",
              "         [2.34571320e+02, 2.15571320e+02, 1.98571320e+02]],\n",
              "\n",
              "        [[1.60454086e+02, 1.22454079e+02, 6.04540787e+01],\n",
              "         [1.61729599e+02, 1.23729591e+02, 6.17295914e+01],\n",
              "         [1.76586731e+02, 1.37586731e+02, 7.85867386e+01],\n",
              "         ...,\n",
              "         [2.35142853e+02, 2.14142853e+02, 1.95142853e+02],\n",
              "         [2.33147980e+02, 2.15147980e+02, 1.95147980e+02],\n",
              "         [2.34091827e+02, 2.16091827e+02, 1.96091827e+02]],\n",
              "\n",
              "        [[1.50698990e+02, 1.10484688e+02, 5.21275520e+01],\n",
              "         [1.68357132e+02, 1.28142853e+02, 6.97857208e+01],\n",
              "         [1.78045914e+02, 1.37877548e+02, 7.93826523e+01],\n",
              "         ...,\n",
              "         [2.30214279e+02, 2.12214279e+02, 1.92214279e+02],\n",
              "         [2.33341827e+02, 2.12341827e+02, 1.92913254e+02],\n",
              "         [2.34081711e+02, 2.13081711e+02, 1.93653152e+02]],\n",
              "\n",
              "        ...,\n",
              "\n",
              "        [[1.19862434e+02, 8.25052261e+01, 4.32909622e+01],\n",
              "         [1.34984879e+02, 9.84134064e+01, 5.68419304e+01],\n",
              "         [1.29234772e+02, 9.26632996e+01, 5.03265533e+01],\n",
              "         ...,\n",
              "         [1.54331497e+02, 1.14331490e+02, 6.37600212e+01],\n",
              "         [1.56694077e+02, 1.16694077e+02, 6.49083405e+01],\n",
              "         [1.69826599e+02, 1.29612335e+02, 7.76123352e+01]],\n",
              "\n",
              "        [[1.28331635e+02, 8.93316269e+01, 4.83316269e+01],\n",
              "         [1.41719360e+02, 1.02719368e+02, 6.17193680e+01],\n",
              "         [1.41357132e+02, 1.02372444e+02, 5.93418236e+01],\n",
              "         ...,\n",
              "         [1.48398041e+02, 1.08826561e+02, 5.82550926e+01],\n",
              "         [1.58699112e+02, 1.18699104e+02, 6.66991043e+01],\n",
              "         [1.76219223e+02, 1.37219223e+02, 8.22192230e+01]],\n",
              "\n",
              "        [[1.27474319e+02, 8.54743118e+01, 4.54743118e+01],\n",
              "         [1.43234726e+02, 1.01234726e+02, 6.12347260e+01],\n",
              "         [1.43642990e+02, 1.01857285e+02, 5.94287109e+01],\n",
              "         ...,\n",
              "         [1.52086884e+02, 1.12515419e+02, 6.19439468e+01],\n",
              "         [1.64821381e+02, 1.24821381e+02, 7.28213806e+01],\n",
              "         [1.67514755e+02, 1.28514755e+02, 7.35147552e+01]]],\n",
              "\n",
              "\n",
              "       [[[2.10030609e+02, 1.68030609e+02, 1.88030609e+02],\n",
              "         [2.11061218e+02, 1.68061218e+02, 1.85892853e+02],\n",
              "         [2.11250000e+02, 1.68545914e+02, 1.81321426e+02],\n",
              "         ...,\n",
              "         [2.25102539e+01, 1.95102539e+01, 1.45102539e+01],\n",
              "         [1.89081326e+01, 1.59081335e+01, 1.09081335e+01],\n",
              "         [1.73010426e+01, 1.43010426e+01, 9.30104256e+00]],\n",
              "\n",
              "        [[2.04362244e+02, 1.65336731e+02, 1.85219391e+02],\n",
              "         [2.14438782e+02, 1.73316330e+02, 1.91596939e+02],\n",
              "         [2.20617355e+02, 1.78673477e+02, 1.92387756e+02],\n",
              "         ...,\n",
              "         [2.15713634e+01, 1.85713634e+01, 1.35713634e+01],\n",
              "         [2.09285851e+01, 1.79285851e+01, 1.29285851e+01],\n",
              "         [2.20255127e+01, 1.90255127e+01, 1.40255127e+01]],\n",
              "\n",
              "        [[2.16153061e+02, 1.77862244e+02, 2.01224503e+02],\n",
              "         [2.15637756e+02, 1.76096939e+02, 1.95438766e+02],\n",
              "         [2.14887756e+02, 1.75076538e+02, 1.92219391e+02],\n",
              "         ...,\n",
              "         [2.01377411e+01, 1.87091694e+01, 1.37091694e+01],\n",
              "         [1.59285841e+01, 1.45000134e+01, 9.50001335e+00],\n",
              "         [2.16276684e+01, 2.01990967e+01, 1.51990967e+01]],\n",
              "\n",
              "        ...,\n",
              "\n",
              "        [[5.80111647e+00, 8.80111599e+00, 1.39541845e+01],\n",
              "         [9.26533031e+00, 1.32653303e+01, 1.44081869e+01],\n",
              "         [4.84185362e+00, 9.05613995e+00, 7.41328192e+00],\n",
              "         ...,\n",
              "         [2.18521328e+01, 2.00459766e+01, 1.10918617e+01],\n",
              "         [1.93571472e+01, 1.70000305e+01, 7.78573608e+00],\n",
              "         [2.56324406e+01, 2.26324406e+01, 1.36324396e+01]],\n",
              "\n",
              "        [[5.24394836e+01, 5.54394836e+01, 6.23476677e+01],\n",
              "         [3.92333007e+00, 7.85700274e+00, 1.08570366e+01],\n",
              "         [3.63770437e+00, 8.58159542e+00, 4.35195494e+00],\n",
              "         ...,\n",
              "         [2.32296867e+01, 2.34439507e+01, 1.38724785e+01],\n",
              "         [2.07245903e+01, 2.07245903e+01, 1.07245893e+01],\n",
              "         [1.97854004e+01, 1.67854004e+01, 7.78540039e+00]],\n",
              "\n",
              "        [[1.45020203e+02, 1.49663071e+02, 1.56734497e+02],\n",
              "         [5.69487534e+01, 6.08773270e+01, 6.41120148e+01],\n",
              "         [5.33161020e+00, 1.03316107e+01, 5.90303850e+00],\n",
              "         ...,\n",
              "         [2.10509911e+01, 2.32652550e+01, 1.26937828e+01],\n",
              "         [2.54234848e+01, 2.54234848e+01, 1.54234848e+01],\n",
              "         [2.13622360e+01, 2.13622360e+01, 1.13622360e+01]]],\n",
              "\n",
              "\n",
              "       [[[2.26974503e+02, 1.94260208e+02, 1.46903061e+02],\n",
              "         [2.25280609e+02, 1.92923462e+02, 1.43209183e+02],\n",
              "         [2.17423462e+02, 1.82357132e+02, 1.33214279e+02],\n",
              "         ...,\n",
              "         [1.38398010e+02, 7.86786041e+01, 4.49797096e+01],\n",
              "         [1.34423462e+02, 6.92091675e+01, 4.38520546e+01],\n",
              "         [1.41995102e+02, 7.34236755e+01, 5.36379585e+01]],\n",
              "\n",
              "        [[2.13045914e+02, 1.87760208e+02, 1.46877563e+02],\n",
              "         [2.01214279e+02, 1.73000000e+02, 1.32780609e+02],\n",
              "         [1.93525497e+02, 1.65081635e+02, 1.24668365e+02],\n",
              "         ...,\n",
              "         [1.28938675e+02, 1.01137634e+02, 8.90662537e+01],\n",
              "         [1.35148010e+02, 1.04928604e+02, 1.00433731e+02],\n",
              "         [1.34724335e+02, 1.02438622e+02, 1.00081474e+02]],\n",
              "\n",
              "        [[2.20780609e+02, 2.02209183e+02, 1.71494904e+02],\n",
              "         [2.17642853e+02, 1.99071426e+02, 1.68357147e+02],\n",
              "         [2.23076538e+02, 2.02290817e+02, 1.72576538e+02],\n",
              "         ...,\n",
              "         [1.18372406e+02, 1.10586693e+02, 1.07561195e+02],\n",
              "         [1.22158195e+02, 1.11372475e+02, 1.14301048e+02],\n",
              "         [1.25331627e+02, 1.12545914e+02, 1.18045914e+02]],\n",
              "\n",
              "        ...,\n",
              "\n",
              "        [[1.09178368e+02, 2.13058300e+01, 9.31096840e+00],\n",
              "         [9.08674393e+01, 1.68928013e+01, 4.08149242e-01],\n",
              "         [9.78775406e+01, 4.11479301e+01, 2.08419266e+01],\n",
              "         ...,\n",
              "         [1.27689003e+02, 9.17603226e+01, 8.23317947e+01],\n",
              "         [1.30214203e+02, 9.22142029e+01, 7.92142029e+01],\n",
              "         [1.17439102e+02, 7.84391022e+01, 6.34391022e+01]],\n",
              "\n",
              "        [[1.04081703e+02, 9.79593372e+00, 4.23481494e-01],\n",
              "         [9.94695282e+01, 9.67861938e+00, 6.63386956e-02],\n",
              "         [6.98214264e+01, 8.86731243e+00, 4.13262749e+00],\n",
              "         ...,\n",
              "         [1.27117607e+02, 9.11736221e+01, 8.17757034e+01],\n",
              "         [1.31607071e+02, 9.36070786e+01, 8.06070786e+01],\n",
              "         [1.22591789e+02, 8.35917892e+01, 6.85917892e+01]],\n",
              "\n",
              "        [[1.16158218e+02, 1.46989918e+01, 5.64289188e+00],\n",
              "         [1.28030960e+02, 2.56278076e+01, 1.39135580e+01],\n",
              "         [7.22958603e+01, 8.36221600e+00, 7.90820217e+00],\n",
              "         ...,\n",
              "         [1.21591797e+02, 8.54488525e+01, 7.64488525e+01],\n",
              "         [1.22750092e+02, 8.47500916e+01, 7.17500916e+01],\n",
              "         [1.21540794e+02, 8.25407944e+01, 6.75407944e+01]]]],\n",
              "      dtype=float32)>"
            ]
          },
          "metadata": {},
          "execution_count": 47
        }
      ]
    },
    {
      "cell_type": "code",
      "metadata": {
        "id": "Q_HebFGH5zFW"
      },
      "source": [
        "prob = loaded_model.predict(image_preprocess[0])"
      ],
      "execution_count": null,
      "outputs": []
    },
    {
      "cell_type": "code",
      "metadata": {
        "colab": {
          "base_uri": "https://localhost:8080/"
        },
        "id": "Qk_d4xlb_txC",
        "outputId": "f7d46001-6729-448c-ce7b-af2a3222ec55"
      },
      "source": [
        "prob[0].argmax()"
      ],
      "execution_count": null,
      "outputs": [
        {
          "output_type": "execute_result",
          "data": {
            "text/plain": [
              "22"
            ]
          },
          "metadata": {},
          "execution_count": 61
        }
      ]
    },
    {
      "cell_type": "code",
      "metadata": {
        "colab": {
          "base_uri": "https://localhost:8080/",
          "height": 35
        },
        "id": "TxYACjqmAESi",
        "outputId": "0ef9606f-4750-4c2a-da77-197b298dff6a"
      },
      "source": [
        "class_names[22]"
      ],
      "execution_count": null,
      "outputs": [
        {
          "output_type": "execute_result",
          "data": {
            "application/vnd.google.colaboratory.intrinsic+json": {
              "type": "string"
            },
            "text/plain": [
              "'chocolate_mousse'"
            ]
          },
          "metadata": {},
          "execution_count": 62
        }
      ]
    },
    {
      "cell_type": "code",
      "metadata": {
        "id": "dVevvCtdAGnq"
      },
      "source": [
        ""
      ],
      "execution_count": null,
      "outputs": []
    }
  ]
}